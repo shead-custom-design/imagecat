{
 "cells": [
  {
   "cell_type": "code",
   "execution_count": 1,
   "metadata": {},
   "outputs": [],
   "source": [
    "import logging\n",
    "logging.basicConfig(level=logging.DEBUG)\n",
    "\n",
    "import graphcat.notebook\n",
    "import imagecat.notebook"
   ]
  },
  {
   "cell_type": "code",
   "execution_count": 2,
   "metadata": {},
   "outputs": [
    {
     "data": {
      "image/svg+xml": [
       "<svg height=\"126pt\" viewBox=\"0.00 0.00 224.80 126.00\" width=\"225pt\" xmlns=\"http://www.w3.org/2000/svg\" xmlns:xlink=\"http://www.w3.org/1999/xlink\">\n",
       "<g class=\"graph\" id=\"graph0\" transform=\"scale(1 1) rotate(0) translate(4 122)\">\n",
       "<title>%3</title>\n",
       "<polygon fill=\"white\" points=\"-4,4 -4,-122 220.803,-122 220.803,4 -4,4\" stroke=\"none\"/>\n",
       "<!-- /text -->\n",
       "<g class=\"node\" id=\"node1\"><title>/text</title>\n",
       "<polygon fill=\"white\" points=\"125.848,-66 96.8477,-66 96.8477,-52 125.848,-52 125.848,-66\" stroke=\"#494744\"/>\n",
       "<text fill=\"#494744\" font-family=\"Helvetica,sans-Serif\" font-size=\"8.00\" text-anchor=\"middle\" x=\"111.348\" y=\"-56.6\">/text</text>\n",
       "</g>\n",
       "<!-- /gaussian -->\n",
       "<g class=\"node\" id=\"node2\"><title>/gaussian</title>\n",
       "<polygon fill=\"white\" points=\"94.5944,-14 48.1009,-14 48.1009,-0 94.5944,-0 94.5944,-14\" stroke=\"#494744\"/>\n",
       "<text fill=\"#494744\" font-family=\"Helvetica,sans-Serif\" font-size=\"8.00\" text-anchor=\"middle\" x=\"71.3477\" y=\"-4.6\">/gaussian</text>\n",
       "</g>\n",
       "<!-- /text&#45;&gt;/gaussian -->\n",
       "<g class=\"edge\" id=\"edge1\"><title>/text-&gt;/gaussian</title>\n",
       "<path d=\"M106.443,-51.869C100.565,-44.5218 90.5287,-31.9763 82.6905,-22.1786\" fill=\"none\" stroke=\"#494744\"/>\n",
       "<polygon fill=\"#494744\" points=\"85.2726,-19.8034 76.2926,-14.1811 79.8065,-24.1763 85.2726,-19.8034\" stroke=\"#494744\"/>\n",
       "<text font-family=\"Helvetica,sans-Serif\" font-size=\"8.00\" text-anchor=\"middle\" x=\"105.242\" y=\"-30.6\">image</text>\n",
       "</g>\n",
       "<!-- /text/fontname -->\n",
       "<g class=\"node\" id=\"node3\"><title>/text/fontname</title>\n",
       "<polygon fill=\"white\" points=\"62.5437,-118 0.151607,-118 0.151607,-104 62.5437,-104 62.5437,-118\" stroke=\"#494744\"/>\n",
       "<text fill=\"#494744\" font-family=\"Helvetica,sans-Serif\" font-size=\"8.00\" text-anchor=\"middle\" x=\"31.3477\" y=\"-108.6\">/text/fontname</text>\n",
       "</g>\n",
       "<!-- /text/fontname&#45;&gt;/text -->\n",
       "<g class=\"edge\" id=\"edge2\"><title>/text/fontname-&gt;/text</title>\n",
       "<path d=\"M40.0243,-103.78C48.5411,-97.7508 61.9669,-88.4503 73.9922,-81 79.5024,-77.5862 85.5887,-74.0637 91.2208,-70.9019\" fill=\"none\" stroke=\"#494744\"/>\n",
       "<polygon fill=\"#494744\" points=\"93.027,-73.9027 100.088,-66.0042 89.6426,-67.7752 93.027,-73.9027\" stroke=\"#494744\"/>\n",
       "<text font-family=\"Helvetica,sans-Serif\" font-size=\"8.00\" text-anchor=\"middle\" x=\"91.0254\" y=\"-82.6\">fontname</text>\n",
       "</g>\n",
       "<!-- /text/fontindex -->\n",
       "<g class=\"node\" id=\"node4\"><title>/text/fontindex</title>\n",
       "<polygon fill=\"white\" points=\"142.157,-118 80.5388,-118 80.5388,-104 142.157,-104 142.157,-118\" stroke=\"#494744\"/>\n",
       "<text fill=\"#494744\" font-family=\"Helvetica,sans-Serif\" font-size=\"8.00\" text-anchor=\"middle\" x=\"111.348\" y=\"-108.6\">/text/fontindex</text>\n",
       "</g>\n",
       "<!-- /text/fontindex&#45;&gt;/text -->\n",
       "<g class=\"edge\" id=\"edge3\"><title>/text/fontindex-&gt;/text</title>\n",
       "<path d=\"M111.348,-103.869C111.348,-97.0466 111.348,-85.742 111.348,-76.3173\" fill=\"none\" stroke=\"#494744\"/>\n",
       "<polygon fill=\"#494744\" points=\"114.848,-76.1811 111.348,-66.1811 107.848,-76.1812 114.848,-76.1811\" stroke=\"#494744\"/>\n",
       "<text font-family=\"Helvetica,sans-Serif\" font-size=\"8.00\" text-anchor=\"middle\" x=\"127.582\" y=\"-82.6\">fontindex</text>\n",
       "</g>\n",
       "<!-- /text/fontsize -->\n",
       "<g class=\"node\" id=\"node5\"><title>/text/fontsize</title>\n",
       "<polygon fill=\"white\" points=\"216.758,-118 159.937,-118 159.937,-104 216.758,-104 216.758,-118\" stroke=\"#494744\"/>\n",
       "<text fill=\"#494744\" font-family=\"Helvetica,sans-Serif\" font-size=\"8.00\" text-anchor=\"middle\" x=\"188.348\" y=\"-108.6\">/text/fontsize</text>\n",
       "</g>\n",
       "<!-- /text/fontsize&#45;&gt;/text -->\n",
       "<g class=\"edge\" id=\"edge4\"><title>/text/fontsize-&gt;/text</title>\n",
       "<path d=\"M180.015,-103.782C171.834,-97.7545 158.932,-88.4551 147.348,-81 142.176,-77.6715 136.47,-74.2382 131.154,-71.1367\" fill=\"none\" stroke=\"#494744\"/>\n",
       "<polygon fill=\"#494744\" points=\"132.624,-67.9448 122.208,-66.0064 129.141,-74.0173 132.624,-67.9448\" stroke=\"#494744\"/>\n",
       "<text font-family=\"Helvetica,sans-Serif\" font-size=\"8.00\" text-anchor=\"middle\" x=\"173.133\" y=\"-82.6\">fontsize</text>\n",
       "</g>\n",
       "<!-- /gaussian/radius -->\n",
       "<g class=\"node\" id=\"node6\"><title>/gaussian/radius</title>\n",
       "<polygon fill=\"white\" points=\"78.6059,-66 8.08937,-66 8.08937,-52 78.6059,-52 78.6059,-66\" stroke=\"#494744\"/>\n",
       "<text fill=\"#494744\" font-family=\"Helvetica,sans-Serif\" font-size=\"8.00\" text-anchor=\"middle\" x=\"43.3477\" y=\"-56.6\">/gaussian/radius</text>\n",
       "</g>\n",
       "<!-- /gaussian/radius&#45;&gt;/gaussian -->\n",
       "<g class=\"edge\" id=\"edge5\"><title>/gaussian/radius-&gt;/gaussian</title>\n",
       "<path d=\"M45.5379,-51.5642C47.7068,-45.5413 51.3122,-36.3887 55.5586,-29 56.7774,-26.8792 58.1784,-24.7255 59.6318,-22.6457\" fill=\"none\" stroke=\"#494744\"/>\n",
       "<polygon fill=\"#494744\" points=\"62.6814,-24.4166 65.9347,-14.3336 57.1036,-20.187 62.6814,-24.4166\" stroke=\"#494744\"/>\n",
       "<text font-family=\"Helvetica,sans-Serif\" font-size=\"8.00\" text-anchor=\"middle\" x=\"67.2422\" y=\"-30.6\">radius</text>\n",
       "</g>\n",
       "</g>\n",
       "</svg>"
      ],
      "text/plain": [
       "<IPython.core.display.SVG object>"
      ]
     },
     "metadata": {},
     "output_type": "display_data"
    },
    {
     "name": "stderr",
     "output_type": "stream",
     "text": [
      "INFO:imagecat:Task /text text:\n",
      "INFO:imagecat:  anchor: mm\n",
      "INFO:imagecat:  fontindex: 4\n",
      "INFO:imagecat:  fontname: HelveticaNeue\n",
      "INFO:imagecat:  fontsize: 0.33vh\n",
      "INFO:imagecat:  layer: A\n",
      "INFO:imagecat:  position: ('0.5vw', '0.5vh')\n",
      "INFO:imagecat:  size: [256 256]\n",
      "INFO:imagecat:  text: Text!\n",
      "INFO:imagecat:  output: Image(A: Layer(256x256x1 float16 [''] Role.NONE))\n",
      "INFO:imagecat:Task /gaussian gaussian:\n",
      "INFO:imagecat:  layers: *\n",
      "INFO:imagecat:  radius: [0, '10px']\n",
      "INFO:imagecat:  output: Image(A: Layer(256x256x1 float16 [''] Role.NONE))\n"
     ]
    },
    {
     "data": {
      "text/html": [
       "<div style='display: flex; flex-flow: row wrap; text-align: center'><figure style='margin: 5px'><image src='data:image/png;base64,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' style='width:None; height:None; box-shadow: 4px 4px 6px rgba(0, 0, 0, 0.5)'/><figcaption>A <small>256&times;256&times;1 float16 Role.NONE</small></figcaption></figure></div>"
      ],
      "text/plain": [
       "<IPython.core.display.HTML object>"
      ]
     },
     "metadata": {},
     "output_type": "display_data"
    }
   ],
   "source": [
    "graph = graphcat.Graph()\n",
    "imagecat.add_operation(graph, \"/text\", imagecat.text, fontname=\"HelveticaNeue\", fontindex=4, fontsize=\"0.33vh\")\n",
    "imagecat.add_operation(graph, \"/gaussian\", imagecat.gaussian, radius=[0, \"10px\"])\n",
    "graph.set_links(\"/text\", (\"/gaussian\", \"image\"))\n",
    "\n",
    "graphcat.notebook.display(graph)\n",
    "imagecat.notebook.display(graph.output(\"/gaussian\"))"
   ]
  }
 ],
 "metadata": {
  "kernelspec": {
   "display_name": "Python 3",
   "language": "python",
   "name": "python3"
  },
  "language_info": {
   "codemirror_mode": {
    "name": "ipython",
    "version": 3
   },
   "file_extension": ".py",
   "mimetype": "text/x-python",
   "name": "python",
   "nbconvert_exporter": "python",
   "pygments_lexer": "ipython3",
   "version": "3.7.7"
  }
 },
 "nbformat": 4,
 "nbformat_minor": 4
}
