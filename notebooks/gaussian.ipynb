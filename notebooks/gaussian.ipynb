{
 "cells": [
  {
   "cell_type": "code",
   "execution_count": 1,
   "metadata": {},
   "outputs": [],
   "source": [
    "import logging\n",
    "logging.basicConfig(level=logging.DEBUG)\n",
    "\n",
    "import graphcat.notebook\n",
    "import imagecat.notebook"
   ]
  },
  {
   "cell_type": "code",
   "execution_count": 13,
   "metadata": {},
   "outputs": [
    {
     "data": {
      "image/svg+xml": [
       "<svg height=\"126pt\" viewBox=\"0.00 0.00 224.80 126.00\" width=\"225pt\" xmlns=\"http://www.w3.org/2000/svg\" xmlns:xlink=\"http://www.w3.org/1999/xlink\">\n",
       "<g class=\"graph\" id=\"graph0\" transform=\"scale(1 1) rotate(0) translate(4 122)\">\n",
       "<title>%3</title>\n",
       "<polygon fill=\"white\" points=\"-4,4 -4,-122 220.803,-122 220.803,4 -4,4\" stroke=\"none\"/>\n",
       "<!-- /text -->\n",
       "<g class=\"node\" id=\"node1\"><title>/text</title>\n",
       "<polygon fill=\"white\" points=\"125.848,-66 96.8477,-66 96.8477,-52 125.848,-52 125.848,-66\" stroke=\"#494744\"/>\n",
       "<text fill=\"#494744\" font-family=\"Helvetica,sans-Serif\" font-size=\"8.00\" text-anchor=\"middle\" x=\"111.348\" y=\"-56.6\">/text</text>\n",
       "</g>\n",
       "<!-- /gaussian -->\n",
       "<g class=\"node\" id=\"node2\"><title>/gaussian</title>\n",
       "<polygon fill=\"white\" points=\"94.5944,-14 48.1009,-14 48.1009,-0 94.5944,-0 94.5944,-14\" stroke=\"#494744\"/>\n",
       "<text fill=\"#494744\" font-family=\"Helvetica,sans-Serif\" font-size=\"8.00\" text-anchor=\"middle\" x=\"71.3477\" y=\"-4.6\">/gaussian</text>\n",
       "</g>\n",
       "<!-- /text&#45;&gt;/gaussian -->\n",
       "<g class=\"edge\" id=\"edge1\"><title>/text-&gt;/gaussian</title>\n",
       "<path d=\"M106.443,-51.869C100.565,-44.5218 90.5287,-31.9763 82.6905,-22.1786\" fill=\"none\" stroke=\"#494744\"/>\n",
       "<polygon fill=\"#494744\" points=\"85.2726,-19.8034 76.2926,-14.1811 79.8065,-24.1763 85.2726,-19.8034\" stroke=\"#494744\"/>\n",
       "<text font-family=\"Helvetica,sans-Serif\" font-size=\"8.00\" text-anchor=\"middle\" x=\"104.242\" y=\"-30.6\">image</text>\n",
       "</g>\n",
       "<!-- /text/fontname -->\n",
       "<g class=\"node\" id=\"node3\"><title>/text/fontname</title>\n",
       "<polygon fill=\"white\" points=\"62.5437,-118 0.151607,-118 0.151607,-104 62.5437,-104 62.5437,-118\" stroke=\"#494744\"/>\n",
       "<text fill=\"#494744\" font-family=\"Helvetica,sans-Serif\" font-size=\"8.00\" text-anchor=\"middle\" x=\"31.3477\" y=\"-108.6\">/text/fontname</text>\n",
       "</g>\n",
       "<!-- /text/fontname&#45;&gt;/text -->\n",
       "<g class=\"edge\" id=\"edge2\"><title>/text/fontname-&gt;/text</title>\n",
       "<path d=\"M40.0243,-103.78C48.5411,-97.7508 61.9669,-88.4503 73.9922,-81 79.5024,-77.5862 85.5887,-74.0637 91.2208,-70.9019\" fill=\"none\" stroke=\"#494744\"/>\n",
       "<polygon fill=\"#494744\" points=\"93.027,-73.9027 100.088,-66.0042 89.6426,-67.7752 93.027,-73.9027\" stroke=\"#494744\"/>\n",
       "<text font-family=\"Helvetica,sans-Serif\" font-size=\"8.00\" text-anchor=\"middle\" x=\"90.0254\" y=\"-82.6\">fontname</text>\n",
       "</g>\n",
       "<!-- /text/fontindex -->\n",
       "<g class=\"node\" id=\"node4\"><title>/text/fontindex</title>\n",
       "<polygon fill=\"white\" points=\"142.157,-118 80.5388,-118 80.5388,-104 142.157,-104 142.157,-118\" stroke=\"#494744\"/>\n",
       "<text fill=\"#494744\" font-family=\"Helvetica,sans-Serif\" font-size=\"8.00\" text-anchor=\"middle\" x=\"111.348\" y=\"-108.6\">/text/fontindex</text>\n",
       "</g>\n",
       "<!-- /text/fontindex&#45;&gt;/text -->\n",
       "<g class=\"edge\" id=\"edge3\"><title>/text/fontindex-&gt;/text</title>\n",
       "<path d=\"M111.348,-103.869C111.348,-97.0466 111.348,-85.742 111.348,-76.3173\" fill=\"none\" stroke=\"#494744\"/>\n",
       "<polygon fill=\"#494744\" points=\"114.848,-76.1811 111.348,-66.1811 107.848,-76.1812 114.848,-76.1811\" stroke=\"#494744\"/>\n",
       "<text font-family=\"Helvetica,sans-Serif\" font-size=\"8.00\" text-anchor=\"middle\" x=\"127.582\" y=\"-82.6\">fontindex</text>\n",
       "</g>\n",
       "<!-- /text/fontsize -->\n",
       "<g class=\"node\" id=\"node5\"><title>/text/fontsize</title>\n",
       "<polygon fill=\"white\" points=\"216.758,-118 159.937,-118 159.937,-104 216.758,-104 216.758,-118\" stroke=\"#494744\"/>\n",
       "<text fill=\"#494744\" font-family=\"Helvetica,sans-Serif\" font-size=\"8.00\" text-anchor=\"middle\" x=\"188.348\" y=\"-108.6\">/text/fontsize</text>\n",
       "</g>\n",
       "<!-- /text/fontsize&#45;&gt;/text -->\n",
       "<g class=\"edge\" id=\"edge4\"><title>/text/fontsize-&gt;/text</title>\n",
       "<path d=\"M180.015,-103.782C171.834,-97.7545 158.932,-88.4551 147.348,-81 142.176,-77.6715 136.47,-74.2382 131.154,-71.1367\" fill=\"none\" stroke=\"#494744\"/>\n",
       "<polygon fill=\"#494744\" points=\"132.624,-67.9448 122.208,-66.0064 129.141,-74.0173 132.624,-67.9448\" stroke=\"#494744\"/>\n",
       "<text font-family=\"Helvetica,sans-Serif\" font-size=\"8.00\" text-anchor=\"middle\" x=\"172.133\" y=\"-82.6\">fontsize</text>\n",
       "</g>\n",
       "<!-- /gaussian/sigma -->\n",
       "<g class=\"node\" id=\"node6\"><title>/gaussian/sigma</title>\n",
       "<polygon fill=\"white\" points=\"79.1565,-66 9.5388,-66 9.5388,-52 79.1565,-52 79.1565,-66\" stroke=\"#494744\"/>\n",
       "<text fill=\"#494744\" font-family=\"Helvetica,sans-Serif\" font-size=\"8.00\" text-anchor=\"middle\" x=\"44.3477\" y=\"-56.6\">/gaussian/sigma</text>\n",
       "</g>\n",
       "<!-- /gaussian/sigma&#45;&gt;/gaussian -->\n",
       "<g class=\"edge\" id=\"edge5\"><title>/gaussian/sigma-&gt;/gaussian</title>\n",
       "<path d=\"M46.4151,-51.5703C48.4691,-45.5517 51.9005,-36.4021 56.0078,-29 57.1825,-26.883 58.5382,-24.7314 59.9475,-22.6526\" fill=\"none\" stroke=\"#494744\"/>\n",
       "<polygon fill=\"#494744\" points=\"62.9582,-24.4669 66.0724,-14.34 57.3228,-20.3145 62.9582,-24.4669\" stroke=\"#494744\"/>\n",
       "<text font-family=\"Helvetica,sans-Serif\" font-size=\"8.00\" text-anchor=\"middle\" x=\"67.0176\" y=\"-30.6\">sigma</text>\n",
       "</g>\n",
       "</g>\n",
       "</svg>"
      ],
      "text/plain": [
       "<IPython.core.display.SVG object>"
      ]
     },
     "metadata": {},
     "output_type": "display_data"
    },
    {
     "name": "stderr",
     "output_type": "stream",
     "text": [
      "INFO:imagecat:Task /text text anchor mm fontindex 4 fontname HelveticaNeue fontsize 0.33vh plane A position ('0.5vw', '0.5vh') size [256 256] result A(256x256x1 float16)\n",
      "INFO:imagecat:Task /gaussian gaussian * 1px result A(256x256x1 float16)\n"
     ]
    },
    {
     "data": {
      "text/html": [
       "<div style='display: flex; flex-flow: row wrap; text-align: center'><figure style='margin: 5px'><image src='data:image/png;base64,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' style='width:None; height:None'/><figcaption>A <small>256&times;256&times;1 float16</small></figcaption></figure></div>"
      ],
      "text/plain": [
       "<IPython.core.display.HTML object>"
      ]
     },
     "metadata": {},
     "output_type": "display_data"
    }
   ],
   "source": [
    "graph = graphcat.Graph()\n",
    "imagecat.add_operation(graph, \"/text\", imagecat.text, fontname=\"HelveticaNeue\", fontindex=4, fontsize=\"0.33vh\")\n",
    "imagecat.add_operation(graph, \"/gaussian\", imagecat.gaussian, sigma=\"1px\")\n",
    "graph.set_links(\"/text\", (\"/gaussian\", \"image\"))\n",
    "\n",
    "graphcat.notebook.display(graph)\n",
    "imagecat.notebook.display(graph.output(\"/gaussian\"))"
   ]
  },
  {
   "cell_type": "code",
   "execution_count": null,
   "metadata": {},
   "outputs": [],
   "source": []
  }
 ],
 "metadata": {
  "kernelspec": {
   "display_name": "Python 3",
   "language": "python",
   "name": "python3"
  },
  "language_info": {
   "codemirror_mode": {
    "name": "ipython",
    "version": 3
   },
   "file_extension": ".py",
   "mimetype": "text/x-python",
   "name": "python",
   "nbconvert_exporter": "python",
   "pygments_lexer": "ipython3",
   "version": "3.7.7"
  }
 },
 "nbformat": 4,
 "nbformat_minor": 4
}
