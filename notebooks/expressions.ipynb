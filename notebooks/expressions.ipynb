{
 "cells": [
  {
   "cell_type": "code",
   "execution_count": 1,
   "metadata": {},
   "outputs": [],
   "source": [
    "import logging\n",
    "logging.basicConfig(level=logging.INFO)\n",
    "\n",
    "import graphcat.notebook\n",
    "import imagecat.notebook"
   ]
  },
  {
   "cell_type": "code",
   "execution_count": 6,
   "metadata": {},
   "outputs": [
    {
     "name": "stderr",
     "output_type": "stream",
     "text": [
      "INFO:imagecat.operator:Task /fill fill:\n",
      "INFO:imagecat.operator:  components: ['r', 'g', 'b']\n",
      "INFO:imagecat.operator:  layer: C\n",
      "INFO:imagecat.operator:  res: [256 128]\n",
      "INFO:imagecat.operator:  role: Role.RGB\n",
      "INFO:imagecat.operator:  values: [1 1 1]\n",
      "INFO:imagecat.operator:  output: Image(C: Layer(256x128x3 float16 ['r', 'g', 'b'] Role.RGB))\n"
     ]
    },
    {
     "name": "stdout",
     "output_type": "stream",
     "text": [
      "Role.RGB\n"
     ]
    }
   ],
   "source": [
    "graph = graphcat.Graph()\n",
    "imagecat.add_task(graph, \"/fill\", imagecat.operator.fill, res=(256, 128))\n",
    "imagecat.set_expression(graph, \"/expr\", \"out('/fill').layers['C'].role\")\n",
    "print(graph.output(\"/expr\"))"
   ]
  },
  {
   "cell_type": "code",
   "execution_count": null,
   "metadata": {},
   "outputs": [],
   "source": []
  }
 ],
 "metadata": {
  "kernelspec": {
   "display_name": "Python 3",
   "language": "python",
   "name": "python3"
  },
  "language_info": {
   "codemirror_mode": {
    "name": "ipython",
    "version": 3
   },
   "file_extension": ".py",
   "mimetype": "text/x-python",
   "name": "python",
   "nbconvert_exporter": "python",
   "pygments_lexer": "ipython3",
   "version": "3.7.7"
  }
 },
 "nbformat": 4,
 "nbformat_minor": 4
}
