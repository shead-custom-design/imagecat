{
 "cells": [
  {
   "cell_type": "code",
   "execution_count": 1,
   "metadata": {},
   "outputs": [],
   "source": [
    "import logging\n",
    "logging.basicConfig(level=logging.DEBUG)\n",
    "\n",
    "import graphcat.notebook\n",
    "import imagecat.notebook"
   ]
  },
  {
   "cell_type": "code",
   "execution_count": 6,
   "metadata": {},
   "outputs": [
    {
     "data": {
      "image/svg+xml": [
       "<svg height=\"126pt\" viewBox=\"0.00 0.00 150.69 126.00\" width=\"151pt\" xmlns=\"http://www.w3.org/2000/svg\" xmlns:xlink=\"http://www.w3.org/1999/xlink\">\n",
       "<g class=\"graph\" id=\"graph0\" transform=\"scale(1 1) rotate(0) translate(4 122)\">\n",
       "<title>%3</title>\n",
       "<polygon fill=\"white\" points=\"-4,4 -4,-122 146.686,-122 146.686,4 -4,4\" stroke=\"none\"/>\n",
       "<!-- /solid -->\n",
       "<g class=\"node\" id=\"node1\"><title>/solid</title>\n",
       "<polygon fill=\"white\" points=\"97.8513,-66 67.4964,-66 67.4964,-52 97.8513,-52 97.8513,-66\" stroke=\"#494744\"/>\n",
       "<text fill=\"#494744\" font-family=\"Helvetica,sans-Serif\" font-size=\"8.00\" text-anchor=\"middle\" x=\"82.6738\" y=\"-56.6\">/solid</text>\n",
       "</g>\n",
       "<!-- /scale -->\n",
       "<g class=\"node\" id=\"node2\"><title>/scale</title>\n",
       "<polygon fill=\"white\" points=\"64.0724,-14 31.2752,-14 31.2752,-0 64.0724,-0 64.0724,-14\" stroke=\"#494744\"/>\n",
       "<text fill=\"#494744\" font-family=\"Helvetica,sans-Serif\" font-size=\"8.00\" text-anchor=\"middle\" x=\"47.6738\" y=\"-4.6\">/scale</text>\n",
       "</g>\n",
       "<!-- /solid&#45;&gt;/scale -->\n",
       "<g class=\"edge\" id=\"edge1\"><title>/solid-&gt;/scale</title>\n",
       "<path d=\"M78.3821,-51.869C73.2916,-44.5968 64.6361,-32.2318 57.8094,-22.4794\" fill=\"none\" stroke=\"#494744\"/>\n",
       "<polygon fill=\"#494744\" points=\"60.6026,-20.3663 52.0006,-14.1811 54.868,-24.3806 60.6026,-20.3663\" stroke=\"#494744\"/>\n",
       "<text font-family=\"Helvetica,sans-Serif\" font-size=\"8.00\" text-anchor=\"middle\" x=\"78.5684\" y=\"-30.6\">image</text>\n",
       "</g>\n",
       "<!-- /solid/size -->\n",
       "<g class=\"node\" id=\"node3\"><title>/solid/size</title>\n",
       "<polygon fill=\"white\" points=\"72.299,-118 25.0487,-118 25.0487,-104 72.299,-104 72.299,-118\" stroke=\"#494744\"/>\n",
       "<text fill=\"#494744\" font-family=\"Helvetica,sans-Serif\" font-size=\"8.00\" text-anchor=\"middle\" x=\"48.6738\" y=\"-108.6\">/solid/size</text>\n",
       "</g>\n",
       "<!-- /solid/size&#45;&gt;/solid -->\n",
       "<g class=\"edge\" id=\"edge2\"><title>/solid/size-&gt;/solid</title>\n",
       "<path d=\"M52.8429,-103.869C57.788,-96.5968 66.1962,-84.2318 72.8279,-74.4794\" fill=\"none\" stroke=\"#494744\"/>\n",
       "<polygon fill=\"#494744\" points=\"75.7418,-76.4185 78.4707,-66.1811 69.9533,-72.4823 75.7418,-76.4185\" stroke=\"#494744\"/>\n",
       "<text font-family=\"Helvetica,sans-Serif\" font-size=\"8.00\" text-anchor=\"middle\" x=\"75.7871\" y=\"-82.6\">size</text>\n",
       "</g>\n",
       "<!-- /solid/value -->\n",
       "<g class=\"node\" id=\"node4\"><title>/solid/value</title>\n",
       "<polygon fill=\"white\" points=\"142.697,-118 90.6504,-118 90.6504,-104 142.697,-104 142.697,-118\" stroke=\"#494744\"/>\n",
       "<text fill=\"#494744\" font-family=\"Helvetica,sans-Serif\" font-size=\"8.00\" text-anchor=\"middle\" x=\"116.674\" y=\"-108.6\">/solid/value</text>\n",
       "</g>\n",
       "<!-- /solid/value&#45;&gt;/solid -->\n",
       "<g class=\"edge\" id=\"edge3\"><title>/solid/value-&gt;/solid</title>\n",
       "<path d=\"M112.505,-103.869C107.56,-96.5968 99.1515,-84.2318 92.5198,-74.4794\" fill=\"none\" stroke=\"#494744\"/>\n",
       "<polygon fill=\"#494744\" points=\"95.3944,-72.4823 86.877,-66.1811 89.6059,-76.4185 95.3944,-72.4823\" stroke=\"#494744\"/>\n",
       "<text font-family=\"Helvetica,sans-Serif\" font-size=\"8.00\" text-anchor=\"middle\" x=\"111.236\" y=\"-82.6\">value</text>\n",
       "</g>\n",
       "<!-- /scale/size -->\n",
       "<g class=\"node\" id=\"node5\"><title>/scale/size</title>\n",
       "<polygon fill=\"#494744\" points=\"49.5227,-66 -0.175061,-66 -0.175061,-52 49.5227,-52 49.5227,-66\" stroke=\"#494744\"/>\n",
       "<text fill=\"white\" font-family=\"Helvetica,sans-Serif\" font-size=\"8.00\" text-anchor=\"middle\" x=\"24.6738\" y=\"-56.6\">/scale/size</text>\n",
       "</g>\n",
       "<!-- /scale/size&#45;&gt;/scale -->\n",
       "<g class=\"edge\" id=\"edge4\"><title>/scale/size-&gt;/scale</title>\n",
       "<path d=\"M26.6825,-51.6496C28.6499,-45.687 31.8673,-36.5753 35.4473,-29 36.3666,-27.0547 37.4048,-25.0511 38.4782,-23.0895\" fill=\"none\" stroke=\"#494744\"/>\n",
       "<polygon fill=\"#494744\" points=\"41.7115,-24.4946 43.7489,-14.0975 35.6724,-20.9548 41.7115,-24.4946\" stroke=\"#494744\"/>\n",
       "<text font-family=\"Helvetica,sans-Serif\" font-size=\"8.00\" text-anchor=\"middle\" x=\"42.7871\" y=\"-30.6\">size</text>\n",
       "</g>\n",
       "</g>\n",
       "</svg>"
      ],
      "text/plain": [
       "<IPython.core.display.SVG object>"
      ]
     },
     "metadata": {},
     "output_type": "display_data"
    }
   ],
   "source": [
    "graph = graphcat.Graph()\n",
    "imagecat.add_operation(graph, \"/solid\", imagecat.solid, size=(256, 128), value=(1, 0, 0))\n",
    "imagecat.set_expression(graph, \"/scale/size\", \"'1vw', '2vh'\")\n",
    "imagecat.add_operation(graph, \"/scale\", imagecat.scale)\n",
    "graph.add_links(\"/solid\", (\"/scale\", \"image\"))\n",
    "graph.add_links(\"/scale/size\", (\"/scale\", \"size\"))\n",
    "graphcat.notebook.display(graph)"
   ]
  },
  {
   "cell_type": "code",
   "execution_count": 7,
   "metadata": {},
   "outputs": [
    {
     "name": "stderr",
     "output_type": "stream",
     "text": [
      "INFO:imagecat:Task /solid solid C size [256 128] value [1 0 0] result C(256x128x3 float16)\n"
     ]
    },
    {
     "data": {
      "text/html": [
       "<div style='display: flex; flex-flow: row wrap; text-align: center'><figure style='margin: 5px'><image src='data:image/png;base64,iVBORw0KGgoAAAANSUhEUgAAAQAAAACACAIAAABr1yBdAAABbElEQVR4nO3TMQEAIAzAMMC/5yFjRxMFfXrnQNfbDoBNBiDNAKQZgDQDkGYA0gxAmgFIMwBpBiDNAKQZgDQDkGYA0gxAmgFIMwBpBiDNAKQZgDQDkGYA0gxAmgFIMwBpBiDNAKQZgDQDkGYA0gxAmgFIMwBpBiDNAKQZgDQDkGYA0gxAmgFIMwBpBiDNAKQZgDQDkGYA0gxAmgFIMwBpBiDNAKQZgDQDkGYA0gxAmgFIMwBpBiDNAKQZgDQDkGYA0gxAmgFIMwBpBiDNAKQZgDQDkGYA0gxAmgFIMwBpBiDNAKQZgDQDkGYA0gxAmgFIMwBpBiDNAKQZgDQDkGYA0gxAmgFIMwBpBiDNAKQZgDQDkGYA0gxAmgFIMwBpBiDNAKQZgDQDkGYA0gxAmgFIMwBpBiDNAKQZgDQDkGYA0gxAmgFIMwBpBiDNAKQZgDQDkGYA0gxAmgFIMwBpBiDNAKQZgDQDkGYA0gxA2gfgwQH/T4bRagAAAABJRU5ErkJggg==' style='width:None; height:None'/><figcaption>C <small>256&times;128&times;3 float16</small></figcaption></figure></div>"
      ],
      "text/plain": [
       "<IPython.core.display.HTML object>"
      ]
     },
     "metadata": {},
     "output_type": "display_data"
    }
   ],
   "source": [
    "imagecat.notebook.display(graph.output(\"/solid\"))"
   ]
  },
  {
   "cell_type": "code",
   "execution_count": 8,
   "metadata": {},
   "outputs": [
    {
     "name": "stderr",
     "output_type": "stream",
     "text": [
      "INFO:imagecat:Task /scale scale order 3 size ('1vw', '2vh') result C(256x256x3 float16)\n"
     ]
    },
    {
     "data": {
      "text/html": [
       "<div style='display: flex; flex-flow: row wrap; text-align: center'><figure style='margin: 5px'><image src='data:image/png;base64,iVBORw0KGgoAAAANSUhEUgAAAQAAAAEACAIAAADTED8xAAACvElEQVR4nO3TMQEAIAzAMMC/5yFjRxMFfXrnQNfbDoBNBiDNAKQZgDQDkGYA0gxAmgFIMwBpBiDNAKQZgDQDkGYA0gxAmgFIMwBpBiDNAKQZgDQDkGYA0gxAmgFIMwBpBiDNAKQZgDQDkGYA0gxAmgFIMwBpBiDNAKQZgDQDkGYA0gxAmgFIMwBpBiDNAKQZgDQDkGYA0gxAmgFIMwBpBiDNAKQZgDQDkGYA0gxAmgFIMwBpBiDNAKQZgDQDkGYA0gxAmgFIMwBpBiDNAKQZgDQDkGYA0gxAmgFIMwBpBiDNAKQZgDQDkGYA0gxAmgFIMwBpBiDNAKQZgDQDkGYA0gxAmgFIMwBpBiDNAKQZgDQDkGYA0gxAmgFIMwBpBiDNAKQZgDQDkGYA0gxAmgFIMwBpBiDNAKQZgDQDkGYA0gxAmgFIMwBpBiDNAKQZgDQDkGYA0gxAmgFIMwBpBiDNAKQZgDQDkGYA0gxAmgFIMwBpBiDNAKQZgDQDkGYA0gxAmgFIMwBpBiDNAKQZgDQDkGYA0gxAmgFIMwBpBiDNAKQZgDQDkGYA0gxAmgFIMwBpBiDNAKQZgDQDkGYA0gxAmgFIMwBpBiDNAKQZgDQDkGYA0gxAmgFIMwBpBiDNAKQZgDQDkGYA0gxAmgFIMwBpBiDNAKQZgDQDkGYA0gxAmgFIMwBpBiDNAKQZgDQDkGYA0gxAmgFIMwBpBiDNAKQZgDQDkGYA0gxAmgFIMwBpBiDNAKQZgDQDkGYA0gxAmgFIMwBpBiDNAKQZgDQDkGYA0gxAmgFIMwBpBiDNAKQZgDQDkGYA0gxAmgFIMwBpBiDNAKQZgDQDkGYA0gxAmgFIMwBpBiDNAKQZgDQDkGYA0gxAmgFIMwBpBiDNAKQZgDQDkGYA0gxAmgFIMwBpBiDNAKQZgDQDkGYA0gxA2gdZHwL/M2K7aQAAAABJRU5ErkJggg==' style='width:None; height:None'/><figcaption>C <small>256&times;256&times;3 float16</small></figcaption></figure></div>"
      ],
      "text/plain": [
       "<IPython.core.display.HTML object>"
      ]
     },
     "metadata": {},
     "output_type": "display_data"
    }
   ],
   "source": [
    "imagecat.notebook.display(graph.output(\"/scale\"))"
   ]
  },
  {
   "cell_type": "code",
   "execution_count": null,
   "metadata": {},
   "outputs": [],
   "source": []
  }
 ],
 "metadata": {
  "kernelspec": {
   "display_name": "Python 3",
   "language": "python",
   "name": "python3"
  },
  "language_info": {
   "codemirror_mode": {
    "name": "ipython",
    "version": 3
   },
   "file_extension": ".py",
   "mimetype": "text/x-python",
   "name": "python",
   "nbconvert_exporter": "python",
   "pygments_lexer": "ipython3",
   "version": "3.7.7"
  }
 },
 "nbformat": 4,
 "nbformat_minor": 4
}
