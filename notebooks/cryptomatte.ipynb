{
 "cells": [
  {
   "cell_type": "code",
   "execution_count": 6,
   "metadata": {},
   "outputs": [],
   "source": [
    "import logging\n",
    "logging.basicConfig(level=logging.DEBUG)\n",
    "\n",
    "import PIL.Image\n",
    "import graphcat.notebook\n",
    "import numpy\n",
    "import skimage\n",
    "\n",
    "import imagecat.notebook"
   ]
  },
  {
   "cell_type": "code",
   "execution_count": 7,
   "metadata": {
    "scrolled": false
   },
   "outputs": [
    {
     "data": {
      "image/svg+xml": [
       "<svg height=\"115pt\" viewBox=\"0.00 0.00 382.57 115.00\" width=\"383pt\" xmlns=\"http://www.w3.org/2000/svg\" xmlns:xlink=\"http://www.w3.org/1999/xlink\">\n",
       "<g class=\"graph\" id=\"graph0\" transform=\"scale(1 1) rotate(0) translate(4 111)\">\n",
       "<polygon fill=\"white\" points=\"-4,4 -4,-111 378.57,-111 378.57,4 -4,4\" stroke=\"transparent\"/>\n",
       "<!-- /load -->\n",
       "<g class=\"node\" id=\"node1\">\n",
       "<title>/load</title>\n",
       "<polygon fill=\"white\" points=\"148.68,-61 118.98,-61 118.98,-47 148.68,-47 148.68,-61\" stroke=\"#494744\"/>\n",
       "<text fill=\"#494744\" font-family=\"Helvetica,sans-Serif\" font-size=\"8.00\" text-anchor=\"middle\" x=\"133.83\" y=\"-51.6\">/load</text>\n",
       "</g>\n",
       "<!-- /preview -->\n",
       "<g class=\"node\" id=\"node2\">\n",
       "<title>/preview</title>\n",
       "<polygon fill=\"white\" points=\"284.44,-84 242.86,-84 242.86,-70 284.44,-70 284.44,-84\" stroke=\"#494744\"/>\n",
       "<text fill=\"#494744\" font-family=\"Helvetica,sans-Serif\" font-size=\"8.00\" text-anchor=\"middle\" x=\"263.65\" y=\"-74.6\">/preview</text>\n",
       "</g>\n",
       "<!-- /load&#45;&gt;/preview -->\n",
       "<g class=\"edge\" id=\"edge1\">\n",
       "<title>/load-&gt;/preview</title>\n",
       "<path d=\"M148.51,-56.46C168.53,-60.06 206.29,-66.86 232.89,-71.64\" fill=\"none\" stroke=\"#494744\"/>\n",
       "<polygon fill=\"#494744\" points=\"232.36,-75.11 242.82,-73.43 233.6,-68.22 232.36,-75.11\" stroke=\"#494744\"/>\n",
       "<text font-family=\"Helvetica,sans-Serif\" font-size=\"8.00\" text-anchor=\"middle\" x=\"205.3\" y=\"-69.6\">image</text>\n",
       "</g>\n",
       "<!-- /cryptomatte -->\n",
       "<g class=\"node\" id=\"node3\">\n",
       "<title>/cryptomatte</title>\n",
       "<polygon fill=\"white\" points=\"291.67,-37 235.64,-37 235.64,-23 291.67,-23 291.67,-37\" stroke=\"#494744\"/>\n",
       "<text fill=\"#494744\" font-family=\"Helvetica,sans-Serif\" font-size=\"8.00\" text-anchor=\"middle\" x=\"263.65\" y=\"-27.6\">/cryptomatte</text>\n",
       "</g>\n",
       "<!-- /load&#45;&gt;/cryptomatte -->\n",
       "<g class=\"edge\" id=\"edge2\">\n",
       "<title>/load-&gt;/cryptomatte</title>\n",
       "<path d=\"M148.51,-51.43C166.71,-48.02 199.57,-41.84 225.38,-37\" fill=\"none\" stroke=\"#494744\"/>\n",
       "<polygon fill=\"#494744\" points=\"226.05,-40.43 235.23,-35.15 224.76,-33.55 226.05,-40.43\" stroke=\"#494744\"/>\n",
       "<text font-family=\"Helvetica,sans-Serif\" font-size=\"8.00\" text-anchor=\"middle\" x=\"205.3\" y=\"-44.6\">image</text>\n",
       "</g>\n",
       "<!-- /save -->\n",
       "<g class=\"node\" id=\"node6\">\n",
       "<title>/save</title>\n",
       "<polygon fill=\"white\" points=\"374.63,-37 343.39,-37 343.39,-23 374.63,-23 374.63,-37\" stroke=\"#494744\"/>\n",
       "<text fill=\"#494744\" font-family=\"Helvetica,sans-Serif\" font-size=\"8.00\" text-anchor=\"middle\" x=\"359.01\" y=\"-27.6\">/save</text>\n",
       "</g>\n",
       "<!-- /cryptomatte&#45;&gt;/save -->\n",
       "<g class=\"edge\" id=\"edge5\">\n",
       "<title>/cryptomatte-&gt;/save</title>\n",
       "<path d=\"M291.91,-30C304.89,-30 320.32,-30 333.01,-30\" fill=\"none\" stroke=\"#494744\"/>\n",
       "<polygon fill=\"#494744\" points=\"333.32,-33.5 343.32,-30 333.32,-26.5 333.32,-33.5\" stroke=\"#494744\"/>\n",
       "<text font-family=\"Helvetica,sans-Serif\" font-size=\"8.00\" text-anchor=\"middle\" x=\"317.55\" y=\"-31.6\">image</text>\n",
       "</g>\n",
       "<!-- /load/path -->\n",
       "<g class=\"node\" id=\"node4\">\n",
       "<title>/load/path</title>\n",
       "<polygon fill=\"white\" points=\"47.21,-61 -0.07,-61 -0.07,-47 47.21,-47 47.21,-61\" stroke=\"#494744\"/>\n",
       "<text fill=\"#494744\" font-family=\"Helvetica,sans-Serif\" font-size=\"8.00\" text-anchor=\"middle\" x=\"23.57\" y=\"-51.6\">/load/path</text>\n",
       "</g>\n",
       "<!-- /load/path&#45;&gt;/load -->\n",
       "<g class=\"edge\" id=\"edge3\">\n",
       "<title>/load/path-&gt;/load</title>\n",
       "<path d=\"M47.27,-54C65.32,-54 90.52,-54 108.89,-54\" fill=\"none\" stroke=\"#494744\"/>\n",
       "<polygon fill=\"#494744\" points=\"109.07,-57.5 119.07,-54 109.07,-50.5 109.07,-57.5\" stroke=\"#494744\"/>\n",
       "<text font-family=\"Helvetica,sans-Serif\" font-size=\"8.00\" text-anchor=\"middle\" x=\"69.93\" y=\"-55.6\">path</text>\n",
       "</g>\n",
       "<!-- /preview/mapping -->\n",
       "<g class=\"node\" id=\"node5\">\n",
       "<title>/preview/mapping</title>\n",
       "<polygon fill=\"white\" points=\"171.03,-107 96.63,-107 96.63,-93 171.03,-93 171.03,-107\" stroke=\"#494744\"/>\n",
       "<text fill=\"#494744\" font-family=\"Helvetica,sans-Serif\" font-size=\"8.00\" text-anchor=\"middle\" x=\"133.83\" y=\"-97.6\">/preview/mapping</text>\n",
       "</g>\n",
       "<!-- /preview/mapping&#45;&gt;/preview -->\n",
       "<g class=\"edge\" id=\"edge4\">\n",
       "<title>/preview/mapping-&gt;/preview</title>\n",
       "<path d=\"M171.12,-93.47C190.58,-89.97 214.28,-85.7 232.68,-82.39\" fill=\"none\" stroke=\"#494744\"/>\n",
       "<polygon fill=\"#494744\" points=\"233.35,-85.83 242.57,-80.61 232.11,-78.94 233.35,-85.83\" stroke=\"#494744\"/>\n",
       "<text font-family=\"Helvetica,sans-Serif\" font-size=\"8.00\" text-anchor=\"middle\" x=\"205.3\" y=\"-90.6\">mapping</text>\n",
       "</g>\n",
       "<!-- /cryptomatte/mattes -->\n",
       "<g class=\"node\" id=\"node7\">\n",
       "<title>/cryptomatte/mattes</title>\n",
       "<polygon fill=\"white\" points=\"175.08,-14 92.59,-14 92.59,0 175.08,0 175.08,-14\" stroke=\"#494744\"/>\n",
       "<text fill=\"#494744\" font-family=\"Helvetica,sans-Serif\" font-size=\"8.00\" text-anchor=\"middle\" x=\"133.83\" y=\"-4.6\">/cryptomatte/mattes</text>\n",
       "</g>\n",
       "<!-- /cryptomatte/mattes&#45;&gt;/cryptomatte -->\n",
       "<g class=\"edge\" id=\"edge6\">\n",
       "<title>/cryptomatte/mattes-&gt;/cryptomatte</title>\n",
       "<path d=\"M175.05,-4.32C189.6,-4.3 206.04,-5.37 220.64,-9 228.19,-10.88 235.95,-14.27 242.71,-17.79\" fill=\"none\" stroke=\"#494744\"/>\n",
       "<polygon fill=\"#494744\" points=\"241.33,-21.03 251.77,-22.88 244.76,-14.93 241.33,-21.03\" stroke=\"#494744\"/>\n",
       "<text font-family=\"Helvetica,sans-Serif\" font-size=\"8.00\" text-anchor=\"middle\" x=\"205.3\" y=\"-10.6\">mattes</text>\n",
       "</g>\n",
       "</g>\n",
       "</svg>"
      ],
      "text/plain": [
       "<IPython.core.display.SVG object>"
      ]
     },
     "metadata": {},
     "output_type": "display_data"
    },
    {
     "name": "stderr",
     "output_type": "stream",
     "text": [
      "INFO:imagecat.operator:Task /load load:\n",
      "INFO:imagecat.operator:  layers: *\n",
      "INFO:imagecat.operator:  path: bunny_CryptoMaterial.exr\n",
      "INFO:imagecat.operator:  output: Image(uCryptoMaterial.blue: Layer(Role.NONE 1280x720x1 float32), uCryptoMaterial.green: Layer(Role.NONE 1280x720x1 float32), uCryptoMaterial.red: Layer(Role.NONE 1280x720x1 float32), uCryptoMaterial00.alpha: Layer(Role.NONE 1280x720x1 float32), uCryptoMaterial00.blue: Layer(Role.NONE 1280x720x1 float32), uCryptoMaterial00.green: Layer(Role.NONE 1280x720x1 float32), uCryptoMaterial00.red: Layer(Role.NONE 1280x720x1 float32), uCryptoMaterial01.alpha: Layer(Role.NONE 1280x720x1 float32), uCryptoMaterial01.blue: Layer(Role.NONE 1280x720x1 float32), uCryptoMaterial01.green: Layer(Role.NONE 1280x720x1 float32), uCryptoMaterial01.red: Layer(Role.NONE 1280x720x1 float32), uCryptoMaterial02.alpha: Layer(Role.NONE 1280x720x1 float32), uCryptoMaterial02.blue: Layer(Role.NONE 1280x720x1 float32), uCryptoMaterial02.green: Layer(Role.NONE 1280x720x1 float32), uCryptoMaterial02.red: Layer(Role.NONE 1280x720x1 float32))\n",
      "INFO:imagecat.operator:Task CryptoRank1 remap:\n",
      "INFO:imagecat.operator:  mapping: {'CryptoPreview': {'role': <Role.RGB: 1>, 'selection': ['uCryptoMaterial.red', 'uCryptoMaterial.green', 'uCryptoMaterial.blue']}, 'CryptoRank0': {'role': <Role.REDGREEN: 2>, 'selection': ['uCryptoMaterial00.red', 'uCryptoMaterial00.green']}, 'CryptoRank1': {'role': <Role.REDGREEN: 2>, 'selection': ['uCryptoMaterial00.blue', 'uCryptoMaterial00.alpha']}}\n",
      "INFO:imagecat.operator:  output: Image(CryptoPreview: Layer(Role.RGB 1280x720x3 float32), CryptoRank0: Layer(Role.REDGREEN 1280x720x2 float32), CryptoRank1: Layer(Role.REDGREEN 1280x720x2 float32))\n"
     ]
    },
    {
     "data": {
      "application/vnd.jupyter.widget-view+json": {
       "model_id": "90080f69cb1f41cf9ccfaff16efdff2d",
       "version_major": 2,
       "version_minor": 0
      },
      "text/plain": [
       "Accordion(children=(HTML(value=''), HTML(value=''), HTML(value='')), _titles={'0': 'Layer: CryptoPreview', '1'…"
      ]
     },
     "metadata": {},
     "output_type": "display_data"
    }
   ],
   "source": [
    "mapping = {\n",
    "    \"CryptoPreview\": {\"role\": imagecat.data.Role.RGB, \"selection\": [\"uCryptoMaterial.red\", \"uCryptoMaterial.green\", \"uCryptoMaterial.blue\"]},\n",
    "    \"CryptoRank0\": {\"role\": imagecat.data.Role.REDGREEN, \"selection\": [\"uCryptoMaterial00.red\", \"uCryptoMaterial00.green\"]},\n",
    "    \"CryptoRank1\": {\"role\": imagecat.data.Role.REDGREEN, \"selection\": [\"uCryptoMaterial00.blue\", \"uCryptoMaterial00.alpha\"]},\n",
    "}\n",
    "\n",
    "graph = graphcat.DynamicGraph()\n",
    "imagecat.add_task(graph, \"/load\", imagecat.operator.load, path=\"bunny_CryptoMaterial.exr\")\n",
    "imagecat.add_task(graph, \"/preview\", imagecat.operator.remap, mapping=mapping)\n",
    "imagecat.add_task(graph, \"/cryptomatte\", imagecat.operator.cryptomatte.decoder, mattes=[\"bunny_porcelain_mat\"])\n",
    "imagecat.add_task(graph, \"/save\", imagecat.operator.save)\n",
    "\n",
    "imagecat.add_links(graph, \"/load\", (\"/preview\", \"image\"))\n",
    "imagecat.add_links(graph, \"/load\", (\"/cryptomatte\", \"image\"))\n",
    "imagecat.add_links(graph, \"/cryptomatte\", (\"/save\", \"image\"))\n",
    "\n",
    "graphcat.notebook.display(graph)\n",
    "imagecat.notebook.display(graph.output(\"/preview\"), height=\"300px\")"
   ]
  },
  {
   "cell_type": "code",
   "execution_count": 8,
   "metadata": {
    "scrolled": false
   },
   "outputs": [
    {
     "name": "stderr",
     "output_type": "stream",
     "text": [
      "INFO:imagecat.operator.cryptomatte:Task /cryptomatte cryptomatte.decode:\n",
      "INFO:imagecat.operator.cryptomatte:  cryptomatte: None\n",
      "INFO:imagecat.operator.cryptomatte:  layer: M\n",
      "INFO:imagecat.operator.cryptomatte:  mattes: ['bunny_porcelain_mat']\n",
      "INFO:imagecat.operator.cryptomatte:  output: Image(M: Layer(Role.MATTE 1280x720x1 float32))\n"
     ]
    },
    {
     "data": {
      "application/vnd.jupyter.widget-view+json": {
       "model_id": "96cb1cd102b44eeb9d149221a584586c",
       "version_major": 2,
       "version_minor": 0
      },
      "text/plain": [
       "Accordion(children=(HTML(value=''),), _titles={'0': 'Layer: M'})"
      ]
     },
     "metadata": {},
     "output_type": "display_data"
    }
   ],
   "source": [
    "imagecat.notebook.display(graph.output(\"/cryptomatte\"))"
   ]
  },
  {
   "cell_type": "code",
   "execution_count": 9,
   "metadata": {},
   "outputs": [
    {
     "data": {
      "text/plain": [
       "(720, 1280, 1)"
      ]
     },
     "execution_count": 9,
     "metadata": {},
     "output_type": "execute_result"
    }
   ],
   "source": [
    "data = graph.output(\"/cryptomatte\").layers[\"M\"].data\n",
    "data.shape"
   ]
  },
  {
   "cell_type": "markdown",
   "metadata": {},
   "source": [
    "`positive_orientation=\"high\"` means that:\n",
    "\n",
    "* Selected pixels are always to the *left* of the contour.\n",
    "* Contours wind counter-clockwise around selected areas of the matte.\n",
    "* Contours wind clockwise around unselected areas of the matte (holes)."
   ]
  },
  {
   "cell_type": "code",
   "execution_count": 10,
   "metadata": {
    "scrolled": false
   },
   "outputs": [],
   "source": [
    "import skimage.measure\n",
    "contours = skimage.measure.find_contours(data[:,:,0], positive_orientation=\"high\", level=0.5)"
   ]
  },
  {
   "cell_type": "code",
   "execution_count": 11,
   "metadata": {},
   "outputs": [],
   "source": [
    "def ccw(polygon):\n",
    "    result = 0\n",
    "    for index, (y1, x1) in enumerate(polygon):\n",
    "        y2, x2 = polygon[(index + 1) % len(polygon)]\n",
    "        result += (x2 - x1) * (y2 + y1)\n",
    "    return result > 0"
   ]
  },
  {
   "cell_type": "code",
   "execution_count": 12,
   "metadata": {},
   "outputs": [
    {
     "name": "stdout",
     "output_type": "stream",
     "text": [
      "0 (2587, 2) True\n",
      "1 (173, 2) True\n",
      "2 (5, 2) False\n",
      "3 (7, 2) False\n",
      "4 (5, 2) False\n",
      "5 (5, 2) False\n",
      "6 (27, 2) True\n",
      "7 (37, 2) True\n",
      "8 (19, 2) True\n",
      "9 (5, 2) True\n",
      "10 (7, 2) False\n",
      "11 (37, 2) True\n",
      "12 (27, 2) True\n",
      "13 (15, 2) True\n",
      "14 (5, 2) True\n",
      "15 (11, 2) True\n",
      "16 (19, 2) True\n"
     ]
    }
   ],
   "source": [
    "for index, contour in enumerate(contours):\n",
    "    print(index, contour.shape, ccw(contour))"
   ]
  },
  {
   "cell_type": "code",
   "execution_count": 13,
   "metadata": {},
   "outputs": [],
   "source": [
    "import skia\n",
    "import IPython.display"
   ]
  },
  {
   "cell_type": "code",
   "execution_count": 14,
   "metadata": {
    "scrolled": false
   },
   "outputs": [
    {
     "data": {
      "image/png": "[encoded data removed]",
      "text/plain": [
       "Image(1280, 720, ColorType.kRGBA_8888_ColorType, AlphaType.kPremul_AlphaType)"
      ]
     },
     "metadata": {},
     "output_type": "display_data"
    }
   ],
   "source": [
    "surface = skia.Surface(data.shape[1], data.shape[0])\n",
    "canvas = surface.getCanvas()\n",
    "canvas.drawColor(skia.ColorWHITE)\n",
    "paint = skia.Paint(Style=skia.Paint.kStroke_Style, AntiAlias=True, StrokeWidth=1, Color=0xFF4285F4)\n",
    "for contour in contours:\n",
    "#    if not ccw(contour):\n",
    "#        continue\n",
    "    points = [skia.Point((point[1], point[0])) for point in contour]\n",
    "    path = skia.Path()\n",
    "    path.addPoly(points, close=True)\n",
    "    canvas.drawPath(path, paint)\n",
    "image = surface.makeImageSnapshot()\n",
    "IPython.display.display(image)"
   ]
  }
 ],
 "metadata": {
  "kernelspec": {
   "display_name": "Python 3",
   "language": "python",
   "name": "python3"
  },
  "language_info": {
   "codemirror_mode": {
    "name": "ipython",
    "version": 3
   },
   "file_extension": ".py",
   "mimetype": "text/x-python",
   "name": "python",
   "nbconvert_exporter": "python",
   "pygments_lexer": "ipython3",
   "version": "3.7.7"
  }
 },
 "nbformat": 4,
 "nbformat_minor": 4
}
