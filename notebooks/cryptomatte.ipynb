{
 "cells": [
  {
   "cell_type": "code",
   "execution_count": 1,
   "metadata": {},
   "outputs": [],
   "source": [
    "import logging\n",
    "logging.basicConfig(level=logging.DEBUG)\n",
    "\n",
    "import PIL.Image\n",
    "import graphcat.notebook\n",
    "import numpy\n",
    "import skimage\n",
    "\n",
    "import imagecat.notebook"
   ]
  },
  {
   "cell_type": "code",
   "execution_count": 2,
   "metadata": {
    "scrolled": false
   },
   "outputs": [
    {
     "data": {
      "image/svg+xml": [
       "<svg height=\"115pt\" viewBox=\"0.00 0.00 382.57 115.00\" width=\"383pt\" xmlns=\"http://www.w3.org/2000/svg\" xmlns:xlink=\"http://www.w3.org/1999/xlink\">\n",
       "<g class=\"graph\" id=\"graph0\" transform=\"scale(1 1) rotate(0) translate(4 111)\">\n",
       "<polygon fill=\"white\" points=\"-4,4 -4,-111 378.57,-111 378.57,4 -4,4\" stroke=\"transparent\"/>\n",
       "<!-- /load -->\n",
       "<g class=\"node\" id=\"node1\">\n",
       "<title>/load</title>\n",
       "<polygon fill=\"white\" points=\"148.68,-61 118.98,-61 118.98,-47 148.68,-47 148.68,-61\" stroke=\"#494744\"/>\n",
       "<text fill=\"#494744\" font-family=\"Helvetica,sans-Serif\" font-size=\"8.00\" text-anchor=\"middle\" x=\"133.83\" y=\"-51.6\">/load</text>\n",
       "</g>\n",
       "<!-- /preview -->\n",
       "<g class=\"node\" id=\"node2\">\n",
       "<title>/preview</title>\n",
       "<polygon fill=\"white\" points=\"284.44,-84 242.86,-84 242.86,-70 284.44,-70 284.44,-84\" stroke=\"#494744\"/>\n",
       "<text fill=\"#494744\" font-family=\"Helvetica,sans-Serif\" font-size=\"8.00\" text-anchor=\"middle\" x=\"263.65\" y=\"-74.6\">/preview</text>\n",
       "</g>\n",
       "<!-- /load&#45;&gt;/preview -->\n",
       "<g class=\"edge\" id=\"edge1\">\n",
       "<title>/load-&gt;/preview</title>\n",
       "<path d=\"M148.51,-56.46C168.53,-60.06 206.29,-66.86 232.89,-71.64\" fill=\"none\" stroke=\"#494744\"/>\n",
       "<polygon fill=\"#494744\" points=\"232.36,-75.11 242.82,-73.43 233.6,-68.22 232.36,-75.11\" stroke=\"#494744\"/>\n",
       "<text font-family=\"Helvetica,sans-Serif\" font-size=\"8.00\" text-anchor=\"middle\" x=\"205.3\" y=\"-69.6\">image</text>\n",
       "</g>\n",
       "<!-- /cryptomatte -->\n",
       "<g class=\"node\" id=\"node3\">\n",
       "<title>/cryptomatte</title>\n",
       "<polygon fill=\"white\" points=\"291.67,-37 235.64,-37 235.64,-23 291.67,-23 291.67,-37\" stroke=\"#494744\"/>\n",
       "<text fill=\"#494744\" font-family=\"Helvetica,sans-Serif\" font-size=\"8.00\" text-anchor=\"middle\" x=\"263.65\" y=\"-27.6\">/cryptomatte</text>\n",
       "</g>\n",
       "<!-- /load&#45;&gt;/cryptomatte -->\n",
       "<g class=\"edge\" id=\"edge2\">\n",
       "<title>/load-&gt;/cryptomatte</title>\n",
       "<path d=\"M148.51,-51.43C166.71,-48.02 199.57,-41.84 225.38,-37\" fill=\"none\" stroke=\"#494744\"/>\n",
       "<polygon fill=\"#494744\" points=\"226.05,-40.43 235.23,-35.15 224.76,-33.55 226.05,-40.43\" stroke=\"#494744\"/>\n",
       "<text font-family=\"Helvetica,sans-Serif\" font-size=\"8.00\" text-anchor=\"middle\" x=\"205.3\" y=\"-44.6\">image</text>\n",
       "</g>\n",
       "<!-- /save -->\n",
       "<g class=\"node\" id=\"node6\">\n",
       "<title>/save</title>\n",
       "<polygon fill=\"white\" points=\"374.63,-37 343.39,-37 343.39,-23 374.63,-23 374.63,-37\" stroke=\"#494744\"/>\n",
       "<text fill=\"#494744\" font-family=\"Helvetica,sans-Serif\" font-size=\"8.00\" text-anchor=\"middle\" x=\"359.01\" y=\"-27.6\">/save</text>\n",
       "</g>\n",
       "<!-- /cryptomatte&#45;&gt;/save -->\n",
       "<g class=\"edge\" id=\"edge5\">\n",
       "<title>/cryptomatte-&gt;/save</title>\n",
       "<path d=\"M291.91,-30C304.89,-30 320.32,-30 333.01,-30\" fill=\"none\" stroke=\"#494744\"/>\n",
       "<polygon fill=\"#494744\" points=\"333.32,-33.5 343.32,-30 333.32,-26.5 333.32,-33.5\" stroke=\"#494744\"/>\n",
       "<text font-family=\"Helvetica,sans-Serif\" font-size=\"8.00\" text-anchor=\"middle\" x=\"317.55\" y=\"-31.6\">image</text>\n",
       "</g>\n",
       "<!-- /load/path -->\n",
       "<g class=\"node\" id=\"node4\">\n",
       "<title>/load/path</title>\n",
       "<polygon fill=\"white\" points=\"47.21,-61 -0.07,-61 -0.07,-47 47.21,-47 47.21,-61\" stroke=\"#494744\"/>\n",
       "<text fill=\"#494744\" font-family=\"Helvetica,sans-Serif\" font-size=\"8.00\" text-anchor=\"middle\" x=\"23.57\" y=\"-51.6\">/load/path</text>\n",
       "</g>\n",
       "<!-- /load/path&#45;&gt;/load -->\n",
       "<g class=\"edge\" id=\"edge3\">\n",
       "<title>/load/path-&gt;/load</title>\n",
       "<path d=\"M47.27,-54C65.32,-54 90.52,-54 108.89,-54\" fill=\"none\" stroke=\"#494744\"/>\n",
       "<polygon fill=\"#494744\" points=\"109.07,-57.5 119.07,-54 109.07,-50.5 109.07,-57.5\" stroke=\"#494744\"/>\n",
       "<text font-family=\"Helvetica,sans-Serif\" font-size=\"8.00\" text-anchor=\"middle\" x=\"69.93\" y=\"-55.6\">path</text>\n",
       "</g>\n",
       "<!-- /preview/mapping -->\n",
       "<g class=\"node\" id=\"node5\">\n",
       "<title>/preview/mapping</title>\n",
       "<polygon fill=\"white\" points=\"171.03,-107 96.63,-107 96.63,-93 171.03,-93 171.03,-107\" stroke=\"#494744\"/>\n",
       "<text fill=\"#494744\" font-family=\"Helvetica,sans-Serif\" font-size=\"8.00\" text-anchor=\"middle\" x=\"133.83\" y=\"-97.6\">/preview/mapping</text>\n",
       "</g>\n",
       "<!-- /preview/mapping&#45;&gt;/preview -->\n",
       "<g class=\"edge\" id=\"edge4\">\n",
       "<title>/preview/mapping-&gt;/preview</title>\n",
       "<path d=\"M171.12,-93.47C190.58,-89.97 214.28,-85.7 232.68,-82.39\" fill=\"none\" stroke=\"#494744\"/>\n",
       "<polygon fill=\"#494744\" points=\"233.35,-85.83 242.57,-80.61 232.11,-78.94 233.35,-85.83\" stroke=\"#494744\"/>\n",
       "<text font-family=\"Helvetica,sans-Serif\" font-size=\"8.00\" text-anchor=\"middle\" x=\"205.3\" y=\"-90.6\">mapping</text>\n",
       "</g>\n",
       "<!-- /cryptomatte/mattes -->\n",
       "<g class=\"node\" id=\"node7\">\n",
       "<title>/cryptomatte/mattes</title>\n",
       "<polygon fill=\"white\" points=\"175.08,-14 92.59,-14 92.59,0 175.08,0 175.08,-14\" stroke=\"#494744\"/>\n",
       "<text fill=\"#494744\" font-family=\"Helvetica,sans-Serif\" font-size=\"8.00\" text-anchor=\"middle\" x=\"133.83\" y=\"-4.6\">/cryptomatte/mattes</text>\n",
       "</g>\n",
       "<!-- /cryptomatte/mattes&#45;&gt;/cryptomatte -->\n",
       "<g class=\"edge\" id=\"edge6\">\n",
       "<title>/cryptomatte/mattes-&gt;/cryptomatte</title>\n",
       "<path d=\"M175.05,-4.32C189.6,-4.3 206.04,-5.37 220.64,-9 228.19,-10.88 235.95,-14.27 242.71,-17.79\" fill=\"none\" stroke=\"#494744\"/>\n",
       "<polygon fill=\"#494744\" points=\"241.33,-21.03 251.77,-22.88 244.76,-14.93 241.33,-21.03\" stroke=\"#494744\"/>\n",
       "<text font-family=\"Helvetica,sans-Serif\" font-size=\"8.00\" text-anchor=\"middle\" x=\"205.3\" y=\"-10.6\">mattes</text>\n",
       "</g>\n",
       "</g>\n",
       "</svg>"
      ],
      "text/plain": [
       "<IPython.core.display.SVG object>"
      ]
     },
     "metadata": {},
     "output_type": "display_data"
    },
    {
     "name": "stderr",
     "output_type": "stream",
     "text": [
      "INFO:imagecat.operator:Task /load load:\n",
      "INFO:imagecat.operator:  layers: *\n",
      "INFO:imagecat.operator:  path: bunny_CryptoMaterial.exr\n",
      "INFO:imagecat.operator:  output: Image(uCryptoMaterial.blue: Layer(1280x720x1 float32 [''] Role.NONE), uCryptoMaterial.green: Layer(1280x720x1 float32 [''] Role.NONE), uCryptoMaterial.red: Layer(1280x720x1 float32 [''] Role.NONE), uCryptoMaterial00.alpha: Layer(1280x720x1 float32 [''] Role.NONE), uCryptoMaterial00.blue: Layer(1280x720x1 float32 [''] Role.NONE), uCryptoMaterial00.green: Layer(1280x720x1 float32 [''] Role.NONE), uCryptoMaterial00.red: Layer(1280x720x1 float32 [''] Role.NONE), uCryptoMaterial01.alpha: Layer(1280x720x1 float32 [''] Role.NONE), uCryptoMaterial01.blue: Layer(1280x720x1 float32 [''] Role.NONE), uCryptoMaterial01.green: Layer(1280x720x1 float32 [''] Role.NONE), uCryptoMaterial01.red: Layer(1280x720x1 float32 [''] Role.NONE), uCryptoMaterial02.alpha: Layer(1280x720x1 float32 [''] Role.NONE), uCryptoMaterial02.blue: Layer(1280x720x1 float32 [''] Role.NONE), uCryptoMaterial02.green: Layer(1280x720x1 float32 [''] Role.NONE), uCryptoMaterial02.red: Layer(1280x720x1 float32 [''] Role.NONE))\n",
      "INFO:imagecat.operator.remap:Task CryptoRank1 remap:\n",
      "INFO:imagecat.operator.remap:  mapping: {'CryptoPreview': {'channels': ['uCryptoMaterial.red', 'uCryptoMaterial.green', 'uCryptoMaterial.blue']}, 'CryptoRank0': {'channels': ['uCryptoMaterial00.red', 'uCryptoMaterial00.green']}, 'CryptoRank1': {'channels': ['uCryptoMaterial00.blue', 'uCryptoMaterial00.alpha']}}\n",
      "INFO:imagecat.operator.remap:  output: Image(CryptoPreview: Layer(1280x720x3 float32 ['r', 'g', 'b'] Role.RGB), CryptoRank0: Layer(1280x720x2 float32 ['r', 'g'] Role.RG), CryptoRank1: Layer(1280x720x2 float32 ['r', 'g'] Role.RG))\n"
     ]
    },
    {
     "data": {
      "application/vnd.jupyter.widget-view+json": {
       "model_id": "43b8d2b31d3441289c17fe52163b3988",
       "version_major": 2,
       "version_minor": 0
      },
      "text/plain": [
       "Accordion(children=(HTML(value=''), HTML(value=''), HTML(value=''), HTML(value='')), _titles={'0': 'Layer: Cry…"
      ]
     },
     "metadata": {},
     "output_type": "display_data"
    }
   ],
   "source": [
    "mapping = {\n",
    "    \"CryptoPreview\": {\"channels\": [\"uCryptoMaterial.red\", \"uCryptoMaterial.green\", \"uCryptoMaterial.blue\"]},\n",
    "    \"CryptoRank0\": {\"channels\": [\"uCryptoMaterial00.red\", \"uCryptoMaterial00.green\"]},\n",
    "    \"CryptoRank1\": {\"channels\": [\"uCryptoMaterial00.blue\", \"uCryptoMaterial00.alpha\"]},\n",
    "}\n",
    "\n",
    "graph = graphcat.DynamicGraph()\n",
    "imagecat.add_task(graph, \"/load\", imagecat.operator.load, path=\"bunny_CryptoMaterial.exr\")\n",
    "imagecat.add_task(graph, \"/preview\", imagecat.operator.remap, mapping=mapping)\n",
    "imagecat.add_task(graph, \"/cryptomatte\", imagecat.operator.cryptomatte.decoder, mattes=[\"bunny_porcelain_mat\", \"flowerA_petal\"])\n",
    "imagecat.add_task(graph, \"/save\", imagecat.operator.save)\n",
    "\n",
    "imagecat.add_links(graph, \"/load\", (\"/preview\", \"image\"))\n",
    "imagecat.add_links(graph, \"/load\", (\"/cryptomatte\", \"image\"))\n",
    "imagecat.add_links(graph, \"/cryptomatte\", (\"/save\", \"image\"))\n",
    "\n",
    "graphcat.notebook.display(graph)\n",
    "imagecat.notebook.display(graph.output(\"/preview\"), height=\"300px\")"
   ]
  },
  {
   "cell_type": "code",
   "execution_count": 3,
   "metadata": {
    "scrolled": false
   },
   "outputs": [
    {
     "name": "stderr",
     "output_type": "stream",
     "text": [
      "INFO:imagecat.operator.cryptomatte:Task /cryptomatte cryptomatte.decode:\n",
      "INFO:imagecat.operator.cryptomatte:  cryptomatte: None\n",
      "INFO:imagecat.operator.cryptomatte:  layer: matte\n",
      "INFO:imagecat.operator.cryptomatte:  mattes: ['bunny_porcelain_mat', 'flowerA_petal']\n",
      "INFO:imagecat.operator.cryptomatte:  output: Image(matte: Layer(1280x720x1 float32 [''] Role.NONE))\n"
     ]
    },
    {
     "data": {
      "application/vnd.jupyter.widget-view+json": {
       "model_id": "eaba756c689147648adf53212c859757",
       "version_major": 2,
       "version_minor": 0
      },
      "text/plain": [
       "Accordion(children=(HTML(value=''),), _titles={'0': 'Layer: matte'})"
      ]
     },
     "metadata": {},
     "output_type": "display_data"
    }
   ],
   "source": [
    "imagecat.notebook.display(graph.output(\"/cryptomatte\"))"
   ]
  }
 ],
 "metadata": {
  "kernelspec": {
   "display_name": "Python 3",
   "language": "python",
   "name": "python3"
  },
  "language_info": {
   "codemirror_mode": {
    "name": "ipython",
    "version": 3
   },
   "file_extension": ".py",
   "mimetype": "text/x-python",
   "name": "python",
   "nbconvert_exporter": "python",
   "pygments_lexer": "ipython3",
   "version": "3.7.7"
  }
 },
 "nbformat": 4,
 "nbformat_minor": 4
}
