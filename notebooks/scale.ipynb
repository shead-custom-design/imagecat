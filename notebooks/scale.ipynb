{
 "cells": [
  {
   "cell_type": "code",
   "execution_count": 1,
   "metadata": {},
   "outputs": [],
   "source": [
    "import logging\n",
    "logging.basicConfig(level=logging.DEBUG)\n",
    "\n",
    "import graphcat.notebook\n",
    "import imagecat.notebook"
   ]
  },
  {
   "cell_type": "code",
   "execution_count": 2,
   "metadata": {},
   "outputs": [
    {
     "data": {
      "image/svg+xml": [
       "<svg height=\"126pt\" viewBox=\"0.00 0.00 153.69 126.00\" width=\"154pt\" xmlns=\"http://www.w3.org/2000/svg\" xmlns:xlink=\"http://www.w3.org/1999/xlink\">\n",
       "<g class=\"graph\" id=\"graph0\" transform=\"scale(1 1) rotate(0) translate(4 122)\">\n",
       "<title>%3</title>\n",
       "<polygon fill=\"white\" points=\"-4,4 -4,-122 149.686,-122 149.686,4 -4,4\" stroke=\"none\"/>\n",
       "<!-- /solid -->\n",
       "<g class=\"node\" id=\"node1\"><title>/solid</title>\n",
       "<polygon fill=\"white\" points=\"97.8513,-66 67.4964,-66 67.4964,-52 97.8513,-52 97.8513,-66\" stroke=\"#494744\"/>\n",
       "<text fill=\"#494744\" font-family=\"Helvetica,sans-Serif\" font-size=\"8.00\" text-anchor=\"middle\" x=\"82.6738\" y=\"-56.6\">/solid</text>\n",
       "</g>\n",
       "<!-- /scale -->\n",
       "<g class=\"node\" id=\"node2\"><title>/scale</title>\n",
       "<polygon fill=\"white\" points=\"64.0724,-14 31.2752,-14 31.2752,-0 64.0724,-0 64.0724,-14\" stroke=\"#494744\"/>\n",
       "<text fill=\"#494744\" font-family=\"Helvetica,sans-Serif\" font-size=\"8.00\" text-anchor=\"middle\" x=\"47.6738\" y=\"-4.6\">/scale</text>\n",
       "</g>\n",
       "<!-- /solid&#45;&gt;/scale -->\n",
       "<g class=\"edge\" id=\"edge1\"><title>/solid-&gt;/scale</title>\n",
       "<path d=\"M78.3821,-51.869C73.2916,-44.5968 64.6361,-32.2318 57.8094,-22.4794\" fill=\"none\" stroke=\"#494744\"/>\n",
       "<polygon fill=\"#494744\" points=\"60.6026,-20.3663 52.0006,-14.1811 54.868,-24.3806 60.6026,-20.3663\" stroke=\"#494744\"/>\n",
       "<text font-family=\"Helvetica,sans-Serif\" font-size=\"8.00\" text-anchor=\"middle\" x=\"78.5684\" y=\"-30.6\">image</text>\n",
       "</g>\n",
       "<!-- /solid/size -->\n",
       "<g class=\"node\" id=\"node3\"><title>/solid/size</title>\n",
       "<polygon fill=\"white\" points=\"71.299,-118 24.0487,-118 24.0487,-104 71.299,-104 71.299,-118\" stroke=\"#494744\"/>\n",
       "<text fill=\"#494744\" font-family=\"Helvetica,sans-Serif\" font-size=\"8.00\" text-anchor=\"middle\" x=\"47.6738\" y=\"-108.6\">/solid/size</text>\n",
       "</g>\n",
       "<!-- /solid/size&#45;&gt;/solid -->\n",
       "<g class=\"edge\" id=\"edge2\"><title>/solid/size-&gt;/solid</title>\n",
       "<path d=\"M51.9655,-103.869C57.0561,-96.5968 65.7116,-84.2318 72.5383,-74.4794\" fill=\"none\" stroke=\"#494744\"/>\n",
       "<polygon fill=\"#494744\" points=\"75.4797,-76.3806 78.347,-66.1811 69.7451,-72.3663 75.4797,-76.3806\" stroke=\"#494744\"/>\n",
       "<text font-family=\"Helvetica,sans-Serif\" font-size=\"8.00\" text-anchor=\"middle\" x=\"74.7871\" y=\"-82.6\">size</text>\n",
       "</g>\n",
       "<!-- /solid/values -->\n",
       "<g class=\"node\" id=\"node4\"><title>/solid/values</title>\n",
       "<polygon fill=\"white\" points=\"145.697,-118 89.6504,-118 89.6504,-104 145.697,-104 145.697,-118\" stroke=\"#494744\"/>\n",
       "<text fill=\"#494744\" font-family=\"Helvetica,sans-Serif\" font-size=\"8.00\" text-anchor=\"middle\" x=\"117.674\" y=\"-108.6\">/solid/values</text>\n",
       "</g>\n",
       "<!-- /solid/values&#45;&gt;/solid -->\n",
       "<g class=\"edge\" id=\"edge3\"><title>/solid/values-&gt;/solid</title>\n",
       "<path d=\"M113.382,-103.869C108.292,-96.5968 99.6361,-84.2318 92.8094,-74.4794\" fill=\"none\" stroke=\"#494744\"/>\n",
       "<polygon fill=\"#494744\" points=\"95.6026,-72.3663 87.0006,-66.1811 89.868,-76.3806 95.6026,-72.3663\" stroke=\"#494744\"/>\n",
       "<text font-family=\"Helvetica,sans-Serif\" font-size=\"8.00\" text-anchor=\"middle\" x=\"113.236\" y=\"-82.6\">values</text>\n",
       "</g>\n",
       "<!-- /scale/size -->\n",
       "<g class=\"node\" id=\"node5\"><title>/scale/size</title>\n",
       "<polygon fill=\"#494744\" points=\"49.5227,-66 -0.175061,-66 -0.175061,-52 49.5227,-52 49.5227,-66\" stroke=\"#494744\"/>\n",
       "<text fill=\"white\" font-family=\"Helvetica,sans-Serif\" font-size=\"8.00\" text-anchor=\"middle\" x=\"24.6738\" y=\"-56.6\">/scale/size</text>\n",
       "</g>\n",
       "<!-- /scale/size&#45;&gt;/scale -->\n",
       "<g class=\"edge\" id=\"edge4\"><title>/scale/size-&gt;/scale</title>\n",
       "<path d=\"M26.6825,-51.6496C28.6499,-45.687 31.8673,-36.5753 35.4473,-29 36.3666,-27.0547 37.4048,-25.0511 38.4782,-23.0895\" fill=\"none\" stroke=\"#494744\"/>\n",
       "<polygon fill=\"#494744\" points=\"41.7115,-24.4946 43.7489,-14.0975 35.6724,-20.9548 41.7115,-24.4946\" stroke=\"#494744\"/>\n",
       "<text font-family=\"Helvetica,sans-Serif\" font-size=\"8.00\" text-anchor=\"middle\" x=\"42.7871\" y=\"-30.6\">size</text>\n",
       "</g>\n",
       "</g>\n",
       "</svg>"
      ],
      "text/plain": [
       "<IPython.core.display.SVG object>"
      ]
     },
     "metadata": {},
     "output_type": "display_data"
    }
   ],
   "source": [
    "graph = graphcat.Graph()\n",
    "imagecat.add_operation(graph, \"/solid\", imagecat.solid, size=(256, 128), values=(1, 0, 0))\n",
    "imagecat.set_expression(graph, \"/scale/size\", \"'1vw', '2vh'\")\n",
    "imagecat.add_operation(graph, \"/scale\", imagecat.scale)\n",
    "graph.add_links(\"/solid\", (\"/scale\", \"image\"))\n",
    "graph.add_links(\"/scale/size\", (\"/scale\", \"size\"))\n",
    "graphcat.notebook.display(graph)"
   ]
  },
  {
   "cell_type": "code",
   "execution_count": 3,
   "metadata": {},
   "outputs": [
    {
     "name": "stderr",
     "output_type": "stream",
     "text": [
      "INFO:imagecat:Task /solid solid:\n",
      "INFO:imagecat:  components: ['r', 'g', 'b']\n",
      "INFO:imagecat:  layer: C\n",
      "INFO:imagecat:  role: Role.RGB\n",
      "INFO:imagecat:  size: [256 128]\n",
      "INFO:imagecat:  values: [1 0 0]\n",
      "INFO:imagecat:  output: Image(C: Layer(256x128x3 float16 ['r', 'g', 'b'] Role.RGB))\n"
     ]
    },
    {
     "data": {
      "text/html": [
       "<div style='display: flex; flex-flow: row wrap; text-align: center'><figure style='margin: 5px'><image src='data:image/png;base64,iVBORw0KGgoAAAANSUhEUgAAAQAAAACACAIAAABr1yBdAAABbElEQVR4nO3TMQEAIAzAMMC/5yFjRxMFfXrnQNfbDoBNBiDNAKQZgDQDkGYA0gxAmgFIMwBpBiDNAKQZgDQDkGYA0gxAmgFIMwBpBiDNAKQZgDQDkGYA0gxAmgFIMwBpBiDNAKQZgDQDkGYA0gxAmgFIMwBpBiDNAKQZgDQDkGYA0gxAmgFIMwBpBiDNAKQZgDQDkGYA0gxAmgFIMwBpBiDNAKQZgDQDkGYA0gxAmgFIMwBpBiDNAKQZgDQDkGYA0gxAmgFIMwBpBiDNAKQZgDQDkGYA0gxAmgFIMwBpBiDNAKQZgDQDkGYA0gxAmgFIMwBpBiDNAKQZgDQDkGYA0gxAmgFIMwBpBiDNAKQZgDQDkGYA0gxAmgFIMwBpBiDNAKQZgDQDkGYA0gxAmgFIMwBpBiDNAKQZgDQDkGYA0gxAmgFIMwBpBiDNAKQZgDQDkGYA0gxAmgFIMwBpBiDNAKQZgDQDkGYA0gxA2gfgwQH/T4bRagAAAABJRU5ErkJggg==' style='width:None; height:None; box-shadow: 4px 4px 6px rgba(0, 0, 0, 0.5)'/><figcaption>C <small>256&times;128&times;3 float16 Role.RGB</small></figcaption></figure></div>"
      ],
      "text/plain": [
       "<IPython.core.display.HTML object>"
      ]
     },
     "metadata": {},
     "output_type": "display_data"
    }
   ],
   "source": [
    "imagecat.notebook.display(graph.output(\"/solid\"))"
   ]
  },
  {
   "cell_type": "code",
   "execution_count": 4,
   "metadata": {},
   "outputs": [
    {
     "name": "stderr",
     "output_type": "stream",
     "text": [
      "INFO:imagecat:Task /scale scale:\n",
      "INFO:imagecat:  order: 3\n",
      "INFO:imagecat:  size: ('1vw', '2vh')\n",
      "INFO:imagecat:  output: Image(C: Layer(256x256x3 float16 ['r', 'g', 'b'] Role.RGB))\n"
     ]
    },
    {
     "data": {
      "text/html": [
       "<div style='display: flex; flex-flow: row wrap; text-align: center'><figure style='margin: 5px'><image src='data:image/png;base64,iVBORw0KGgoAAAANSUhEUgAAAQAAAAEACAIAAADTED8xAAACvElEQVR4nO3TMQEAIAzAMMC/5yFjRxMFfXrnQNfbDoBNBiDNAKQZgDQDkGYA0gxAmgFIMwBpBiDNAKQZgDQDkGYA0gxAmgFIMwBpBiDNAKQZgDQDkGYA0gxAmgFIMwBpBiDNAKQZgDQDkGYA0gxAmgFIMwBpBiDNAKQZgDQDkGYA0gxAmgFIMwBpBiDNAKQZgDQDkGYA0gxAmgFIMwBpBiDNAKQZgDQDkGYA0gxAmgFIMwBpBiDNAKQZgDQDkGYA0gxAmgFIMwBpBiDNAKQZgDQDkGYA0gxAmgFIMwBpBiDNAKQZgDQDkGYA0gxAmgFIMwBpBiDNAKQZgDQDkGYA0gxAmgFIMwBpBiDNAKQZgDQDkGYA0gxAmgFIMwBpBiDNAKQZgDQDkGYA0gxAmgFIMwBpBiDNAKQZgDQDkGYA0gxAmgFIMwBpBiDNAKQZgDQDkGYA0gxAmgFIMwBpBiDNAKQZgDQDkGYA0gxAmgFIMwBpBiDNAKQZgDQDkGYA0gxAmgFIMwBpBiDNAKQZgDQDkGYA0gxAmgFIMwBpBiDNAKQZgDQDkGYA0gxAmgFIMwBpBiDNAKQZgDQDkGYA0gxAmgFIMwBpBiDNAKQZgDQDkGYA0gxAmgFIMwBpBiDNAKQZgDQDkGYA0gxAmgFIMwBpBiDNAKQZgDQDkGYA0gxAmgFIMwBpBiDNAKQZgDQDkGYA0gxAmgFIMwBpBiDNAKQZgDQDkGYA0gxAmgFIMwBpBiDNAKQZgDQDkGYA0gxAmgFIMwBpBiDNAKQZgDQDkGYA0gxAmgFIMwBpBiDNAKQZgDQDkGYA0gxAmgFIMwBpBiDNAKQZgDQDkGYA0gxAmgFIMwBpBiDNAKQZgDQDkGYA0gxAmgFIMwBpBiDNAKQZgDQDkGYA0gxAmgFIMwBpBiDNAKQZgDQDkGYA0gxA2gdZHwL/M2K7aQAAAABJRU5ErkJggg==' style='width:None; height:None; box-shadow: 4px 4px 6px rgba(0, 0, 0, 0.5)'/><figcaption>C <small>256&times;256&times;3 float16 Role.RGB</small></figcaption></figure></div>"
      ],
      "text/plain": [
       "<IPython.core.display.HTML object>"
      ]
     },
     "metadata": {},
     "output_type": "display_data"
    }
   ],
   "source": [
    "imagecat.notebook.display(graph.output(\"/scale\"))"
   ]
  },
  {
   "cell_type": "code",
   "execution_count": null,
   "metadata": {},
   "outputs": [],
   "source": []
  }
 ],
 "metadata": {
  "kernelspec": {
   "display_name": "Python 3",
   "language": "python",
   "name": "python3"
  },
  "language_info": {
   "codemirror_mode": {
    "name": "ipython",
    "version": 3
   },
   "file_extension": ".py",
   "mimetype": "text/x-python",
   "name": "python",
   "nbconvert_exporter": "python",
   "pygments_lexer": "ipython3",
   "version": "3.7.7"
  }
 },
 "nbformat": 4,
 "nbformat_minor": 4
}
