{
 "cells": [
  {
   "cell_type": "code",
   "execution_count": 1,
   "metadata": {},
   "outputs": [],
   "source": [
    "import logging\n",
    "logging.basicConfig(level=logging.DEBUG)\n",
    "\n",
    "import graphcat.notebook\n",
    "import imagecat.notebook"
   ]
  },
  {
   "cell_type": "code",
   "execution_count": 2,
   "metadata": {},
   "outputs": [
    {
     "data": {
      "image/svg+xml": [
       "<svg height=\"54pt\" viewBox=\"0.00 0.00 137.25 54.00\" width=\"137pt\" xmlns=\"http://www.w3.org/2000/svg\" xmlns:xlink=\"http://www.w3.org/1999/xlink\">\n",
       "<g class=\"graph\" id=\"graph0\" transform=\"scale(1 1) rotate(0) translate(4 50)\">\n",
       "<title>%3</title>\n",
       "<polygon fill=\"white\" points=\"-4,4 -4,-50 133.25,-50 133.25,4 -4,4\" stroke=\"none\"/>\n",
       "<!-- /fill -->\n",
       "<g class=\"node\" id=\"node1\"><title>/fill</title>\n",
       "<polygon fill=\"white\" points=\"129.25,-30 100.25,-30 100.25,-16 129.25,-16 129.25,-30\" stroke=\"#494744\"/>\n",
       "<text fill=\"#494744\" font-family=\"Helvetica,sans-Serif\" font-size=\"8.00\" text-anchor=\"middle\" x=\"114.75\" y=\"-20.6\">/fill</text>\n",
       "</g>\n",
       "<!-- /fill/values -->\n",
       "<g class=\"node\" id=\"node2\"><title>/fill/values</title>\n",
       "<polygon fill=\"white\" points=\"47.1877,-46 -0.0626662,-46 -0.0626662,-32 47.1877,-32 47.1877,-46\" stroke=\"#494744\"/>\n",
       "<text fill=\"#494744\" font-family=\"Helvetica,sans-Serif\" font-size=\"8.00\" text-anchor=\"middle\" x=\"23.5625\" y=\"-36.6\">/fill/values</text>\n",
       "</g>\n",
       "<!-- /fill/values&#45;&gt;/fill -->\n",
       "<g class=\"edge\" id=\"edge1\"><title>/fill/values-&gt;/fill</title>\n",
       "<path d=\"M47.5305,-34.8796C60.5143,-32.5503 76.7253,-29.6421 89.8578,-27.2862\" fill=\"none\" stroke=\"#494744\"/>\n",
       "<polygon fill=\"#494744\" points=\"90.8018,-30.6728 100.027,-25.4619 89.5657,-23.7828 90.8018,-30.6728\" stroke=\"#494744\"/>\n",
       "<text font-family=\"Helvetica,sans-Serif\" font-size=\"8.00\" text-anchor=\"middle\" x=\"73.6875\" y=\"-32.6\">values</text>\n",
       "</g>\n",
       "<!-- /fill/res -->\n",
       "<g class=\"node\" id=\"node3\"><title>/fill/res</title>\n",
       "<polygon fill=\"white\" points=\"41.176,-14 5.94904,-14 5.94904,-0 41.176,-0 41.176,-14\" stroke=\"#494744\"/>\n",
       "<text fill=\"#494744\" font-family=\"Helvetica,sans-Serif\" font-size=\"8.00\" text-anchor=\"middle\" x=\"23.5625\" y=\"-4.6\">/fill/res</text>\n",
       "</g>\n",
       "<!-- /fill/res&#45;&gt;/fill -->\n",
       "<g class=\"edge\" id=\"edge2\"><title>/fill/res-&gt;/fill</title>\n",
       "<path d=\"M41.3781,-9.06369C53.6001,-10.668 70.5136,-13.1042 85.25,-16 86.9342,-16.331 88.6686,-16.696 90.4109,-17.0805\" fill=\"none\" stroke=\"#494744\"/>\n",
       "<polygon fill=\"#494744\" points=\"89.6435,-20.4955 100.181,-19.3923 91.2555,-13.6836 89.6435,-20.4955\" stroke=\"#494744\"/>\n",
       "<text font-family=\"Helvetica,sans-Serif\" font-size=\"8.00\" text-anchor=\"middle\" x=\"73.6875\" y=\"-17.6\">res</text>\n",
       "</g>\n",
       "</g>\n",
       "</svg>"
      ],
      "text/plain": [
       "<IPython.core.display.SVG object>"
      ]
     },
     "metadata": {},
     "output_type": "display_data"
    },
    {
     "name": "stderr",
     "output_type": "stream",
     "text": [
      "INFO:imagecat.operator:Task /fill fill:\n",
      "INFO:imagecat.operator:  components: ['r', 'g', 'b']\n",
      "INFO:imagecat.operator:  layer: C\n",
      "INFO:imagecat.operator:  res: [128 128]\n",
      "INFO:imagecat.operator:  role: Role.RGB\n",
      "INFO:imagecat.operator:  values: [1.  0.5 0. ]\n",
      "INFO:imagecat.operator:  output: Image(C: Layer(128x128x3 float16 ['r', 'g', 'b'] Role.RGB))\n"
     ]
    },
    {
     "data": {
      "text/html": [
       "<div style='display: flex; flex-flow: row wrap; text-align: center'><figure style='margin: 5px'><image src='data:image/png;base64,iVBORw0KGgoAAAANSUhEUgAAAIAAAACACAIAAABMXPacAAABLklEQVR4nO3RQQ0AIBDAMMC/o/NGkNEHq4Il23dWoKMDftcArAFYA7AGYA3AGoA1AGsA1gCsAVgDsAZgDcAagDUAawDWAKwBWAOwBmANwBqANQBrANYArAFYA7AGYA3AGoA1AGsA1gCsAVgDsAZgDcAagDUAawDWAKwBWAOwBmANwBqANQBrANYArAFYA7AGYA3AGoA1AGsA1gCsAVgDsAZgDcAagDUAawDWAKwBWAOwBmANwBqANQBrANYArAFYA7AGYA3AGoA1AGsA1gCsAVgDsAZgDcAagDUAawDWAKwBWAOwBmANwBqANQBrANYArAFYA7AGYA3AGoA1AGsA1gCsAVgDsAZgDcAagDUAawDWAKwBWAOwBmANwBqANQBrANYArAFYA7AGYA3AGoA9s6ACubDBUlAAAAAASUVORK5CYII=' style='width:None; height:None; box-shadow: 4px 4px 6px rgba(0, 0, 0, 0.5)'/><figcaption>C <small>128&times;128&times;3 float16 Role.RGB</small></figcaption></figure></div>"
      ],
      "text/plain": [
       "<IPython.core.display.HTML object>"
      ]
     },
     "metadata": {},
     "output_type": "display_data"
    }
   ],
   "source": [
    "graph = graphcat.DynamicGraph()\n",
    "imagecat.add_task(graph, \"/fill\", imagecat.operator.fill, values=(1, 0.5, 0), res=(128, 128))\n",
    "graphcat.notebook.display(graph)\n",
    "imagecat.notebook.display(graph.output(\"/fill\"))"
   ]
  }
 ],
 "metadata": {
  "kernelspec": {
   "display_name": "Python 3",
   "language": "python",
   "name": "python3"
  },
  "language_info": {
   "codemirror_mode": {
    "name": "ipython",
    "version": 3
   },
   "file_extension": ".py",
   "mimetype": "text/x-python",
   "name": "python",
   "nbconvert_exporter": "python",
   "pygments_lexer": "ipython3",
   "version": "3.7.7"
  }
 },
 "nbformat": 4,
 "nbformat_minor": 4
}
