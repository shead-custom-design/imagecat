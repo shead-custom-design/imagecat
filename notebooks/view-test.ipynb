{
 "cells": [
  {
   "cell_type": "code",
   "execution_count": 18,
   "metadata": {},
   "outputs": [
    {
     "data": {
      "text/html": [
       "<h1>Reference Image</h1><p>/Users/tshead/src/imagecat/features/reference/text-right-align.icp</p>"
      ],
      "text/plain": [
       "<IPython.core.display.HTML object>"
      ]
     },
     "metadata": {},
     "output_type": "display_data"
    },
    {
     "data": {
      "text/html": [
       "<div style='display: flex; flex-flow: row wrap; text-align: center'><figure style='margin: 5px'><image src='data:image/png;base64,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' style='width:None; height:None; box-shadow: 4px 4px 6px rgba(0, 0, 0, 0.5)'/><figcaption>A <small>256&times;128&times;1 float16 Role.NONE</small></figcaption></figure></div>"
      ],
      "text/plain": [
       "<IPython.core.display.HTML object>"
      ]
     },
     "metadata": {},
     "output_type": "display_data"
    },
    {
     "data": {
      "text/html": [
       "<h1>Failed Image</h1><p>/Users/tshead/src/imagecat/features/failed/text-right-align.icp</p>"
      ],
      "text/plain": [
       "<IPython.core.display.HTML object>"
      ]
     },
     "metadata": {},
     "output_type": "display_data"
    },
    {
     "data": {
      "text/html": [
       "<div style='display: flex; flex-flow: row wrap; text-align: center'><figure style='margin: 5px'><image src='data:image/png;base64,iVBORw0KGgoAAAANSUhEUgAAAQAAAACACAAAAADB3ujWAAAFNElEQVR4nO3YWWxUVRzH8e90p0BDpdiAiiCLYIqgLFoCJW2KlIQEFOIeIYEHoiASjfZFiaaJEnENoMKDoEbCg2gQCaCmUHEBBBWiUHWiLFJKWywtpRTa/ny4d5Z2etsH25lC/5+HmTP/nv+95/w7d865F4wxxhhjjDHGGGOMMcYYY4wxxhhjjDHGGGOMMcZcK0ok6QJAXOce+AdJeqZzj9kVagBqodMLcLWoDb705ALUACTEdiBRM2EWULk68DF0CfSYAqwASoMFsEsA3K9BDy2ArQLBl55cALsEIBqrQFLeqGT/zloAbr+7/7kDPyn0x745I1Mq9h1pneMRjp8wJoOq0v2XWkT7ZQ9Pqzmzt6yj7HChS6CThW2FGyUp37e0UpKqCoCJ+yVJhyYFh77moiTpx8mskqRt7YZTX6qQJKl+3ZDQGSdua5QkNRXf45ldpJBqAG6RpHlRKMCMze5568Ywr8Ft1+c4nW8tDYzqysNhM/UKHwnN4vx97vkSixpD0YVe2ZEFyJCkGVEoQHHwxAez6oPtk0kAmeWhYV3+MjhTj/ANFWGz0JXpzvnWh8X8vb2yIwuQLEmTo1AASc3u+zFJTW77IYAv3A9NwcFt8w7HlUhSw9aVr2ypl6TjyQBPhPVtzvHMjiwADZKyolGA3wsSUxe7tdg8ksw1kqT1wHRnoKtvi0vJ3xuaqUd4riSdGgEw5A9Jmg/0q5YkbbgjMTVv9xt4Zk8tLPxUks4WFhY+5Qy0UtLNUShA1SCAtZKkTwB8fkn6DvhYkhrnAJCwJThTj/BnkuREmSVJm4CFkqQlAPiS8M6GxZJ0LDTQvyRdF4UCrAQgW5I0FoDXJOko8I8kBe5OMuoCY/UIV6qVI8AHkvRV+Pk9siMLcFhSAnT5Rmg/AH6A+sMAnABIgV6DADa5/Sr3uA2PcJ/+rY88ABgGsDks6JHdhhq41AhdXoDzAFQA1Dj7n3MAPugDwOlAx8A2xiOcEnHkeKB3i77e2W2oDeyDorIVVhvtOgAGBsKZ7Yedwab7QgYAFwAGhR3cI7sNM32+64EY3gtcLAN4wP2UPq39cMMJgNY7Fz/Agx0fNCBssoOXPp3VOhZlJQCPz3JGsbZPB+HdAC87/zQSX70fgGKAvCUdH9SVGR9oFZS+verw8v85g7ZE3As4YUk64zQflaS/gZnOkv3m6Ljk3OLQgu8RzpUknVw4kJRhTx5TeX+AtH+dfcC4hKS7NhbhnQ3zJUnLkqcMA0gtk6TmMTEtALvcBa1JkhqDY/UIb3HD7qbqI8Bd3Ny+jRPaySbPCTdrA8AU51MhMX0eML/SeY8Dqj/sKLzAXcTdb/HcTIB33wv1jX8/yTub7531yMcjQwFfqFMMC1A2zR9o1sw+3lG4Jm9XWG71veUALClqCsayFntnU7/CbSQUAofKAbSd2D4R+m3SugYAdtxZ0nG4rGDRUbfZsHH0DqfV+Hz2drcEvy5a0042by2rAaDiJFC34BLouZ8JfhliJS1nZPKZEr9n+PXlwNbZgfjw8Tf1ulz154G68M7p2cPTLpzd54/Mbqlv/gjfuV8OOvUaPCdpZ7vPjLqJbyVpY1eeoTs+FH3sxkArdzLAUe+u16RnVeY+rZvh3AOO7cqzxfg3oA0vvgD4vzlxOWPqeAC+zo/tgKJsXOARWsDpobEeUpQtutJi/me74sld9zZ+T2j6Te9EPAnpZN3vNwAYlZ87KiO9tty//fNTsR6LMcYYY4wxxhhjjDHGGGOMMcYYY4wxxhhjjDHGXJX+A90e5RkoejT9AAAAAElFTkSuQmCC' style='width:None; height:None; box-shadow: 4px 4px 6px rgba(0, 0, 0, 0.5)'/><figcaption>A <small>256&times;128&times;1 float16 Role.NONE</small></figcaption></figure></div>"
      ],
      "text/plain": [
       "<IPython.core.display.HTML object>"
      ]
     },
     "metadata": {},
     "output_type": "display_data"
    }
   ],
   "source": [
    "import os\n",
    "import IPython.display\n",
    "import graphcat\n",
    "import imagecat.notebook\n",
    "\n",
    "name = \"text-right-align\"\n",
    "\n",
    "reference_path = os.path.abspath(f\"../features/reference/{name}.icp\")\n",
    "failed_path = os.path.abspath(f\"../features/failed/{name}.icp\")\n",
    "\n",
    "graph = graphcat.Graph()\n",
    "imagecat.add_operation(graph, \"/load-reference\", imagecat.load, path=reference_path)\n",
    "imagecat.add_operation(graph, \"/load-failed\", imagecat.load, path=failed_path);\n",
    "\n",
    "IPython.display.display(IPython.display.HTML(f\"<h1>Reference Image</h1><p>{reference_path}</p>\"))\n",
    "imagecat.notebook.display(graph.output(\"/load-reference\"))\n",
    "\n",
    "if os.path.exists(failed_path):\n",
    "    IPython.display.display(IPython.display.HTML(f\"<h1>Failed Image</h1><p>{failed_path}</p>\"))\n",
    "    imagecat.notebook.display(graph.output(\"/load-failed\"))"
   ]
  },
  {
   "cell_type": "code",
   "execution_count": null,
   "metadata": {},
   "outputs": [],
   "source": []
  }
 ],
 "metadata": {
  "kernelspec": {
   "display_name": "Python 3",
   "language": "python",
   "name": "python3"
  },
  "language_info": {
   "codemirror_mode": {
    "name": "ipython",
    "version": 3
   },
   "file_extension": ".py",
   "mimetype": "text/x-python",
   "name": "python",
   "nbconvert_exporter": "python",
   "pygments_lexer": "ipython3",
   "version": "3.7.7"
  }
 },
 "nbformat": 4,
 "nbformat_minor": 4
}
