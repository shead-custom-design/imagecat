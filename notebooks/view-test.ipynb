{
 "cells": [
  {
   "cell_type": "code",
   "execution_count": 12,
   "metadata": {},
   "outputs": [
    {
     "data": {
      "text/html": [
       "<h1>Reference Image</h1><p>/Users/tshead/src/imagecat/features/reference/text-left-align.icp</p>"
      ],
      "text/plain": [
       "<IPython.core.display.HTML object>"
      ]
     },
     "metadata": {},
     "output_type": "display_data"
    },
    {
     "data": {
      "text/html": [
       "<div style='display: flex; flex-flow: row wrap; text-align: center'><figure style='margin: 5px'><image src='data:image/png;base64,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' style='width:None; height:None; box-shadow: 4px 4px 6px rgba(0, 0, 0, 0.5)'/><figcaption>A <small>256&times;128&times;1 float16 Role.NONE</small></figcaption></figure></div>"
      ],
      "text/plain": [
       "<IPython.core.display.HTML object>"
      ]
     },
     "metadata": {},
     "output_type": "display_data"
    }
   ],
   "source": [
    "import os\n",
    "import IPython.display\n",
    "import graphcat\n",
    "import imagecat.notebook\n",
    "\n",
    "name = \"text-left-align\"\n",
    "\n",
    "reference_path = os.path.abspath(f\"../features/reference/{name}.icp\")\n",
    "failed_path = os.path.abspath(f\"../features/failed/{name}.icp\")\n",
    "\n",
    "graph = graphcat.Graph()\n",
    "imagecat.add_operation(graph, \"/load-reference\", imagecat.load, path=reference_path)\n",
    "imagecat.add_operation(graph, \"/load-failed\", imagecat.load, path=failed_path);\n",
    "\n",
    "IPython.display.display(IPython.display.HTML(f\"<h1>Reference Image</h1><p>{reference_path}</p>\"))\n",
    "imagecat.notebook.display(graph.output(\"/load-reference\"))\n",
    "\n",
    "if os.path.exists(failed_path):\n",
    "    IPython.display.display(IPython.display.HTML(f\"<h1>Failed Image</h1><p>{failed_path}</p>\"))\n",
    "    imagecat.notebook.display(graph.output(\"/load-failed\"))"
   ]
  },
  {
   "cell_type": "code",
   "execution_count": null,
   "metadata": {},
   "outputs": [],
   "source": []
  }
 ],
 "metadata": {
  "kernelspec": {
   "display_name": "Python 3",
   "language": "python",
   "name": "python3"
  },
  "language_info": {
   "codemirror_mode": {
    "name": "ipython",
    "version": 3
   },
   "file_extension": ".py",
   "mimetype": "text/x-python",
   "name": "python",
   "nbconvert_exporter": "python",
   "pygments_lexer": "ipython3",
   "version": "3.7.7"
  }
 },
 "nbformat": 4,
 "nbformat_minor": 4
}
