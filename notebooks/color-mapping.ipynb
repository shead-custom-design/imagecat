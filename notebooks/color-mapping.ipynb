{
 "cells": [
  {
   "cell_type": "code",
   "execution_count": 1,
   "metadata": {},
   "outputs": [],
   "source": [
    "import functools\n",
    "import logging\n",
    "logging.basicConfig(level=logging.DEBUG)\n",
    "\n",
    "import graphcat.notebook\n",
    "import imagecat.color.basic\n",
    "import imagecat.notebook"
   ]
  },
  {
   "cell_type": "code",
   "execution_count": 2,
   "metadata": {},
   "outputs": [
    {
     "data": {
      "image/svg+xml": [
       "<svg height=\"126pt\" viewBox=\"0.00 0.00 324.35 126.00\" width=\"324pt\" xmlns=\"http://www.w3.org/2000/svg\" xmlns:xlink=\"http://www.w3.org/1999/xlink\">\n",
       "<g class=\"graph\" id=\"graph0\" transform=\"scale(1 1) rotate(0) translate(4 122)\">\n",
       "<title>%3</title>\n",
       "<polygon fill=\"white\" points=\"-4,4 -4,-122 320.354,-122 320.354,4 -4,4\" stroke=\"none\"/>\n",
       "<!-- /random -->\n",
       "<g class=\"node\" id=\"node1\"><title>/random</title>\n",
       "<polygon fill=\"white\" points=\"172.748,-66 131.049,-66 131.049,-52 172.748,-52 172.748,-66\" stroke=\"#494744\"/>\n",
       "<text fill=\"#494744\" font-family=\"Helvetica,sans-Serif\" font-size=\"8.00\" text-anchor=\"middle\" x=\"151.898\" y=\"-56.6\">/random</text>\n",
       "</g>\n",
       "<!-- /colormap -->\n",
       "<g class=\"node\" id=\"node2\"><title>/colormap</title>\n",
       "<polygon fill=\"white\" points=\"129.524,-14 82.2733,-14 82.2733,-0 129.524,-0 129.524,-14\" stroke=\"#494744\"/>\n",
       "<text fill=\"#494744\" font-family=\"Helvetica,sans-Serif\" font-size=\"8.00\" text-anchor=\"middle\" x=\"105.898\" y=\"-4.6\">/colormap</text>\n",
       "</g>\n",
       "<!-- /random&#45;&gt;/colormap -->\n",
       "<g class=\"edge\" id=\"edge1\"><title>/random-&gt;/colormap</title>\n",
       "<path d=\"M146.258,-51.869C139.361,-44.3719 127.484,-31.4621 118.394,-21.5822\" fill=\"none\" stroke=\"#494744\"/>\n",
       "<polygon fill=\"#494744\" points=\"120.931,-19.1708 111.585,-14.1811 115.78,-23.9102 120.931,-19.1708\" stroke=\"#494744\"/>\n",
       "<text font-family=\"Helvetica,sans-Serif\" font-size=\"8.00\" text-anchor=\"middle\" x=\"142.793\" y=\"-30.6\">image</text>\n",
       "</g>\n",
       "<!-- /random/size -->\n",
       "<g class=\"node\" id=\"node3\"><title>/random/size</title>\n",
       "<polygon fill=\"white\" points=\"57.6957,-118 0.101207,-118 0.101207,-104 57.6957,-104 57.6957,-118\" stroke=\"#494744\"/>\n",
       "<text fill=\"#494744\" font-family=\"Helvetica,sans-Serif\" font-size=\"8.00\" text-anchor=\"middle\" x=\"28.8984\" y=\"-108.6\">/random/size</text>\n",
       "</g>\n",
       "<!-- /random/size&#45;&gt;/random -->\n",
       "<g class=\"edge\" id=\"edge2\"><title>/random/size-&gt;/random</title>\n",
       "<path d=\"M43.9807,-103.869C64.8418,-95.3889 102.738,-79.9837 127.615,-69.8714\" fill=\"none\" stroke=\"#494744\"/>\n",
       "<polygon fill=\"#494744\" points=\"129.131,-73.0332 137.077,-66.025 126.495,-66.5485 129.131,-73.0332\" stroke=\"#494744\"/>\n",
       "<text font-family=\"Helvetica,sans-Serif\" font-size=\"8.00\" text-anchor=\"middle\" x=\"105.012\" y=\"-82.6\">size</text>\n",
       "</g>\n",
       "<!-- /random/layer -->\n",
       "<g class=\"node\" id=\"node4\"><title>/random/layer</title>\n",
       "<polygon fill=\"white\" points=\"136.309,-118 75.4882,-118 75.4882,-104 136.309,-104 136.309,-118\" stroke=\"#494744\"/>\n",
       "<text fill=\"#494744\" font-family=\"Helvetica,sans-Serif\" font-size=\"8.00\" text-anchor=\"middle\" x=\"105.898\" y=\"-108.6\">/random/layer</text>\n",
       "</g>\n",
       "<!-- /random/layer&#45;&gt;/random -->\n",
       "<g class=\"edge\" id=\"edge3\"><title>/random/layer-&gt;/random</title>\n",
       "<path d=\"M111.539,-103.869C118.436,-96.3719 130.313,-83.4621 139.403,-73.5822\" fill=\"none\" stroke=\"#494744\"/>\n",
       "<polygon fill=\"#494744\" points=\"142.017,-75.9102 146.212,-66.1811 136.865,-71.1708 142.017,-75.9102\" stroke=\"#494744\"/>\n",
       "<text font-family=\"Helvetica,sans-Serif\" font-size=\"8.00\" text-anchor=\"middle\" x=\"140.568\" y=\"-82.6\">layer</text>\n",
       "</g>\n",
       "<!-- /random/components -->\n",
       "<g class=\"node\" id=\"node5\"><title>/random/components</title>\n",
       "<polygon fill=\"white\" points=\"241.551,-118 154.246,-118 154.246,-104 241.551,-104 241.551,-118\" stroke=\"#494744\"/>\n",
       "<text fill=\"#494744\" font-family=\"Helvetica,sans-Serif\" font-size=\"8.00\" text-anchor=\"middle\" x=\"197.898\" y=\"-108.6\">/random/components</text>\n",
       "</g>\n",
       "<!-- /random/components&#45;&gt;/random -->\n",
       "<g class=\"edge\" id=\"edge4\"><title>/random/components-&gt;/random</title>\n",
       "<path d=\"M192.258,-103.869C185.361,-96.3719 173.484,-83.4621 164.394,-73.5822\" fill=\"none\" stroke=\"#494744\"/>\n",
       "<polygon fill=\"#494744\" points=\"166.931,-71.1708 157.585,-66.1811 161.78,-75.9102 166.931,-71.1708\" stroke=\"#494744\"/>\n",
       "<text font-family=\"Helvetica,sans-Serif\" font-size=\"8.00\" text-anchor=\"middle\" x=\"199.689\" y=\"-82.6\">components</text>\n",
       "</g>\n",
       "<!-- /random/role -->\n",
       "<g class=\"node\" id=\"node6\"><title>/random/role</title>\n",
       "<polygon fill=\"white\" points=\"316.309,-118 259.488,-118 259.488,-104 316.309,-104 316.309,-118\" stroke=\"#494744\"/>\n",
       "<text fill=\"#494744\" font-family=\"Helvetica,sans-Serif\" font-size=\"8.00\" text-anchor=\"middle\" x=\"287.898\" y=\"-108.6\">/random/role</text>\n",
       "</g>\n",
       "<!-- /random/role&#45;&gt;/random -->\n",
       "<g class=\"edge\" id=\"edge5\"><title>/random/role-&gt;/random</title>\n",
       "<path d=\"M276.255,-103.863C263.972,-97.5537 243.935,-87.7277 225.898,-81 211.84,-75.7561 195.867,-71.07 182.368,-67.4621\" fill=\"none\" stroke=\"#494744\"/>\n",
       "<polygon fill=\"#494744\" points=\"183.159,-64.0516 172.6,-64.9221 181.398,-70.8263 183.159,-64.0516\" stroke=\"#494744\"/>\n",
       "<text font-family=\"Helvetica,sans-Serif\" font-size=\"8.00\" text-anchor=\"middle\" x=\"252.568\" y=\"-82.6\">role</text>\n",
       "</g>\n",
       "<!-- /colormap/mapping -->\n",
       "<g class=\"node\" id=\"node7\"><title>/colormap/mapping</title>\n",
       "<polygon fill=\"white\" points=\"112.934,-66 32.8633,-66 32.8633,-52 112.934,-52 112.934,-66\" stroke=\"#494744\"/>\n",
       "<text fill=\"#494744\" font-family=\"Helvetica,sans-Serif\" font-size=\"8.00\" text-anchor=\"middle\" x=\"72.8984\" y=\"-56.6\">/colormap/mapping</text>\n",
       "</g>\n",
       "<!-- /colormap/mapping&#45;&gt;/colormap -->\n",
       "<g class=\"edge\" id=\"edge6\"><title>/colormap/mapping-&gt;/colormap</title>\n",
       "<path d=\"M75.0247,-51.9278C77.3025,-45.8456 81.2666,-36.3566 86.2109,-29 87.9358,-26.4336 89.977,-23.881 92.0808,-21.4855\" fill=\"none\" stroke=\"#494744\"/>\n",
       "<polygon fill=\"#494744\" points=\"94.7142,-23.7961 99.106,-14.1544 89.6601,-18.9529 94.7142,-23.7961\" stroke=\"#494744\"/>\n",
       "<text font-family=\"Helvetica,sans-Serif\" font-size=\"8.00\" text-anchor=\"middle\" x=\"102.242\" y=\"-30.6\">mapping</text>\n",
       "</g>\n",
       "</g>\n",
       "</svg>"
      ],
      "text/plain": [
       "<IPython.core.display.SVG object>"
      ]
     },
     "metadata": {},
     "output_type": "display_data"
    }
   ],
   "source": [
    "mapping = functools.partial(imagecat.color.linear_map, palette=imagecat.color.basic.palette(\"Blackbody\"))\n",
    "\n",
    "graph = graphcat.Graph()\n",
    "imagecat.add_operation(graph, \"/random\", imagecat.uniform, size=(32, 32), layer=\"L\", components=[\"\"], role=imagecat.Role.NONE)\n",
    "imagecat.add_operation(graph, \"/colormap\", imagecat.colormap, mapping=mapping)\n",
    "graph.add_links(\"/random\", (\"/colormap\", \"image\"))\n",
    "graphcat.notebook.display(graph)"
   ]
  },
  {
   "cell_type": "code",
   "execution_count": 3,
   "metadata": {},
   "outputs": [
    {
     "name": "stderr",
     "output_type": "stream",
     "text": [
      "INFO:imagecat:Task /random uniform:\n",
      "INFO:imagecat:  components: ['']\n",
      "INFO:imagecat:  layer: L\n",
      "INFO:imagecat:  role: Role.NONE\n",
      "INFO:imagecat:  seed: 1234\n",
      "INFO:imagecat:  size: [32 32]\n",
      "INFO:imagecat:  output: Image(L: Layer(32x32x1 float16 [''] Role.NONE))\n",
      "INFO:imagecat:Task /colormap colormap:\n",
      "INFO:imagecat:  layers: *\n",
      "INFO:imagecat:  mapping: functools.partial(<function linear_map at 0x7fd4b4f9f710>, palette=<imagecat.color.Palette object at 0x7fd4b4ff0090>)\n",
      "INFO:imagecat:  output: Image(L: Layer(32x32x3 float64 ['r', 'g', 'b'] Role.RGB))\n"
     ]
    },
    {
     "data": {
      "text/html": [
       "<div style='display: flex; flex-flow: row wrap; text-align: center'><figure style='margin: 5px'><image src='data:image/png;base64,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' style='width:None; height:300px; box-shadow: 4px 4px 6px rgba(0, 0, 0, 0.5)'/><figcaption>L <small>32&times;32&times;3 float64 Role.RGB</small></figcaption></figure></div>"
      ],
      "text/plain": [
       "<IPython.core.display.HTML object>"
      ]
     },
     "metadata": {},
     "output_type": "display_data"
    }
   ],
   "source": [
    "imagecat.notebook.display(graph.output(\"/colormap\"), height=\"300px\")"
   ]
  }
 ],
 "metadata": {
  "kernelspec": {
   "display_name": "Python 3",
   "language": "python",
   "name": "python3"
  },
  "language_info": {
   "codemirror_mode": {
    "name": "ipython",
    "version": 3
   },
   "file_extension": ".py",
   "mimetype": "text/x-python",
   "name": "python",
   "nbconvert_exporter": "python",
   "pygments_lexer": "ipython3",
   "version": "3.7.7"
  }
 },
 "nbformat": 4,
 "nbformat_minor": 4
}
