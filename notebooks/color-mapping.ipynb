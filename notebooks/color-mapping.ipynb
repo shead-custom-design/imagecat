{
 "cells": [
  {
   "cell_type": "code",
   "execution_count": 1,
   "metadata": {},
   "outputs": [],
   "source": [
    "import logging\n",
    "logging.basicConfig(level=logging.DEBUG)\n",
    "\n",
    "import graphcat.notebook\n",
    "import imagecat.notebook"
   ]
  },
  {
   "cell_type": "code",
   "execution_count": 2,
   "metadata": {},
   "outputs": [
    {
     "data": {
      "image/svg+xml": [
       "<svg height=\"126pt\" viewBox=\"0.00 0.00 324.35 126.00\" width=\"324pt\" xmlns=\"http://www.w3.org/2000/svg\" xmlns:xlink=\"http://www.w3.org/1999/xlink\">\n",
       "<g class=\"graph\" id=\"graph0\" transform=\"scale(1 1) rotate(0) translate(4 122)\">\n",
       "<title>%3</title>\n",
       "<polygon fill=\"white\" points=\"-4,4 -4,-122 320.354,-122 320.354,4 -4,4\" stroke=\"none\"/>\n",
       "<!-- /random -->\n",
       "<g class=\"node\" id=\"node1\"><title>/random</title>\n",
       "<polygon fill=\"white\" points=\"172.748,-66 131.049,-66 131.049,-52 172.748,-52 172.748,-66\" stroke=\"#494744\"/>\n",
       "<text fill=\"#494744\" font-family=\"Helvetica,sans-Serif\" font-size=\"8.00\" text-anchor=\"middle\" x=\"151.898\" y=\"-56.6\">/random</text>\n",
       "</g>\n",
       "<!-- /colormap -->\n",
       "<g class=\"node\" id=\"node2\"><title>/colormap</title>\n",
       "<polygon fill=\"white\" points=\"175.524,-14 128.273,-14 128.273,-0 175.524,-0 175.524,-14\" stroke=\"#494744\"/>\n",
       "<text fill=\"#494744\" font-family=\"Helvetica,sans-Serif\" font-size=\"8.00\" text-anchor=\"middle\" x=\"151.898\" y=\"-4.6\">/colormap</text>\n",
       "</g>\n",
       "<!-- /random&#45;&gt;/colormap -->\n",
       "<g class=\"edge\" id=\"edge1\"><title>/random-&gt;/colormap</title>\n",
       "<path d=\"M151.898,-51.869C151.898,-45.0466 151.898,-33.742 151.898,-24.3173\" fill=\"none\" stroke=\"#494744\"/>\n",
       "<polygon fill=\"#494744\" points=\"155.399,-24.1811 151.898,-14.1811 148.399,-24.1812 155.399,-24.1811\" stroke=\"#494744\"/>\n",
       "<text font-family=\"Helvetica,sans-Serif\" font-size=\"8.00\" text-anchor=\"middle\" x=\"162.793\" y=\"-30.6\">image</text>\n",
       "</g>\n",
       "<!-- /random/size -->\n",
       "<g class=\"node\" id=\"node3\"><title>/random/size</title>\n",
       "<polygon fill=\"white\" points=\"57.6957,-118 0.101207,-118 0.101207,-104 57.6957,-104 57.6957,-118\" stroke=\"#494744\"/>\n",
       "<text fill=\"#494744\" font-family=\"Helvetica,sans-Serif\" font-size=\"8.00\" text-anchor=\"middle\" x=\"28.8984\" y=\"-108.6\">/random/size</text>\n",
       "</g>\n",
       "<!-- /random/size&#45;&gt;/random -->\n",
       "<g class=\"edge\" id=\"edge2\"><title>/random/size-&gt;/random</title>\n",
       "<path d=\"M43.9807,-103.869C64.8418,-95.3889 102.738,-79.9837 127.615,-69.8714\" fill=\"none\" stroke=\"#494744\"/>\n",
       "<polygon fill=\"#494744\" points=\"129.131,-73.0332 137.077,-66.025 126.495,-66.5485 129.131,-73.0332\" stroke=\"#494744\"/>\n",
       "<text font-family=\"Helvetica,sans-Serif\" font-size=\"8.00\" text-anchor=\"middle\" x=\"105.012\" y=\"-82.6\">size</text>\n",
       "</g>\n",
       "<!-- /random/layer -->\n",
       "<g class=\"node\" id=\"node4\"><title>/random/layer</title>\n",
       "<polygon fill=\"white\" points=\"136.309,-118 75.4882,-118 75.4882,-104 136.309,-104 136.309,-118\" stroke=\"#494744\"/>\n",
       "<text fill=\"#494744\" font-family=\"Helvetica,sans-Serif\" font-size=\"8.00\" text-anchor=\"middle\" x=\"105.898\" y=\"-108.6\">/random/layer</text>\n",
       "</g>\n",
       "<!-- /random/layer&#45;&gt;/random -->\n",
       "<g class=\"edge\" id=\"edge3\"><title>/random/layer-&gt;/random</title>\n",
       "<path d=\"M111.539,-103.869C118.436,-96.3719 130.313,-83.4621 139.403,-73.5822\" fill=\"none\" stroke=\"#494744\"/>\n",
       "<polygon fill=\"#494744\" points=\"142.017,-75.9102 146.212,-66.1811 136.865,-71.1708 142.017,-75.9102\" stroke=\"#494744\"/>\n",
       "<text font-family=\"Helvetica,sans-Serif\" font-size=\"8.00\" text-anchor=\"middle\" x=\"140.568\" y=\"-82.6\">layer</text>\n",
       "</g>\n",
       "<!-- /random/components -->\n",
       "<g class=\"node\" id=\"node5\"><title>/random/components</title>\n",
       "<polygon fill=\"white\" points=\"241.551,-118 154.246,-118 154.246,-104 241.551,-104 241.551,-118\" stroke=\"#494744\"/>\n",
       "<text fill=\"#494744\" font-family=\"Helvetica,sans-Serif\" font-size=\"8.00\" text-anchor=\"middle\" x=\"197.898\" y=\"-108.6\">/random/components</text>\n",
       "</g>\n",
       "<!-- /random/components&#45;&gt;/random -->\n",
       "<g class=\"edge\" id=\"edge4\"><title>/random/components-&gt;/random</title>\n",
       "<path d=\"M192.258,-103.869C185.361,-96.3719 173.484,-83.4621 164.394,-73.5822\" fill=\"none\" stroke=\"#494744\"/>\n",
       "<polygon fill=\"#494744\" points=\"166.931,-71.1708 157.585,-66.1811 161.78,-75.9102 166.931,-71.1708\" stroke=\"#494744\"/>\n",
       "<text font-family=\"Helvetica,sans-Serif\" font-size=\"8.00\" text-anchor=\"middle\" x=\"199.689\" y=\"-82.6\">components</text>\n",
       "</g>\n",
       "<!-- /random/role -->\n",
       "<g class=\"node\" id=\"node6\"><title>/random/role</title>\n",
       "<polygon fill=\"white\" points=\"316.309,-118 259.488,-118 259.488,-104 316.309,-104 316.309,-118\" stroke=\"#494744\"/>\n",
       "<text fill=\"#494744\" font-family=\"Helvetica,sans-Serif\" font-size=\"8.00\" text-anchor=\"middle\" x=\"287.898\" y=\"-108.6\">/random/role</text>\n",
       "</g>\n",
       "<!-- /random/role&#45;&gt;/random -->\n",
       "<g class=\"edge\" id=\"edge5\"><title>/random/role-&gt;/random</title>\n",
       "<path d=\"M276.255,-103.863C263.972,-97.5537 243.935,-87.7277 225.898,-81 211.84,-75.7561 195.867,-71.07 182.368,-67.4621\" fill=\"none\" stroke=\"#494744\"/>\n",
       "<polygon fill=\"#494744\" points=\"183.159,-64.0516 172.6,-64.9221 181.398,-70.8263 183.159,-64.0516\" stroke=\"#494744\"/>\n",
       "<text font-family=\"Helvetica,sans-Serif\" font-size=\"8.00\" text-anchor=\"middle\" x=\"252.568\" y=\"-82.6\">role</text>\n",
       "</g>\n",
       "</g>\n",
       "</svg>"
      ],
      "text/plain": [
       "<IPython.core.display.SVG object>"
      ]
     },
     "metadata": {},
     "output_type": "display_data"
    }
   ],
   "source": [
    "graph = graphcat.Graph()\n",
    "imagecat.add_operation(graph, \"/random\", imagecat.uniform, size=(32, 32), layer=\"L\", components=[\"\"], role=imagecat.Role.NONE)\n",
    "imagecat.add_operation(graph, \"/colormap\", imagecat.colormap)\n",
    "graph.add_links(\"/random\", (\"/colormap\", \"image\"))\n",
    "graphcat.notebook.display(graph)"
   ]
  },
  {
   "cell_type": "code",
   "execution_count": 3,
   "metadata": {},
   "outputs": [
    {
     "name": "stderr",
     "output_type": "stream",
     "text": [
      "INFO:imagecat:Task /random uniform:\n",
      "INFO:imagecat:  components: ['']\n",
      "INFO:imagecat:  layer: L\n",
      "INFO:imagecat:  role: Role.NONE\n",
      "INFO:imagecat:  seed: 1234\n",
      "INFO:imagecat:  size: [32 32]\n",
      "INFO:imagecat:  output: Image(L: Layer(32x32x1 float16 [''] Role.NONE))\n"
     ]
    },
    {
     "data": {
      "text/html": [
       "<div style='display: flex; flex-flow: row wrap; text-align: center'><figure style='margin: 5px'><image src='data:image/png;base64,iVBORw0KGgoAAAANSUhEUgAAACAAAAAgCAAAAABWESUoAAAEK0lEQVR4nAEgBN/7Afloi1cOzSATpU0tLEAA0PwUffOyMZ/98XPqdxh5P5uRAbwvPNYxwiZhXHWWG96b7B2dIk8yt9ykzrj9SRxxcBMUAAaDnEhziPwCM0JXDlMz06IWOK4i9CPMf0485GATCXbfAFnS8hFMnk0tfsKvP59QR+1H8jSQYc4h8rotsRiOGgtkAbAJ8uxJqZAL0dc277ZBP2/qrOSaXjVHFq6PDdQ0I/4TAR9pYUbO43LfTtG4EH4MVA635t+fvNjeaR2ixMua7KI0AKECOTc4vfBEvgHOzg4ZjcK6rsKZPAfoarhE+i0Mfl6nAl8ioncdSRsfMumCkTYLCrQb0EPX5k6YIfmyZpR7XjG6AYAHdBX7J88aSs9HXcshEEzrZwV+TS8eSkfNp+L7nDlYAeoBVkjFEPwUk3Pc80/rO75j8MFntMbP7zHlOE9EvmNrAhfpdqWc/ELJfjriEN0RkgNCp3s9RMojBTtXbfXnahJHAN4iXAM8WE8f81t4sdDjluKNyz6/QpPvnRLkhBVfuxiqAP4wo+zPPKjfrSzS198fY4YgZerBELuI+bD8ZcjNIjKNBNISYkgQX4gSXPaYBLMHAjYdJ71mv4AeQIDQdmdaMX5QAcjIpdQQxtoIy9YDqosTbrjcQwLhq+uZW8Pll/oh3/MIAqVG3QHtmPwEA29rJJ0u42DrU5cZuKKQdWeLAORZ5Q17AaoeJsgw8duiu+qnUjYRWLe+oYuoQD3680v6jkwTZ+oLAZ3lb437GrqUpAesVPm5L6wfsPj05JvAp3OEFJytksulAGbsNtx4nkZZEBeCQMRZ3dE3HlKP2PrIVPnmhGRg+2SkArkxgwIXO7sH90zNHGNlITBtNjjdHznSZSjITw24JRUWAoD+nGvJRX/4srPksDYMImoK0XuZmxcSfGE2xDHcOPnqBNd7a4m3QEnUJJgS3Vzvw99J/sksrhn2++d76uFNpZLqAn8XDL8mBm8Q2RweknU+Y02WQhhQbRCUbiCNCZXcELMvBK8HX6AuPy9yARkJs8IKuQXxYLfMvDiGfeSg+iDONJ8YAuX1Awukq0KbacnX748W+quyNGUKSTkGu6QRz1YjbxAvASIhh7gbj270HsUzyCOxyyME4dY7vBHxG9/YHI7ukLx6Al4zMA1L4a8W7zyE6jfRNFDuELVebcOJJ6doLUPct8StAeio2LkmOsj8IM8uTBBJwQXOyns+rPcU6V/puPPYlxFUAbFGp0PwQa0r+Mfl+BHBWxCCCgNj7OlFPUSsKcHOshAaANBoE+QMxdjASAKHaF8JfPKfaSiwk+pWaS2Q/jMiJFPnAFR18WFr8UcwummT9MJ0JNeXFvdjCfGcdHXzTFsmPAxZAciuCyrGw6+/OL7jZiPsPegva/Q+Og/j25fQ3M2gBBJk1/vz9GiRk3wAAAAASUVORK5CYII=' style='width:None; height:300px; box-shadow: 4px 4px 6px rgba(0, 0, 0, 0.5)'/><figcaption>L <small>32&times;32&times;1 float16 Role.NONE</small></figcaption></figure></div>"
      ],
      "text/plain": [
       "<IPython.core.display.HTML object>"
      ]
     },
     "metadata": {},
     "output_type": "display_data"
    }
   ],
   "source": [
    "imagecat.notebook.display(graph.output(\"/random\"), height=\"300px\")"
   ]
  },
  {
   "cell_type": "code",
   "execution_count": 4,
   "metadata": {},
   "outputs": [
    {
     "name": "stderr",
     "output_type": "stream",
     "text": [
      "INFO:imagecat:Task /colormap colormap:\n",
      "INFO:imagecat:  layers: *\n",
      "INFO:imagecat:  mapping: functools.partial(<function linear_map at 0x7f8b4749b710>, palette=<imagecat.color.Palette object at 0x7f8b4759ad90>)\n",
      "INFO:imagecat:  output: Image(L: Layer(32x32x3 float64 ['r', 'g', 'b'] Role.RGB))\n"
     ]
    },
    {
     "data": {
      "text/plain": [
       "Image(L: Layer(32x32x3 float64 ['r', 'g', 'b'] Role.RGB))"
      ]
     },
     "execution_count": 4,
     "metadata": {},
     "output_type": "execute_result"
    }
   ],
   "source": [
    "graph.output(\"/colormap\")"
   ]
  },
  {
   "cell_type": "code",
   "execution_count": 5,
   "metadata": {},
   "outputs": [
    {
     "data": {
      "text/html": [
       "<div style='display: flex; flex-flow: row wrap; text-align: center'><figure style='margin: 5px'><image src='data:image/png;base64,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' style='width:None; height:None; box-shadow: 4px 4px 6px rgba(0, 0, 0, 0.5)'/><figcaption>L <small>32&times;32&times;3 float64 Role.RGB</small></figcaption></figure></div>"
      ],
      "text/plain": [
       "<IPython.core.display.HTML object>"
      ]
     },
     "metadata": {},
     "output_type": "display_data"
    }
   ],
   "source": [
    "imagecat.notebook.display(graph.output(\"/colormap\"))"
   ]
  },
  {
   "cell_type": "code",
   "execution_count": null,
   "metadata": {},
   "outputs": [],
   "source": []
  }
 ],
 "metadata": {
  "kernelspec": {
   "display_name": "Python 3",
   "language": "python",
   "name": "python3"
  },
  "language_info": {
   "codemirror_mode": {
    "name": "ipython",
    "version": 3
   },
   "file_extension": ".py",
   "mimetype": "text/x-python",
   "name": "python",
   "nbconvert_exporter": "python",
   "pygments_lexer": "ipython3",
   "version": "3.7.7"
  }
 },
 "nbformat": 4,
 "nbformat_minor": 4
}
