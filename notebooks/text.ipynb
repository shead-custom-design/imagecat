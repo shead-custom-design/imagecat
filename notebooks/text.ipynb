{
 "cells": [
  {
   "cell_type": "code",
   "execution_count": 1,
   "metadata": {},
   "outputs": [],
   "source": [
    "import logging\n",
    "logging.basicConfig(level=logging.DEBUG)\n",
    "\n",
    "import graphcat.notebook\n",
    "import imagecat.notebook"
   ]
  },
  {
   "cell_type": "code",
   "execution_count": 9,
   "metadata": {},
   "outputs": [
    {
     "data": {
      "image/svg+xml": [
       "<svg height=\"74pt\" viewBox=\"0.00 0.00 224.80 74.00\" width=\"225pt\" xmlns=\"http://www.w3.org/2000/svg\" xmlns:xlink=\"http://www.w3.org/1999/xlink\">\n",
       "<g class=\"graph\" id=\"graph0\" transform=\"scale(1 1) rotate(0) translate(4 70)\">\n",
       "<title>%3</title>\n",
       "<polygon fill=\"white\" points=\"-4,4 -4,-70 220.803,-70 220.803,4 -4,4\" stroke=\"none\"/>\n",
       "<!-- /text -->\n",
       "<g class=\"node\" id=\"node1\"><title>/text</title>\n",
       "<polygon fill=\"white\" points=\"125.848,-14 96.8477,-14 96.8477,-0 125.848,-0 125.848,-14\" stroke=\"#494744\"/>\n",
       "<text fill=\"#494744\" font-family=\"Helvetica,sans-Serif\" font-size=\"8.00\" text-anchor=\"middle\" x=\"111.348\" y=\"-4.6\">/text</text>\n",
       "</g>\n",
       "<!-- /text/fontname -->\n",
       "<g class=\"node\" id=\"node2\"><title>/text/fontname</title>\n",
       "<polygon fill=\"white\" points=\"62.5437,-66 0.151607,-66 0.151607,-52 62.5437,-52 62.5437,-66\" stroke=\"#494744\"/>\n",
       "<text fill=\"#494744\" font-family=\"Helvetica,sans-Serif\" font-size=\"8.00\" text-anchor=\"middle\" x=\"31.3477\" y=\"-56.6\">/text/fontname</text>\n",
       "</g>\n",
       "<!-- /text/fontname&#45;&gt;/text -->\n",
       "<g class=\"edge\" id=\"edge1\"><title>/text/fontname-&gt;/text</title>\n",
       "<path d=\"M40.0243,-51.7797C48.5411,-45.7508 61.9669,-36.4503 73.9922,-29 79.5024,-25.5862 85.5887,-22.0637 91.2208,-18.9019\" fill=\"none\" stroke=\"#494744\"/>\n",
       "<polygon fill=\"#494744\" points=\"93.027,-21.9027 100.088,-14.0042 89.6426,-15.7752 93.027,-21.9027\" stroke=\"#494744\"/>\n",
       "<text font-family=\"Helvetica,sans-Serif\" font-size=\"8.00\" text-anchor=\"middle\" x=\"91.0254\" y=\"-30.6\">fontname</text>\n",
       "</g>\n",
       "<!-- /text/fontindex -->\n",
       "<g class=\"node\" id=\"node3\"><title>/text/fontindex</title>\n",
       "<polygon fill=\"white\" points=\"142.157,-66 80.5388,-66 80.5388,-52 142.157,-52 142.157,-66\" stroke=\"#494744\"/>\n",
       "<text fill=\"#494744\" font-family=\"Helvetica,sans-Serif\" font-size=\"8.00\" text-anchor=\"middle\" x=\"111.348\" y=\"-56.6\">/text/fontindex</text>\n",
       "</g>\n",
       "<!-- /text/fontindex&#45;&gt;/text -->\n",
       "<g class=\"edge\" id=\"edge2\"><title>/text/fontindex-&gt;/text</title>\n",
       "<path d=\"M111.348,-51.869C111.348,-45.0466 111.348,-33.742 111.348,-24.3173\" fill=\"none\" stroke=\"#494744\"/>\n",
       "<polygon fill=\"#494744\" points=\"114.848,-24.1811 111.348,-14.1811 107.848,-24.1812 114.848,-24.1811\" stroke=\"#494744\"/>\n",
       "<text font-family=\"Helvetica,sans-Serif\" font-size=\"8.00\" text-anchor=\"middle\" x=\"127.582\" y=\"-30.6\">fontindex</text>\n",
       "</g>\n",
       "<!-- /text/fontsize -->\n",
       "<g class=\"node\" id=\"node4\"><title>/text/fontsize</title>\n",
       "<polygon fill=\"white\" points=\"216.758,-66 159.937,-66 159.937,-52 216.758,-52 216.758,-66\" stroke=\"#494744\"/>\n",
       "<text fill=\"#494744\" font-family=\"Helvetica,sans-Serif\" font-size=\"8.00\" text-anchor=\"middle\" x=\"188.348\" y=\"-56.6\">/text/fontsize</text>\n",
       "</g>\n",
       "<!-- /text/fontsize&#45;&gt;/text -->\n",
       "<g class=\"edge\" id=\"edge3\"><title>/text/fontsize-&gt;/text</title>\n",
       "<path d=\"M180.015,-51.7819C171.834,-45.7545 158.932,-36.4551 147.348,-29 142.176,-25.6715 136.47,-22.2382 131.154,-19.1367\" fill=\"none\" stroke=\"#494744\"/>\n",
       "<polygon fill=\"#494744\" points=\"132.624,-15.9448 122.208,-14.0064 129.141,-22.0173 132.624,-15.9448\" stroke=\"#494744\"/>\n",
       "<text font-family=\"Helvetica,sans-Serif\" font-size=\"8.00\" text-anchor=\"middle\" x=\"172.133\" y=\"-30.6\">fontsize</text>\n",
       "</g>\n",
       "</g>\n",
       "</svg>"
      ],
      "text/plain": [
       "<IPython.core.display.SVG object>"
      ]
     },
     "metadata": {},
     "output_type": "display_data"
    },
    {
     "name": "stderr",
     "output_type": "stream",
     "text": [
      "INFO:imagecat:Task /text text anchor mm fontindex 4 fontname HelveticaNeue fontsize 0.33vh plane A position ('0.5vw', '0.5vh') size [256 256] result A(256x256x1 float16)\n"
     ]
    },
    {
     "data": {
      "text/html": [
       "<div style='display: flex; flex-flow: row wrap; text-align: center'><figure style='margin: 5px'><image src='data:image/png;base64,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' style='width:None; height:None'/><figcaption>A <small>256&times;256&times;1 float16</small></figcaption></figure></div>"
      ],
      "text/plain": [
       "<IPython.core.display.HTML object>"
      ]
     },
     "metadata": {},
     "output_type": "display_data"
    }
   ],
   "source": [
    "graph = graphcat.Graph()\n",
    "imagecat.add_operation(graph, \"/text\", imagecat.text, fontname=\"HelveticaNeue\", fontindex=4, fontsize=\"0.33vh\")\n",
    "\n",
    "graphcat.notebook.display(graph)\n",
    "imagecat.notebook.display(graph.output(\"/text\"))"
   ]
  },
  {
   "cell_type": "code",
   "execution_count": null,
   "metadata": {},
   "outputs": [],
   "source": []
  }
 ],
 "metadata": {
  "kernelspec": {
   "display_name": "Python 3",
   "language": "python",
   "name": "python3"
  },
  "language_info": {
   "codemirror_mode": {
    "name": "ipython",
    "version": 3
   },
   "file_extension": ".py",
   "mimetype": "text/x-python",
   "name": "python",
   "nbconvert_exporter": "python",
   "pygments_lexer": "ipython3",
   "version": "3.7.7"
  }
 },
 "nbformat": 4,
 "nbformat_minor": 4
}
