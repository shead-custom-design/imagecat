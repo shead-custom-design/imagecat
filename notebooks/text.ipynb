{
 "cells": [
  {
   "cell_type": "code",
   "execution_count": 1,
   "metadata": {},
   "outputs": [],
   "source": [
    "import logging\n",
    "logging.basicConfig(level=logging.DEBUG)\n",
    "\n",
    "import graphcat.notebook\n",
    "import imagecat.notebook"
   ]
  },
  {
   "cell_type": "code",
   "execution_count": 2,
   "metadata": {},
   "outputs": [
    {
     "data": {
      "image/svg+xml": [
       "<svg height=\"74pt\" viewBox=\"0.00 0.00 224.80 74.00\" width=\"225pt\" xmlns=\"http://www.w3.org/2000/svg\" xmlns:xlink=\"http://www.w3.org/1999/xlink\">\n",
       "<g class=\"graph\" id=\"graph0\" transform=\"scale(1 1) rotate(0) translate(4 70)\">\n",
       "<title>%3</title>\n",
       "<polygon fill=\"white\" points=\"-4,4 -4,-70 220.803,-70 220.803,4 -4,4\" stroke=\"none\"/>\n",
       "<!-- /text -->\n",
       "<g class=\"node\" id=\"node1\"><title>/text</title>\n",
       "<polygon fill=\"white\" points=\"125.848,-14 96.8477,-14 96.8477,-0 125.848,-0 125.848,-14\" stroke=\"#494744\"/>\n",
       "<text fill=\"#494744\" font-family=\"Helvetica,sans-Serif\" font-size=\"8.00\" text-anchor=\"middle\" x=\"111.348\" y=\"-4.6\">/text</text>\n",
       "</g>\n",
       "<!-- /text/fontname -->\n",
       "<g class=\"node\" id=\"node2\"><title>/text/fontname</title>\n",
       "<polygon fill=\"white\" points=\"62.5437,-66 0.151607,-66 0.151607,-52 62.5437,-52 62.5437,-66\" stroke=\"#494744\"/>\n",
       "<text fill=\"#494744\" font-family=\"Helvetica,sans-Serif\" font-size=\"8.00\" text-anchor=\"middle\" x=\"31.3477\" y=\"-56.6\">/text/fontname</text>\n",
       "</g>\n",
       "<!-- /text/fontname&#45;&gt;/text -->\n",
       "<g class=\"edge\" id=\"edge1\"><title>/text/fontname-&gt;/text</title>\n",
       "<path d=\"M40.0243,-51.7797C48.5411,-45.7508 61.9669,-36.4503 73.9922,-29 79.5024,-25.5862 85.5887,-22.0637 91.2208,-18.9019\" fill=\"none\" stroke=\"#494744\"/>\n",
       "<polygon fill=\"#494744\" points=\"93.027,-21.9027 100.088,-14.0042 89.6426,-15.7752 93.027,-21.9027\" stroke=\"#494744\"/>\n",
       "<text font-family=\"Helvetica,sans-Serif\" font-size=\"8.00\" text-anchor=\"middle\" x=\"91.0254\" y=\"-30.6\">fontname</text>\n",
       "</g>\n",
       "<!-- /text/fontindex -->\n",
       "<g class=\"node\" id=\"node3\"><title>/text/fontindex</title>\n",
       "<polygon fill=\"white\" points=\"142.157,-66 80.5388,-66 80.5388,-52 142.157,-52 142.157,-66\" stroke=\"#494744\"/>\n",
       "<text fill=\"#494744\" font-family=\"Helvetica,sans-Serif\" font-size=\"8.00\" text-anchor=\"middle\" x=\"111.348\" y=\"-56.6\">/text/fontindex</text>\n",
       "</g>\n",
       "<!-- /text/fontindex&#45;&gt;/text -->\n",
       "<g class=\"edge\" id=\"edge2\"><title>/text/fontindex-&gt;/text</title>\n",
       "<path d=\"M111.348,-51.869C111.348,-45.0466 111.348,-33.742 111.348,-24.3173\" fill=\"none\" stroke=\"#494744\"/>\n",
       "<polygon fill=\"#494744\" points=\"114.848,-24.1811 111.348,-14.1811 107.848,-24.1812 114.848,-24.1811\" stroke=\"#494744\"/>\n",
       "<text font-family=\"Helvetica,sans-Serif\" font-size=\"8.00\" text-anchor=\"middle\" x=\"127.582\" y=\"-30.6\">fontindex</text>\n",
       "</g>\n",
       "<!-- /text/fontsize -->\n",
       "<g class=\"node\" id=\"node4\"><title>/text/fontsize</title>\n",
       "<polygon fill=\"white\" points=\"216.758,-66 159.937,-66 159.937,-52 216.758,-52 216.758,-66\" stroke=\"#494744\"/>\n",
       "<text fill=\"#494744\" font-family=\"Helvetica,sans-Serif\" font-size=\"8.00\" text-anchor=\"middle\" x=\"188.348\" y=\"-56.6\">/text/fontsize</text>\n",
       "</g>\n",
       "<!-- /text/fontsize&#45;&gt;/text -->\n",
       "<g class=\"edge\" id=\"edge3\"><title>/text/fontsize-&gt;/text</title>\n",
       "<path d=\"M180.015,-51.7819C171.834,-45.7545 158.932,-36.4551 147.348,-29 142.176,-25.6715 136.47,-22.2382 131.154,-19.1367\" fill=\"none\" stroke=\"#494744\"/>\n",
       "<polygon fill=\"#494744\" points=\"132.624,-15.9448 122.208,-14.0064 129.141,-22.0173 132.624,-15.9448\" stroke=\"#494744\"/>\n",
       "<text font-family=\"Helvetica,sans-Serif\" font-size=\"8.00\" text-anchor=\"middle\" x=\"172.133\" y=\"-30.6\">fontsize</text>\n",
       "</g>\n",
       "</g>\n",
       "</svg>"
      ],
      "text/plain": [
       "<IPython.core.display.SVG object>"
      ]
     },
     "metadata": {},
     "output_type": "display_data"
    },
    {
     "name": "stderr",
     "output_type": "stream",
     "text": [
      "INFO:imagecat:Task /text text:\n",
      "INFO:imagecat:  anchor: mm\n",
      "INFO:imagecat:  fontindex: 0\n",
      "INFO:imagecat:  fontname: ../artwork/LeagueSpartan-SemiBold.ttf\n",
      "INFO:imagecat:  fontsize: 0.33vh\n",
      "INFO:imagecat:  layer: A\n",
      "INFO:imagecat:  position: ('0.5vw', '0.5vh')\n",
      "INFO:imagecat:  size: [256 256]\n",
      "INFO:imagecat:  text: Text!\n",
      "INFO:imagecat:  output: Image(A: Layer(256x256x1 float16 [''] Role.NONE))\n"
     ]
    },
    {
     "data": {
      "text/html": [
       "<div style='display: flex; flex-flow: row wrap; text-align: center'><figure style='margin: 5px'><image src='data:image/png;base64,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' style='width:None; height:None; box-shadow: 4px 4px 6px rgba(0, 0, 0, 0.5)'/><figcaption>A <small>256&times;256&times;1 float16 Role.NONE</small></figcaption></figure></div>"
      ],
      "text/plain": [
       "<IPython.core.display.HTML object>"
      ]
     },
     "metadata": {},
     "output_type": "display_data"
    }
   ],
   "source": [
    "graph = graphcat.Graph()\n",
    "imagecat.add_operation(graph, \"/text\", imagecat.text, fontname=\"../artwork/LeagueSpartan-SemiBold.ttf\", fontindex=0, fontsize=\"0.33vh\")\n",
    "\n",
    "graphcat.notebook.display(graph)\n",
    "imagecat.notebook.display(graph.output(\"/text\"))"
   ]
  }
 ],
 "metadata": {
  "kernelspec": {
   "display_name": "Python 3",
   "language": "python",
   "name": "python3"
  },
  "language_info": {
   "codemirror_mode": {
    "name": "ipython",
    "version": 3
   },
   "file_extension": ".py",
   "mimetype": "text/x-python",
   "name": "python",
   "nbconvert_exporter": "python",
   "pygments_lexer": "ipython3",
   "version": "3.7.7"
  }
 },
 "nbformat": 4,
 "nbformat_minor": 4
}
