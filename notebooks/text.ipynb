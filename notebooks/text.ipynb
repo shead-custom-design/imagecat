{
 "cells": [
  {
   "cell_type": "code",
   "execution_count": 1,
   "metadata": {},
   "outputs": [],
   "source": [
    "import logging\n",
    "logging.basicConfig(level=logging.DEBUG)\n",
    "\n",
    "import graphcat.notebook\n",
    "import imagecat.notebook"
   ]
  },
  {
   "cell_type": "code",
   "execution_count": 2,
   "metadata": {},
   "outputs": [
    {
     "data": {
      "image/svg+xml": [
       "<svg height=\"74pt\" viewBox=\"0.00 0.00 224.80 74.00\" width=\"225pt\" xmlns=\"http://www.w3.org/2000/svg\" xmlns:xlink=\"http://www.w3.org/1999/xlink\">\n",
       "<g class=\"graph\" id=\"graph0\" transform=\"scale(1 1) rotate(0) translate(4 70)\">\n",
       "<title>%3</title>\n",
       "<polygon fill=\"white\" points=\"-4,4 -4,-70 220.803,-70 220.803,4 -4,4\" stroke=\"none\"/>\n",
       "<!-- /text -->\n",
       "<g class=\"node\" id=\"node1\"><title>/text</title>\n",
       "<polygon fill=\"white\" points=\"125.848,-14 96.8477,-14 96.8477,-0 125.848,-0 125.848,-14\" stroke=\"#494744\"/>\n",
       "<text fill=\"#494744\" font-family=\"Helvetica,sans-Serif\" font-size=\"8.00\" text-anchor=\"middle\" x=\"111.348\" y=\"-4.6\">/text</text>\n",
       "</g>\n",
       "<!-- /text/fontname -->\n",
       "<g class=\"node\" id=\"node2\"><title>/text/fontname</title>\n",
       "<polygon fill=\"white\" points=\"62.5437,-66 0.151607,-66 0.151607,-52 62.5437,-52 62.5437,-66\" stroke=\"#494744\"/>\n",
       "<text fill=\"#494744\" font-family=\"Helvetica,sans-Serif\" font-size=\"8.00\" text-anchor=\"middle\" x=\"31.3477\" y=\"-56.6\">/text/fontname</text>\n",
       "</g>\n",
       "<!-- /text/fontname&#45;&gt;/text -->\n",
       "<g class=\"edge\" id=\"edge1\"><title>/text/fontname-&gt;/text</title>\n",
       "<path d=\"M40.0243,-51.7797C48.5411,-45.7508 61.9669,-36.4503 73.9922,-29 79.5024,-25.5862 85.5887,-22.0637 91.2208,-18.9019\" fill=\"none\" stroke=\"#494744\"/>\n",
       "<polygon fill=\"#494744\" points=\"93.027,-21.9027 100.088,-14.0042 89.6426,-15.7752 93.027,-21.9027\" stroke=\"#494744\"/>\n",
       "<text font-family=\"Helvetica,sans-Serif\" font-size=\"8.00\" text-anchor=\"middle\" x=\"91.0254\" y=\"-30.6\">fontname</text>\n",
       "</g>\n",
       "<!-- /text/fontindex -->\n",
       "<g class=\"node\" id=\"node3\"><title>/text/fontindex</title>\n",
       "<polygon fill=\"white\" points=\"142.157,-66 80.5388,-66 80.5388,-52 142.157,-52 142.157,-66\" stroke=\"#494744\"/>\n",
       "<text fill=\"#494744\" font-family=\"Helvetica,sans-Serif\" font-size=\"8.00\" text-anchor=\"middle\" x=\"111.348\" y=\"-56.6\">/text/fontindex</text>\n",
       "</g>\n",
       "<!-- /text/fontindex&#45;&gt;/text -->\n",
       "<g class=\"edge\" id=\"edge2\"><title>/text/fontindex-&gt;/text</title>\n",
       "<path d=\"M111.348,-51.869C111.348,-45.0466 111.348,-33.742 111.348,-24.3173\" fill=\"none\" stroke=\"#494744\"/>\n",
       "<polygon fill=\"#494744\" points=\"114.848,-24.1811 111.348,-14.1811 107.848,-24.1812 114.848,-24.1811\" stroke=\"#494744\"/>\n",
       "<text font-family=\"Helvetica,sans-Serif\" font-size=\"8.00\" text-anchor=\"middle\" x=\"127.582\" y=\"-30.6\">fontindex</text>\n",
       "</g>\n",
       "<!-- /text/fontsize -->\n",
       "<g class=\"node\" id=\"node4\"><title>/text/fontsize</title>\n",
       "<polygon fill=\"white\" points=\"216.758,-66 159.937,-66 159.937,-52 216.758,-52 216.758,-66\" stroke=\"#494744\"/>\n",
       "<text fill=\"#494744\" font-family=\"Helvetica,sans-Serif\" font-size=\"8.00\" text-anchor=\"middle\" x=\"188.348\" y=\"-56.6\">/text/fontsize</text>\n",
       "</g>\n",
       "<!-- /text/fontsize&#45;&gt;/text -->\n",
       "<g class=\"edge\" id=\"edge3\"><title>/text/fontsize-&gt;/text</title>\n",
       "<path d=\"M180.015,-51.7819C171.834,-45.7545 158.932,-36.4551 147.348,-29 142.176,-25.6715 136.47,-22.2382 131.154,-19.1367\" fill=\"none\" stroke=\"#494744\"/>\n",
       "<polygon fill=\"#494744\" points=\"132.624,-15.9448 122.208,-14.0064 129.141,-22.0173 132.624,-15.9448\" stroke=\"#494744\"/>\n",
       "<text font-family=\"Helvetica,sans-Serif\" font-size=\"8.00\" text-anchor=\"middle\" x=\"172.133\" y=\"-30.6\">fontsize</text>\n",
       "</g>\n",
       "</g>\n",
       "</svg>"
      ],
      "text/plain": [
       "<IPython.core.display.SVG object>"
      ]
     },
     "metadata": {},
     "output_type": "display_data"
    },
    {
     "name": "stderr",
     "output_type": "stream",
     "text": [
      "INFO:imagecat:Task /text text:\n",
      "INFO:imagecat:  anchor: mm\n",
      "INFO:imagecat:  fontindex: 4\n",
      "INFO:imagecat:  fontname: HelveticaNeue\n",
      "INFO:imagecat:  fontsize: 0.33vh\n",
      "INFO:imagecat:  layer: A\n",
      "INFO:imagecat:  position: ('0.5vw', '0.5vh')\n",
      "INFO:imagecat:  size: [256 256]\n",
      "INFO:imagecat:  text: Text!\n",
      "INFO:imagecat:  output: Image(A: Layer(256x256x1 float16 [''] Role.NONE))\n"
     ]
    },
    {
     "data": {
      "text/html": [
       "<div style='display: flex; flex-flow: row wrap; text-align: center'><figure style='margin: 5px'><image src='data:image/png;base64,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' style='width:None; height:None; box-shadow: 4px 4px 6px rgba(0, 0, 0, 0.5)'/><figcaption>A <small>256&times;256&times;1 float16 Role.NONE</small></figcaption></figure></div>"
      ],
      "text/plain": [
       "<IPython.core.display.HTML object>"
      ]
     },
     "metadata": {},
     "output_type": "display_data"
    }
   ],
   "source": [
    "graph = graphcat.Graph()\n",
    "imagecat.add_operation(graph, \"/text\", imagecat.text, fontname=\"HelveticaNeue\", fontindex=4, fontsize=\"0.33vh\")\n",
    "\n",
    "graphcat.notebook.display(graph)\n",
    "imagecat.notebook.display(graph.output(\"/text\"))"
   ]
  }
 ],
 "metadata": {
  "kernelspec": {
   "display_name": "Python 3",
   "language": "python",
   "name": "python3"
  },
  "language_info": {
   "codemirror_mode": {
    "name": "ipython",
    "version": 3
   },
   "file_extension": ".py",
   "mimetype": "text/x-python",
   "name": "python",
   "nbconvert_exporter": "python",
   "pygments_lexer": "ipython3",
   "version": "3.7.7"
  }
 },
 "nbformat": 4,
 "nbformat_minor": 4
}
