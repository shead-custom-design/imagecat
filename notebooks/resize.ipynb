{
 "cells": [
  {
   "cell_type": "code",
   "execution_count": 1,
   "metadata": {},
   "outputs": [],
   "source": [
    "import logging\n",
    "logging.basicConfig(level=logging.DEBUG)\n",
    "\n",
    "import graphcat.notebook\n",
    "import imagecat.notebook"
   ]
  },
  {
   "cell_type": "code",
   "execution_count": 2,
   "metadata": {},
   "outputs": [
    {
     "data": {
      "image/svg+xml": [
       "<svg height=\"70pt\" viewBox=\"0.00 0.00 244.50 70.00\" width=\"245pt\" xmlns=\"http://www.w3.org/2000/svg\" xmlns:xlink=\"http://www.w3.org/1999/xlink\">\n",
       "<g class=\"graph\" id=\"graph0\" transform=\"scale(1 1) rotate(0) translate(4 66)\">\n",
       "<title>%3</title>\n",
       "<polygon fill=\"white\" points=\"-4,4 -4,-66 240.5,-66 240.5,4 -4,4\" stroke=\"none\"/>\n",
       "<!-- /fill -->\n",
       "<g class=\"node\" id=\"node1\"><title>/fill</title>\n",
       "<polygon fill=\"white\" points=\"139.199,-30 110.199,-30 110.199,-16 139.199,-16 139.199,-30\" stroke=\"#494744\"/>\n",
       "<text fill=\"#494744\" font-family=\"Helvetica,sans-Serif\" font-size=\"8.00\" text-anchor=\"middle\" x=\"124.699\" y=\"-20.6\">/fill</text>\n",
       "</g>\n",
       "<!-- /resize -->\n",
       "<g class=\"node\" id=\"node2\"><title>/resize</title>\n",
       "<polygon fill=\"white\" points=\"236.284,-46 201.154,-46 201.154,-32 236.284,-32 236.284,-46\" stroke=\"#494744\"/>\n",
       "<text fill=\"#494744\" font-family=\"Helvetica,sans-Serif\" font-size=\"8.00\" text-anchor=\"middle\" x=\"218.719\" y=\"-36.6\">/resize</text>\n",
       "</g>\n",
       "<!-- /fill&#45;&gt;/resize -->\n",
       "<g class=\"edge\" id=\"edge1\"><title>/fill-&gt;/resize</title>\n",
       "<path d=\"M139.271,-22.3806C151.596,-22.1224 170.197,-22.4964 185.938,-26 188.627,-26.5986 191.381,-27.4049 194.089,-28.3242\" fill=\"none\" stroke=\"#494744\"/>\n",
       "<polygon fill=\"#494744\" points=\"192.908,-31.6201 203.497,-31.981 195.444,-25.0957 192.908,-31.6201\" stroke=\"#494744\"/>\n",
       "<text font-family=\"Helvetica,sans-Serif\" font-size=\"8.00\" text-anchor=\"middle\" x=\"175.043\" y=\"-27.6\">image</text>\n",
       "</g>\n",
       "<!-- /fill/res -->\n",
       "<g class=\"node\" id=\"node3\"><title>/fill/res</title>\n",
       "<polygon fill=\"white\" points=\"41.176,-46 5.94904,-46 5.94904,-32 41.176,-32 41.176,-46\" stroke=\"#494744\"/>\n",
       "<text fill=\"#494744\" font-family=\"Helvetica,sans-Serif\" font-size=\"8.00\" text-anchor=\"middle\" x=\"23.5625\" y=\"-36.6\">/fill/res</text>\n",
       "</g>\n",
       "<!-- /fill/res&#45;&gt;/fill -->\n",
       "<g class=\"edge\" id=\"edge2\"><title>/fill/res-&gt;/fill</title>\n",
       "<path d=\"M41.3797,-36.2858C57.4669,-33.6895 81.8847,-29.7486 99.9524,-26.8326\" fill=\"none\" stroke=\"#494744\"/>\n",
       "<polygon fill=\"#494744\" points=\"100.683,-30.26 109.998,-25.2113 99.5677,-23.3495 100.683,-30.26\" stroke=\"#494744\"/>\n",
       "<text font-family=\"Helvetica,sans-Serif\" font-size=\"8.00\" text-anchor=\"middle\" x=\"73.6875\" y=\"-33.6\">res</text>\n",
       "</g>\n",
       "<!-- /fill/values -->\n",
       "<g class=\"node\" id=\"node4\"><title>/fill/values</title>\n",
       "<polygon fill=\"white\" points=\"47.1877,-14 -0.0626662,-14 -0.0626662,-0 47.1877,-0 47.1877,-14\" stroke=\"#494744\"/>\n",
       "<text fill=\"#494744\" font-family=\"Helvetica,sans-Serif\" font-size=\"8.00\" text-anchor=\"middle\" x=\"23.5625\" y=\"-4.6\">/fill/values</text>\n",
       "</g>\n",
       "<!-- /fill/values&#45;&gt;/fill -->\n",
       "<g class=\"edge\" id=\"edge3\"><title>/fill/values-&gt;/fill</title>\n",
       "<path d=\"M47.5556,-10.7109C63.264,-13.2462 84.0277,-16.5973 99.9042,-19.1597\" fill=\"none\" stroke=\"#494744\"/>\n",
       "<polygon fill=\"#494744\" points=\"99.5628,-22.6498 109.993,-20.7879 100.678,-15.7392 99.5628,-22.6498\" stroke=\"#494744\"/>\n",
       "<text font-family=\"Helvetica,sans-Serif\" font-size=\"8.00\" text-anchor=\"middle\" x=\"73.6875\" y=\"-17.6\">values</text>\n",
       "</g>\n",
       "<!-- /resize/res -->\n",
       "<g class=\"node\" id=\"node5\"><title>/resize/res</title>\n",
       "<polygon fill=\"white\" points=\"149.098,-62 100.301,-62 100.301,-48 149.098,-48 149.098,-62\" stroke=\"#494744\"/>\n",
       "<text fill=\"#494744\" font-family=\"Helvetica,sans-Serif\" font-size=\"8.00\" text-anchor=\"middle\" x=\"124.699\" y=\"-52.6\">/resize/res</text>\n",
       "</g>\n",
       "<!-- /resize/res&#45;&gt;/resize -->\n",
       "<g class=\"edge\" id=\"edge4\"><title>/resize/res-&gt;/resize</title>\n",
       "<path d=\"M149.397,-50.8796C162.17,-48.6586 177.971,-45.9111 191.159,-43.618\" fill=\"none\" stroke=\"#494744\"/>\n",
       "<polygon fill=\"#494744\" points=\"191.815,-47.0566 201.068,-41.8952 190.616,-40.16 191.815,-47.0566\" stroke=\"#494744\"/>\n",
       "<text font-family=\"Helvetica,sans-Serif\" font-size=\"8.00\" text-anchor=\"middle\" x=\"175.043\" y=\"-48.6\">res</text>\n",
       "</g>\n",
       "</g>\n",
       "</svg>"
      ],
      "text/plain": [
       "<IPython.core.display.SVG object>"
      ]
     },
     "metadata": {},
     "output_type": "display_data"
    }
   ],
   "source": [
    "graph = graphcat.DynamicGraph()\n",
    "imagecat.add_task(graph, \"/fill\", imagecat.operator.fill, res=(256, 128), values=(1, 0, 0))\n",
    "imagecat.add_task(graph, \"/resize\", imagecat.operator.resize, res=(\"1w\", \"2h\"))\n",
    "graph.add_links(\"/fill\", (\"/resize\", \"image\"))\n",
    "graphcat.notebook.display(graph)"
   ]
  },
  {
   "cell_type": "code",
   "execution_count": 3,
   "metadata": {},
   "outputs": [
    {
     "name": "stderr",
     "output_type": "stream",
     "text": [
      "INFO:imagecat.operator:Task /fill fill:\n",
      "INFO:imagecat.operator:  components: ['r', 'g', 'b']\n",
      "INFO:imagecat.operator:  layer: C\n",
      "INFO:imagecat.operator:  res: [256 128]\n",
      "INFO:imagecat.operator:  role: Role.RGB\n",
      "INFO:imagecat.operator:  values: [1 0 0]\n",
      "INFO:imagecat.operator:  output: Image(C: Layer(256x128x3 float16 ['r', 'g', 'b'] Role.RGB))\n"
     ]
    },
    {
     "data": {
      "text/html": [
       "<div style='display: flex; flex-flow: row wrap; text-align: center'><figure style='margin: 5px'><image src='data:image/png;base64,iVBORw0KGgoAAAANSUhEUgAAAQAAAACACAIAAABr1yBdAAABbUlEQVR4nO3TQREAIAzAMMC/5h0y9miioJ/eOdD1tgNgkwFIMwBpBiDNAKQZgDQDkGYA0gxAmgFIMwBpBiDNAKQZgDQDkGYA0gxAmgFIMwBpBiDNAKQZgDQDkGYA0gxAmgFIMwBpBiDNAKQZgDQDkGYA0gxAmgFIMwBpBiDNAKQZgDQDkGYA0gxAmgFIMwBpBiDNAKQZgDQDkGYA0gxAmgFIMwBpBiDNAKQZgDQDkGYA0gxAmgFIMwBpBiDNAKQZgDQDkGYA0gxAmgFIMwBpBiDNAKQZgDQDkGYA0gxAmgFIMwBpBiDNAKQZgDQDkGYA0gxAmgFIMwBpBiDNAKQZgDQDkGYA0gxAmgFIMwBpBiDNAKQZgDQDkGYA0gxAmgFIMwBpBiDNAKQZgDQDkGYA0gxAmgFIMwBpBiDNAKQZgDQDkGYA0gxAmgFIMwBpBiDNAKQZgDQDkGYA0gxAmgFIMwBpBiDNAKQZgDQDkPYBYDMB/otSkBoAAAAASUVORK5CYII=' style='width:None; height:None; box-shadow: 4px 4px 6px rgba(0, 0, 0, 0.5)'/><figcaption>C <small>256&times;128&times;3 float16 Role.RGB</small></figcaption></figure></div>"
      ],
      "text/plain": [
       "<IPython.core.display.HTML object>"
      ]
     },
     "metadata": {},
     "output_type": "display_data"
    }
   ],
   "source": [
    "imagecat.notebook.display(graph.output(\"/fill\"))"
   ]
  },
  {
   "cell_type": "code",
   "execution_count": 4,
   "metadata": {},
   "outputs": [
    {
     "name": "stderr",
     "output_type": "stream",
     "text": [
      "INFO:imagecat.operator:Task /resize resize:\n",
      "INFO:imagecat.operator:  order: 3\n",
      "INFO:imagecat.operator:  res: ('1w', '2h')\n",
      "INFO:imagecat.operator:  output: Image(C: Layer(256x256x3 float16 ['r', 'g', 'b'] Role.RGB))\n"
     ]
    },
    {
     "data": {
      "text/html": [
       "<div style='display: flex; flex-flow: row wrap; text-align: center'><figure style='margin: 5px'><image src='data:image/png;base64,iVBORw0KGgoAAAANSUhEUgAAAQAAAAEACAIAAADTED8xAAACvUlEQVR4nO3TQREAIAzAMMC/5h0y9miioJ/eOdD1tgNgkwFIMwBpBiDNAKQZgDQDkGYA0gxAmgFIMwBpBiDNAKQZgDQDkGYA0gxAmgFIMwBpBiDNAKQZgDQDkGYA0gxAmgFIMwBpBiDNAKQZgDQDkGYA0gxAmgFIMwBpBiDNAKQZgDQDkGYA0gxAmgFIMwBpBiDNAKQZgDQDkGYA0gxAmgFIMwBpBiDNAKQZgDQDkGYA0gxAmgFIMwBpBiDNAKQZgDQDkGYA0gxAmgFIMwBpBiDNAKQZgDQDkGYA0gxAmgFIMwBpBiDNAKQZgDQDkGYA0gxAmgFIMwBpBiDNAKQZgDQDkGYA0gxAmgFIMwBpBiDNAKQZgDQDkGYA0gxAmgFIMwBpBiDNAKQZgDQDkGYA0gxAmgFIMwBpBiDNAKQZgDQDkGYA0gxAmgFIMwBpBiDNAKQZgDQDkGYA0gxAmgFIMwBpBiDNAKQZgDQDkGYA0gxAmgFIMwBpBiDNAKQZgDQDkGYA0gxAmgFIMwBpBiDNAKQZgDQDkGYA0gxAmgFIMwBpBiDNAKQZgDQDkGYA0gxAmgFIMwBpBiDNAKQZgDQDkGYA0gxAmgFIMwBpBiDNAKQZgDQDkGYA0gxAmgFIMwBpBiDNAKQZgDQDkGYA0gxAmgFIMwBpBiDNAKQZgDQDkGYA0gxAmgFIMwBpBiDNAKQZgDQDkGYA0gxAmgFIMwBpBiDNAKQZgDQDkGYA0gxAmgFIMwBpBiDNAKQZgDQDkGYA0gxAmgFIMwBpBiDNAKQZgDQDkGYA0gxAmgFIMwBpBiDNAKQZgDQDkGYA0gxAmgFIMwBpBiDNAKQZgDQDkGYA0gxAmgFIMwBpBiDNAKQZgDQDkGYA0gxAmgFIMwBpBiDNAKQZgDQDkGYA0gxAmgFIMwBpBiDNAKQZgDQDkPYBV/MC/hkKy0kAAAAASUVORK5CYII=' style='width:None; height:None; box-shadow: 4px 4px 6px rgba(0, 0, 0, 0.5)'/><figcaption>C <small>256&times;256&times;3 float16 Role.RGB</small></figcaption></figure></div>"
      ],
      "text/plain": [
       "<IPython.core.display.HTML object>"
      ]
     },
     "metadata": {},
     "output_type": "display_data"
    }
   ],
   "source": [
    "imagecat.notebook.display(graph.output(\"/resize\"))"
   ]
  }
 ],
 "metadata": {
  "kernelspec": {
   "display_name": "Python 3",
   "language": "python",
   "name": "python3"
  },
  "language_info": {
   "codemirror_mode": {
    "name": "ipython",
    "version": 3
   },
   "file_extension": ".py",
   "mimetype": "text/x-python",
   "name": "python",
   "nbconvert_exporter": "python",
   "pygments_lexer": "ipython3",
   "version": "3.7.7"
  }
 },
 "nbformat": 4,
 "nbformat_minor": 4
}
