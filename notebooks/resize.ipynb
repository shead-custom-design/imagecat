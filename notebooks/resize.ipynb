{
 "cells": [
  {
   "cell_type": "code",
   "execution_count": 1,
   "metadata": {},
   "outputs": [],
   "source": [
    "import logging\n",
    "logging.basicConfig(level=logging.DEBUG)\n",
    "\n",
    "import graphcat.notebook\n",
    "import imagecat.notebook"
   ]
  },
  {
   "cell_type": "code",
   "execution_count": 2,
   "metadata": {},
   "outputs": [
    {
     "data": {
      "image/svg+xml": [
       "<svg height=\"70pt\" viewBox=\"0.00 0.00 244.50 70.00\" width=\"245pt\" xmlns=\"http://www.w3.org/2000/svg\" xmlns:xlink=\"http://www.w3.org/1999/xlink\">\n",
       "<g class=\"graph\" id=\"graph0\" transform=\"scale(1 1) rotate(0) translate(4 66)\">\n",
       "<polygon fill=\"white\" points=\"-4,4 -4,-66 240.5,-66 240.5,4 -4,4\" stroke=\"transparent\"/>\n",
       "<!-- /fill -->\n",
       "<g class=\"node\" id=\"node1\">\n",
       "<title>/fill</title>\n",
       "<polygon fill=\"white\" points=\"139.2,-30 110.2,-30 110.2,-16 139.2,-16 139.2,-30\" stroke=\"#494744\"/>\n",
       "<text fill=\"#494744\" font-family=\"Helvetica,sans-Serif\" font-size=\"8.00\" text-anchor=\"middle\" x=\"124.7\" y=\"-20.6\">/fill</text>\n",
       "</g>\n",
       "<!-- /resize -->\n",
       "<g class=\"node\" id=\"node2\">\n",
       "<title>/resize</title>\n",
       "<polygon fill=\"white\" points=\"236.28,-46 201.15,-46 201.15,-32 236.28,-32 236.28,-46\" stroke=\"#494744\"/>\n",
       "<text fill=\"#494744\" font-family=\"Helvetica,sans-Serif\" font-size=\"8.00\" text-anchor=\"middle\" x=\"218.72\" y=\"-36.6\">/resize</text>\n",
       "</g>\n",
       "<!-- /fill&#45;&gt;/resize -->\n",
       "<g class=\"edge\" id=\"edge1\">\n",
       "<title>/fill-&gt;/resize</title>\n",
       "<path d=\"M139.27,-22.38C151.6,-22.12 170.2,-22.5 185.94,-26 188.63,-26.6 191.38,-27.4 194.09,-28.32\" fill=\"none\" stroke=\"#494744\"/>\n",
       "<polygon fill=\"#494744\" points=\"192.91,-31.62 203.5,-31.98 195.44,-25.1 192.91,-31.62\" stroke=\"#494744\"/>\n",
       "<text font-family=\"Helvetica,sans-Serif\" font-size=\"8.00\" text-anchor=\"middle\" x=\"175.04\" y=\"-27.6\">image</text>\n",
       "</g>\n",
       "<!-- /fill/res -->\n",
       "<g class=\"node\" id=\"node3\">\n",
       "<title>/fill/res</title>\n",
       "<polygon fill=\"white\" points=\"41.18,-46 5.95,-46 5.95,-32 41.18,-32 41.18,-46\" stroke=\"#494744\"/>\n",
       "<text fill=\"#494744\" font-family=\"Helvetica,sans-Serif\" font-size=\"8.00\" text-anchor=\"middle\" x=\"23.56\" y=\"-36.6\">/fill/res</text>\n",
       "</g>\n",
       "<!-- /fill/res&#45;&gt;/fill -->\n",
       "<g class=\"edge\" id=\"edge2\">\n",
       "<title>/fill/res-&gt;/fill</title>\n",
       "<path d=\"M41.38,-36.29C57.47,-33.69 81.88,-29.75 99.95,-26.83\" fill=\"none\" stroke=\"#494744\"/>\n",
       "<polygon fill=\"#494744\" points=\"100.68,-30.26 110,-25.21 99.57,-23.35 100.68,-30.26\" stroke=\"#494744\"/>\n",
       "<text font-family=\"Helvetica,sans-Serif\" font-size=\"8.00\" text-anchor=\"middle\" x=\"73.69\" y=\"-33.6\">res</text>\n",
       "</g>\n",
       "<!-- /fill/values -->\n",
       "<g class=\"node\" id=\"node4\">\n",
       "<title>/fill/values</title>\n",
       "<polygon fill=\"white\" points=\"47.19,-14 -0.06,-14 -0.06,0 47.19,0 47.19,-14\" stroke=\"#494744\"/>\n",
       "<text fill=\"#494744\" font-family=\"Helvetica,sans-Serif\" font-size=\"8.00\" text-anchor=\"middle\" x=\"23.56\" y=\"-4.6\">/fill/values</text>\n",
       "</g>\n",
       "<!-- /fill/values&#45;&gt;/fill -->\n",
       "<g class=\"edge\" id=\"edge3\">\n",
       "<title>/fill/values-&gt;/fill</title>\n",
       "<path d=\"M47.56,-10.71C63.26,-13.25 84.03,-16.6 99.9,-19.16\" fill=\"none\" stroke=\"#494744\"/>\n",
       "<polygon fill=\"#494744\" points=\"99.56,-22.65 109.99,-20.79 100.68,-15.74 99.56,-22.65\" stroke=\"#494744\"/>\n",
       "<text font-family=\"Helvetica,sans-Serif\" font-size=\"8.00\" text-anchor=\"middle\" x=\"73.69\" y=\"-17.6\">values</text>\n",
       "</g>\n",
       "<!-- /resize/res -->\n",
       "<g class=\"node\" id=\"node5\">\n",
       "<title>/resize/res</title>\n",
       "<polygon fill=\"white\" points=\"149.1,-62 100.3,-62 100.3,-48 149.1,-48 149.1,-62\" stroke=\"#494744\"/>\n",
       "<text fill=\"#494744\" font-family=\"Helvetica,sans-Serif\" font-size=\"8.00\" text-anchor=\"middle\" x=\"124.7\" y=\"-52.6\">/resize/res</text>\n",
       "</g>\n",
       "<!-- /resize/res&#45;&gt;/resize -->\n",
       "<g class=\"edge\" id=\"edge4\">\n",
       "<title>/resize/res-&gt;/resize</title>\n",
       "<path d=\"M149.4,-50.88C162.17,-48.66 177.97,-45.91 191.16,-43.62\" fill=\"none\" stroke=\"#494744\"/>\n",
       "<polygon fill=\"#494744\" points=\"191.82,-47.06 201.07,-41.9 190.62,-40.16 191.82,-47.06\" stroke=\"#494744\"/>\n",
       "<text font-family=\"Helvetica,sans-Serif\" font-size=\"8.00\" text-anchor=\"middle\" x=\"175.04\" y=\"-48.6\">res</text>\n",
       "</g>\n",
       "</g>\n",
       "</svg>"
      ],
      "text/plain": [
       "<IPython.core.display.SVG object>"
      ]
     },
     "metadata": {},
     "output_type": "display_data"
    }
   ],
   "source": [
    "graph = graphcat.DynamicGraph()\n",
    "imagecat.add_task(graph, \"/fill\", imagecat.operator.color.fill, res=(256, 128), values=(1, 0, 0))\n",
    "imagecat.add_task(graph, \"/resize\", imagecat.operator.transform.resize, res=(\"1w\", \"2h\"))\n",
    "graph.add_links(\"/fill\", (\"/resize\", \"image\"))\n",
    "graphcat.notebook.display(graph)"
   ]
  },
  {
   "cell_type": "code",
   "execution_count": 3,
   "metadata": {},
   "outputs": [
    {
     "name": "stderr",
     "output_type": "stream",
     "text": [
      "INFO:imagecat.operator.color:Task /fill fill:\n",
      "INFO:imagecat.operator.color:  layer: C\n",
      "INFO:imagecat.operator.color:  res: [256 128]\n",
      "INFO:imagecat.operator.color:  role: Role.RGB\n",
      "INFO:imagecat.operator.color:  values: [1 0 0]\n",
      "INFO:imagecat.operator.color:  output: Image(C: Layer(Role.RGB 256x128x3 float16))\n"
     ]
    },
    {
     "data": {
      "application/vnd.jupyter.widget-view+json": {
       "model_id": "3f099f52f585421a8607b93e1f28e1e0",
       "version_major": 2,
       "version_minor": 0
      },
      "text/plain": [
       "Accordion(children=(HTML(value=''),), _titles={'0': 'Layer: C'})"
      ]
     },
     "metadata": {},
     "output_type": "display_data"
    }
   ],
   "source": [
    "imagecat.notebook.display(graph.output(\"/fill\"))"
   ]
  },
  {
   "cell_type": "code",
   "execution_count": 4,
   "metadata": {},
   "outputs": [
    {
     "name": "stderr",
     "output_type": "stream",
     "text": [
      "INFO:imagecat.operator.transform:Task /resize resize:\n",
      "INFO:imagecat.operator.transform:  order: 3\n",
      "INFO:imagecat.operator.transform:  res: ('1w', '2h')\n",
      "INFO:imagecat.operator.transform:  output: Image(C: Layer(Role.RGB 256x256x3 float16))\n"
     ]
    },
    {
     "data": {
      "application/vnd.jupyter.widget-view+json": {
       "model_id": "b7f63b1faf1347a5bdcdb86448d1c6a5",
       "version_major": 2,
       "version_minor": 0
      },
      "text/plain": [
       "Accordion(children=(HTML(value=''),), _titles={'0': 'Layer: C'})"
      ]
     },
     "metadata": {},
     "output_type": "display_data"
    }
   ],
   "source": [
    "imagecat.notebook.display(graph.output(\"/resize\"))"
   ]
  }
 ],
 "metadata": {
  "kernelspec": {
   "display_name": "Python 3",
   "language": "python",
   "name": "python3"
  },
  "language_info": {
   "codemirror_mode": {
    "name": "ipython",
    "version": 3
   },
   "file_extension": ".py",
   "mimetype": "text/x-python",
   "name": "python",
   "nbconvert_exporter": "python",
   "pygments_lexer": "ipython3",
   "version": "3.7.7"
  }
 },
 "nbformat": 4,
 "nbformat_minor": 4
}
