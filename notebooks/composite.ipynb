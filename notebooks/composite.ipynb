{
 "cells": [
  {
   "cell_type": "code",
   "execution_count": 1,
   "metadata": {},
   "outputs": [],
   "source": [
    "import logging\n",
    "import os\n",
    "logging.basicConfig(level=logging.DEBUG)\n",
    "\n",
    "import graphcat.notebook\n",
    "import imagecat.notebook"
   ]
  },
  {
   "cell_type": "code",
   "execution_count": 2,
   "metadata": {
    "scrolled": false
   },
   "outputs": [
    {
     "data": {
      "image/svg+xml": [
       "<svg height=\"262pt\" viewBox=\"0.00 0.00 321.46 262.00\" width=\"321pt\" xmlns=\"http://www.w3.org/2000/svg\" xmlns:xlink=\"http://www.w3.org/1999/xlink\">\n",
       "<g class=\"graph\" id=\"graph0\" transform=\"scale(1 1) rotate(0) translate(4 258)\">\n",
       "<polygon fill=\"white\" points=\"-4,4 -4,-258 317.46,-258 317.46,4 -4,4\" stroke=\"transparent\"/>\n",
       "<!-- /foreground -->\n",
       "<g class=\"node\" id=\"node1\">\n",
       "<title>/foreground</title>\n",
       "<polygon fill=\"white\" points=\"197.61,-30 144.77,-30 144.77,-16 197.61,-16 197.61,-30\" stroke=\"#494744\"/>\n",
       "<text fill=\"#494744\" font-family=\"Helvetica,sans-Serif\" font-size=\"8.00\" text-anchor=\"middle\" x=\"171.19\" y=\"-20.6\">/foreground</text>\n",
       "</g>\n",
       "<!-- /comp -->\n",
       "<g class=\"node\" id=\"node2\">\n",
       "<title>/comp</title>\n",
       "<polygon fill=\"white\" points=\"313.36,-126 279.79,-126 279.79,-112 313.36,-112 313.36,-126\" stroke=\"#494744\"/>\n",
       "<text fill=\"#494744\" font-family=\"Helvetica,sans-Serif\" font-size=\"8.00\" text-anchor=\"middle\" x=\"296.57\" y=\"-116.6\">/comp</text>\n",
       "</g>\n",
       "<!-- /foreground&#45;&gt;/comp -->\n",
       "<g class=\"edge\" id=\"edge1\">\n",
       "<title>/foreground-&gt;/comp</title>\n",
       "<path d=\"M197.68,-25.68C217.96,-29.02 245.95,-36.46 264.68,-53 279.19,-65.81 287.39,-86.88 291.64,-101.77\" fill=\"none\" stroke=\"#494744\"/>\n",
       "<polygon fill=\"#494744\" points=\"288.31,-102.87 294.16,-111.7 295.09,-101.15 288.31,-102.87\" stroke=\"#494744\"/>\n",
       "<text font-family=\"Helvetica,sans-Serif\" font-size=\"8.00\" text-anchor=\"middle\" x=\"243.78\" y=\"-54.6\">foreground</text>\n",
       "</g>\n",
       "<!-- /foreground/values -->\n",
       "<g class=\"node\" id=\"node3\">\n",
       "<title>/foreground/values</title>\n",
       "<polygon fill=\"white\" points=\"79.96,-46 1.42,-46 1.42,-32 79.96,-32 79.96,-46\" stroke=\"#494744\"/>\n",
       "<text fill=\"#494744\" font-family=\"Helvetica,sans-Serif\" font-size=\"8.00\" text-anchor=\"middle\" x=\"40.69\" y=\"-36.6\">/foreground/values</text>\n",
       "</g>\n",
       "<!-- /foreground/values&#45;&gt;/foreground -->\n",
       "<g class=\"edge\" id=\"edge2\">\n",
       "<title>/foreground/values-&gt;/foreground</title>\n",
       "<path d=\"M79.9,-34.24C97.17,-32.09 117.47,-29.56 134.44,-27.45\" fill=\"none\" stroke=\"#494744\"/>\n",
       "<polygon fill=\"#494744\" points=\"135.03,-30.9 144.53,-26.2 134.17,-23.96 135.03,-30.9\" stroke=\"#494744\"/>\n",
       "<text font-family=\"Helvetica,sans-Serif\" font-size=\"8.00\" text-anchor=\"middle\" x=\"107.94\" y=\"-32.6\">values</text>\n",
       "</g>\n",
       "<!-- /foreground/res -->\n",
       "<g class=\"node\" id=\"node4\">\n",
       "<title>/foreground/res</title>\n",
       "<polygon fill=\"white\" points=\"73.94,-14 7.44,-14 7.44,0 73.94,0 73.94,-14\" stroke=\"#494744\"/>\n",
       "<text fill=\"#494744\" font-family=\"Helvetica,sans-Serif\" font-size=\"8.00\" text-anchor=\"middle\" x=\"40.69\" y=\"-4.6\">/foreground/res</text>\n",
       "</g>\n",
       "<!-- /foreground/res&#45;&gt;/foreground -->\n",
       "<g class=\"edge\" id=\"edge3\">\n",
       "<title>/foreground/res-&gt;/foreground</title>\n",
       "<path d=\"M74.11,-11.04C92.56,-13.33 115.68,-16.21 134.62,-18.57\" fill=\"none\" stroke=\"#494744\"/>\n",
       "<polygon fill=\"#494744\" points=\"134.3,-22.06 144.66,-19.82 135.17,-15.11 134.3,-22.06\" stroke=\"#494744\"/>\n",
       "<text font-family=\"Helvetica,sans-Serif\" font-size=\"8.00\" text-anchor=\"middle\" x=\"107.94\" y=\"-17.6\">res</text>\n",
       "</g>\n",
       "<!-- /background -->\n",
       "<g class=\"node\" id=\"node5\">\n",
       "<title>/background</title>\n",
       "<polygon fill=\"white\" points=\"199.22,-222 143.16,-222 143.16,-208 199.22,-208 199.22,-222\" stroke=\"#494744\"/>\n",
       "<text fill=\"#494744\" font-family=\"Helvetica,sans-Serif\" font-size=\"8.00\" text-anchor=\"middle\" x=\"171.19\" y=\"-212.6\">/background</text>\n",
       "</g>\n",
       "<!-- /background&#45;&gt;/comp -->\n",
       "<g class=\"edge\" id=\"edge4\">\n",
       "<title>/background-&gt;/comp</title>\n",
       "<path d=\"M199.27,-210.61C219.36,-206.14 246.33,-197.44 264.68,-181 278.11,-168.97 286.41,-149.77 290.97,-135.92\" fill=\"none\" stroke=\"#494744\"/>\n",
       "<polygon fill=\"#494744\" points=\"294.37,-136.78 293.86,-126.2 287.66,-134.79 294.37,-136.78\" stroke=\"#494744\"/>\n",
       "<text font-family=\"Helvetica,sans-Serif\" font-size=\"8.00\" text-anchor=\"middle\" x=\"243.78\" y=\"-204.6\">background</text>\n",
       "</g>\n",
       "<!-- /background/values -->\n",
       "<g class=\"node\" id=\"node6\">\n",
       "<title>/background/values</title>\n",
       "<polygon fill=\"white\" points=\"81.57,-254 -0.19,-254 -0.19,-240 81.57,-240 81.57,-254\" stroke=\"#494744\"/>\n",
       "<text fill=\"#494744\" font-family=\"Helvetica,sans-Serif\" font-size=\"8.00\" text-anchor=\"middle\" x=\"40.69\" y=\"-244.6\">/background/values</text>\n",
       "</g>\n",
       "<!-- /background/values&#45;&gt;/background -->\n",
       "<g class=\"edge\" id=\"edge5\">\n",
       "<title>/background/values-&gt;/background</title>\n",
       "<path d=\"M69.89,-239.98C88.47,-235.35 113,-229.24 133.15,-224.22\" fill=\"none\" stroke=\"#494744\"/>\n",
       "<polygon fill=\"#494744\" points=\"134.08,-227.6 142.94,-221.79 132.39,-220.81 134.08,-227.6\" stroke=\"#494744\"/>\n",
       "<text font-family=\"Helvetica,sans-Serif\" font-size=\"8.00\" text-anchor=\"middle\" x=\"107.94\" y=\"-233.6\">values</text>\n",
       "</g>\n",
       "<!-- /background/res -->\n",
       "<g class=\"node\" id=\"node7\">\n",
       "<title>/background/res</title>\n",
       "<polygon fill=\"white\" points=\"75.56,-222 5.82,-222 5.82,-208 75.56,-208 75.56,-222\" stroke=\"#494744\"/>\n",
       "<text fill=\"#494744\" font-family=\"Helvetica,sans-Serif\" font-size=\"8.00\" text-anchor=\"middle\" x=\"40.69\" y=\"-212.6\">/background/res</text>\n",
       "</g>\n",
       "<!-- /background/res&#45;&gt;/background -->\n",
       "<g class=\"edge\" id=\"edge6\">\n",
       "<title>/background/res-&gt;/background</title>\n",
       "<path d=\"M75.45,-215C93.1,-215 114.75,-215 132.9,-215\" fill=\"none\" stroke=\"#494744\"/>\n",
       "<polygon fill=\"#494744\" points=\"133.12,-218.5 143.12,-215 133.12,-211.5 133.12,-218.5\" stroke=\"#494744\"/>\n",
       "<text font-family=\"Helvetica,sans-Serif\" font-size=\"8.00\" text-anchor=\"middle\" x=\"107.94\" y=\"-216.6\">res</text>\n",
       "</g>\n",
       "<!-- /mask -->\n",
       "<g class=\"node\" id=\"node8\">\n",
       "<title>/mask</title>\n",
       "<polygon fill=\"white\" points=\"188.03,-190 154.35,-190 154.35,-176 188.03,-176 188.03,-190\" stroke=\"#494744\"/>\n",
       "<text fill=\"#494744\" font-family=\"Helvetica,sans-Serif\" font-size=\"8.00\" text-anchor=\"middle\" x=\"171.19\" y=\"-180.6\">/mask</text>\n",
       "</g>\n",
       "<!-- /mask&#45;&gt;/comp -->\n",
       "<g class=\"edge\" id=\"edge7\">\n",
       "<title>/mask-&gt;/comp</title>\n",
       "<path d=\"M187.91,-179.93C207.15,-175.66 240.19,-166.63 264.68,-151 271.76,-146.48 278.41,-140.02 283.71,-134.08\" fill=\"none\" stroke=\"#494744\"/>\n",
       "<polygon fill=\"#494744\" points=\"286.69,-135.98 290.4,-126.05 281.31,-131.49 286.69,-135.98\" stroke=\"#494744\"/>\n",
       "<text font-family=\"Helvetica,sans-Serif\" font-size=\"8.00\" text-anchor=\"middle\" x=\"243.78\" y=\"-170.6\">mask</text>\n",
       "</g>\n",
       "<!-- /mask/res -->\n",
       "<g class=\"node\" id=\"node9\">\n",
       "<title>/mask/res</title>\n",
       "<polygon fill=\"white\" points=\"63.86,-190 17.52,-190 17.52,-176 63.86,-176 63.86,-190\" stroke=\"#494744\"/>\n",
       "<text fill=\"#494744\" font-family=\"Helvetica,sans-Serif\" font-size=\"8.00\" text-anchor=\"middle\" x=\"40.69\" y=\"-180.6\">/mask/res</text>\n",
       "</g>\n",
       "<!-- /mask/res&#45;&gt;/mask -->\n",
       "<g class=\"edge\" id=\"edge8\">\n",
       "<title>/mask/res-&gt;/mask</title>\n",
       "<path d=\"M64.07,-183C86.29,-183 120.35,-183 143.86,-183\" fill=\"none\" stroke=\"#494744\"/>\n",
       "<polygon fill=\"#494744\" points=\"144.15,-186.5 154.15,-183 144.15,-179.5 144.15,-186.5\" stroke=\"#494744\"/>\n",
       "<text font-family=\"Helvetica,sans-Serif\" font-size=\"8.00\" text-anchor=\"middle\" x=\"107.94\" y=\"-184.6\">res</text>\n",
       "</g>\n",
       "<!-- /mask/string -->\n",
       "<g class=\"node\" id=\"node10\">\n",
       "<title>/mask/string</title>\n",
       "<polygon fill=\"white\" points=\"68.31,-158 13.07,-158 13.07,-144 68.31,-144 68.31,-158\" stroke=\"#494744\"/>\n",
       "<text fill=\"#494744\" font-family=\"Helvetica,sans-Serif\" font-size=\"8.00\" text-anchor=\"middle\" x=\"40.69\" y=\"-148.6\">/mask/string</text>\n",
       "</g>\n",
       "<!-- /mask/string&#45;&gt;/mask -->\n",
       "<g class=\"edge\" id=\"edge9\">\n",
       "<title>/mask/string-&gt;/mask</title>\n",
       "<path d=\"M68.31,-157.63C90.68,-163.2 122.43,-171.11 144.52,-176.61\" fill=\"none\" stroke=\"#494744\"/>\n",
       "<polygon fill=\"#494744\" points=\"143.96,-180.07 154.51,-179.09 145.65,-173.28 143.96,-180.07\" stroke=\"#494744\"/>\n",
       "<text font-family=\"Helvetica,sans-Serif\" font-size=\"8.00\" text-anchor=\"middle\" x=\"107.94\" y=\"-170.6\">string</text>\n",
       "</g>\n",
       "<!-- /comp/pivot -->\n",
       "<g class=\"node\" id=\"node11\">\n",
       "<title>/comp/pivot</title>\n",
       "<polygon fill=\"white\" points=\"197.59,-158 144.78,-158 144.78,-144 197.59,-144 197.59,-158\" stroke=\"#494744\"/>\n",
       "<text fill=\"#494744\" font-family=\"Helvetica,sans-Serif\" font-size=\"8.00\" text-anchor=\"middle\" x=\"171.19\" y=\"-148.6\">/comp/pivot</text>\n",
       "</g>\n",
       "<!-- /comp/pivot&#45;&gt;/comp -->\n",
       "<g class=\"edge\" id=\"edge10\">\n",
       "<title>/comp/pivot-&gt;/comp</title>\n",
       "<path d=\"M197.85,-145.47C216.49,-141.32 242.27,-135.28 264.68,-129 266.36,-128.53 268.08,-128.03 269.82,-127.51\" fill=\"none\" stroke=\"#494744\"/>\n",
       "<polygon fill=\"#494744\" points=\"271.12,-130.77 279.61,-124.43 269.02,-124.09 271.12,-130.77\" stroke=\"#494744\"/>\n",
       "<text font-family=\"Helvetica,sans-Serif\" font-size=\"8.00\" text-anchor=\"middle\" x=\"243.78\" y=\"-140.6\">pivot</text>\n",
       "</g>\n",
       "<!-- /comp/orientation -->\n",
       "<g class=\"node\" id=\"node12\">\n",
       "<title>/comp/orientation</title>\n",
       "<polygon fill=\"white\" points=\"208.06,-126 134.32,-126 134.32,-112 208.06,-112 208.06,-126\" stroke=\"#494744\"/>\n",
       "<text fill=\"#494744\" font-family=\"Helvetica,sans-Serif\" font-size=\"8.00\" text-anchor=\"middle\" x=\"171.19\" y=\"-116.6\">/comp/orientation</text>\n",
       "</g>\n",
       "<!-- /comp/orientation&#45;&gt;/comp -->\n",
       "<g class=\"edge\" id=\"edge11\">\n",
       "<title>/comp/orientation-&gt;/comp</title>\n",
       "<path d=\"M207.88,-119C227.65,-119 251.8,-119 269.74,-119\" fill=\"none\" stroke=\"#494744\"/>\n",
       "<polygon fill=\"#494744\" points=\"269.76,-122.5 279.76,-119 269.76,-115.5 269.76,-122.5\" stroke=\"#494744\"/>\n",
       "<text font-family=\"Helvetica,sans-Serif\" font-size=\"8.00\" text-anchor=\"middle\" x=\"243.78\" y=\"-120.6\">orientation</text>\n",
       "</g>\n",
       "<!-- /comp/position -->\n",
       "<g class=\"node\" id=\"node13\">\n",
       "<title>/comp/position</title>\n",
       "<polygon fill=\"white\" points=\"202.77,-94 139.6,-94 139.6,-80 202.77,-80 202.77,-94\" stroke=\"#494744\"/>\n",
       "<text fill=\"#494744\" font-family=\"Helvetica,sans-Serif\" font-size=\"8.00\" text-anchor=\"middle\" x=\"171.19\" y=\"-84.6\">/comp/position</text>\n",
       "</g>\n",
       "<!-- /comp/position&#45;&gt;/comp -->\n",
       "<g class=\"edge\" id=\"edge12\">\n",
       "<title>/comp/position-&gt;/comp</title>\n",
       "<path d=\"M202.91,-92.38C221.05,-95.87 244.38,-100.9 264.68,-107 266.38,-107.51 268.13,-108.08 269.88,-108.67\" fill=\"none\" stroke=\"#494744\"/>\n",
       "<polygon fill=\"#494744\" points=\"269.11,-112.12 279.71,-112.29 271.53,-105.55 269.11,-112.12\" stroke=\"#494744\"/>\n",
       "<text font-family=\"Helvetica,sans-Serif\" font-size=\"8.00\" text-anchor=\"middle\" x=\"243.78\" y=\"-108.6\">position</text>\n",
       "</g>\n",
       "<!-- /comp/order -->\n",
       "<g class=\"node\" id=\"node14\">\n",
       "<title>/comp/order</title>\n",
       "<polygon fill=\"white\" points=\"198.37,-62 144,-62 144,-48 198.37,-48 198.37,-62\" stroke=\"#494744\"/>\n",
       "<text fill=\"#494744\" font-family=\"Helvetica,sans-Serif\" font-size=\"8.00\" text-anchor=\"middle\" x=\"171.19\" y=\"-52.6\">/comp/order</text>\n",
       "</g>\n",
       "<!-- /comp/order&#45;&gt;/comp -->\n",
       "<g class=\"edge\" id=\"edge13\">\n",
       "<title>/comp/order-&gt;/comp</title>\n",
       "<path d=\"M198.54,-59.3C218,-63.38 244.49,-70.9 264.68,-84 272.44,-89.04 279.42,-96.54 284.77,-103.31\" fill=\"none\" stroke=\"#494744\"/>\n",
       "<polygon fill=\"#494744\" points=\"282.25,-105.79 290.99,-111.78 287.9,-101.65 282.25,-105.79\" stroke=\"#494744\"/>\n",
       "<text font-family=\"Helvetica,sans-Serif\" font-size=\"8.00\" text-anchor=\"middle\" x=\"243.78\" y=\"-85.6\">order</text>\n",
       "</g>\n",
       "</g>\n",
       "</svg>"
      ],
      "text/plain": [
       "<IPython.core.display.SVG object>"
      ]
     },
     "metadata": {},
     "output_type": "display_data"
    },
    {
     "name": "stderr",
     "output_type": "stream",
     "text": [
      "INFO:imagecat.operator.color:Task /foreground fill:\n",
      "INFO:imagecat.operator.color:  layer: C\n",
      "INFO:imagecat.operator.color:  res: [256 128]\n",
      "INFO:imagecat.operator.color:  role: Role.RGB\n",
      "INFO:imagecat.operator.color:  values: [0 0 0]\n",
      "INFO:imagecat.operator.color:  output: Image(C: Layer(Role.RGB 256x128x3 float16))\n"
     ]
    },
    {
     "data": {
      "application/vnd.jupyter.widget-view+json": {
       "model_id": "0ce486ef92864c06afcf1dc6c462bd82",
       "version_major": 2,
       "version_minor": 0
      },
      "text/plain": [
       "Accordion(children=(HTML(value=''),), _titles={'0': 'Layer: C'})"
      ]
     },
     "metadata": {},
     "output_type": "display_data"
    },
    {
     "name": "stderr",
     "output_type": "stream",
     "text": [
      "INFO:imagecat.operator.color:Task /background fill:\n",
      "INFO:imagecat.operator.color:  layer: C\n",
      "INFO:imagecat.operator.color:  res: [2560 1440]\n",
      "INFO:imagecat.operator.color:  role: Role.RGB\n",
      "INFO:imagecat.operator.color:  values: [1.  0.5 0. ]\n",
      "INFO:imagecat.operator.color:  output: Image(C: Layer(Role.RGB 2560x1440x3 float16))\n"
     ]
    },
    {
     "data": {
      "application/vnd.jupyter.widget-view+json": {
       "model_id": "4ee775fb893e45d8b7588937c8a8bbac",
       "version_major": 2,
       "version_minor": 0
      },
      "text/plain": [
       "Accordion(children=(HTML(value=''),), _titles={'0': 'Layer: C'})"
      ]
     },
     "metadata": {},
     "output_type": "display_data"
    },
    {
     "name": "stderr",
     "output_type": "stream",
     "text": [
      "INFO:imagecat.operator.render:Task /mask text:\n",
      "INFO:imagecat.operator.render:  anchor: mm\n",
      "INFO:imagecat.operator.render:  fontindex: 0\n",
      "INFO:imagecat.operator.render:  fontname: /Users/tshead/src/imagecat/imagecat/LeagueSpartan-SemiBold.ttf\n",
      "INFO:imagecat.operator.render:  fontsize: 0.33h\n",
      "INFO:imagecat.operator.render:  layer: A\n",
      "INFO:imagecat.operator.render:  position: ('0.5w', '0.5h')\n",
      "INFO:imagecat.operator.render:  res: [256 128]\n",
      "INFO:imagecat.operator.render:  string: Imagecat!\n",
      "INFO:imagecat.operator.render:  output: Image(A: Layer(Role.ALPHA 256x128x1 float16))\n"
     ]
    },
    {
     "data": {
      "application/vnd.jupyter.widget-view+json": {
       "model_id": "e4265bbb5aa34f2c96df1b0f9bfa1291",
       "version_major": 2,
       "version_minor": 0
      },
      "text/plain": [
       "Accordion(children=(HTML(value=''),), _titles={'0': 'Layer: A'})"
      ]
     },
     "metadata": {},
     "output_type": "display_data"
    },
    {
     "name": "stderr",
     "output_type": "stream",
     "text": [
      "INFO:imagecat.operator.transform:Task /comp composite:\n",
      "INFO:imagecat.operator.transform:  bglayer: None\n",
      "INFO:imagecat.operator.transform:  fglayer: None\n",
      "INFO:imagecat.operator.transform:  layer: C\n",
      "INFO:imagecat.operator.transform:  masklayer: None\n",
      "INFO:imagecat.operator.transform:  order: 0\n",
      "INFO:imagecat.operator.transform:  orientation: 0.0\n",
      "INFO:imagecat.operator.transform:  pivot: ('1w', '1h')\n",
      "INFO:imagecat.operator.transform:  position: ('1w', '1h')\n",
      "INFO:imagecat.operator.transform:  scale: [1, 1]\n",
      "INFO:imagecat.operator.transform:  output: Image(C: Layer(Role.RGB 2560x1440x3 float16))\n"
     ]
    },
    {
     "data": {
      "application/vnd.jupyter.widget-view+json": {
       "model_id": "313c50ac0da24e2ea33537572e8aa9ce",
       "version_major": 2,
       "version_minor": 0
      },
      "text/plain": [
       "Accordion(children=(HTML(value=''),), _titles={'0': 'Layer: C'})"
      ]
     },
     "metadata": {},
     "output_type": "display_data"
    }
   ],
   "source": [
    "graph = graphcat.DynamicGraph()\n",
    "monitor = graphcat.PerformanceMonitor(graph)\n",
    "imagecat.add_task(graph, \"/foreground\", imagecat.operator.color.fill, values=[0, 0, 0], res=[256, 128])\n",
    "imagecat.add_task(graph, \"/background\", imagecat.operator.color.fill, values=[1, 0.5, 0], res=[2560, 1440])\n",
    "imagecat.add_task(graph, \"/mask\", imagecat.operator.render.text, res=[256, 128], string=\"Imagecat!\")\n",
    "imagecat.add_task(graph, \"/comp\", imagecat.operator.transform.composite, pivot=(\"1w\", \"1h\"), orientation=0, position=(\"1w\", \"1h\"), order=0)\n",
    "imagecat.set_links(graph, \"/foreground\", (\"/comp\", \"foreground\"))\n",
    "imagecat.set_links(graph, \"/background\", (\"/comp\", \"background\"))\n",
    "imagecat.set_links(graph, \"/mask\", (\"/comp\", \"mask\"))\n",
    "\n",
    "graphcat.notebook.display(graph)\n",
    "imagecat.notebook.display(graph.output(\"/foreground\"))\n",
    "imagecat.notebook.display(graph.output(\"/background\"))\n",
    "imagecat.notebook.display(graph.output(\"/mask\"))\n",
    "imagecat.notebook.display(graph.output(\"/comp\"))"
   ]
  },
  {
   "cell_type": "code",
   "execution_count": 3,
   "metadata": {},
   "outputs": [
    {
     "data": {
      "text/plain": [
       "[('/background', [0.0746150016784668]),\n",
       " ('/comp', [0.021509885787963867]),\n",
       " ('/mask', [0.008854866027832031]),\n",
       " ('/foreground', [0.0047800540924072266]),\n",
       " ('/mask/res', [2.288818359375e-05]),\n",
       " ('/comp/order', [1.7881393432617188e-05]),\n",
       " ('/background/res', [1.5020370483398438e-05]),\n",
       " ('/foreground/res', [1.0967254638671875e-05]),\n",
       " ('/foreground/values', [9.059906005859375e-06]),\n",
       " ('/comp/orientation', [9.059906005859375e-06]),\n",
       " ('/mask/string', [8.106231689453125e-06]),\n",
       " ('/comp/pivot', [8.106231689453125e-06]),\n",
       " ('/comp/position', [8.106231689453125e-06]),\n",
       " ('/background/values', [7.867813110351562e-06])]"
      ]
     },
     "execution_count": 3,
     "metadata": {},
     "output_type": "execute_result"
    }
   ],
   "source": [
    "sorted(monitor.tasks.items(), key=lambda item: item[1], reverse=True)"
   ]
  }
 ],
 "metadata": {
  "kernelspec": {
   "display_name": "Python 3",
   "language": "python",
   "name": "python3"
  },
  "language_info": {
   "codemirror_mode": {
    "name": "ipython",
    "version": 3
   },
   "file_extension": ".py",
   "mimetype": "text/x-python",
   "name": "python",
   "nbconvert_exporter": "python",
   "pygments_lexer": "ipython3",
   "version": "3.7.7"
  }
 },
 "nbformat": 4,
 "nbformat_minor": 4
}
