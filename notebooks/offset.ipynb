{
 "cells": [
  {
   "cell_type": "code",
   "execution_count": 1,
   "metadata": {},
   "outputs": [],
   "source": [
    "import logging\n",
    "logging.basicConfig(level=logging.DEBUG)\n",
    "\n",
    "import graphcat.notebook\n",
    "import imagecat.notebook"
   ]
  },
  {
   "cell_type": "code",
   "execution_count": 2,
   "metadata": {
    "scrolled": false
   },
   "outputs": [
    {
     "data": {
      "image/svg+xml": [
       "<svg height=\"126pt\" viewBox=\"0.00 0.00 224.80 126.00\" width=\"225pt\" xmlns=\"http://www.w3.org/2000/svg\" xmlns:xlink=\"http://www.w3.org/1999/xlink\">\n",
       "<g class=\"graph\" id=\"graph0\" transform=\"scale(1 1) rotate(0) translate(4 122)\">\n",
       "<title>%3</title>\n",
       "<polygon fill=\"white\" points=\"-4,4 -4,-122 220.803,-122 220.803,4 -4,4\" stroke=\"none\"/>\n",
       "<!-- /text -->\n",
       "<g class=\"node\" id=\"node1\"><title>/text</title>\n",
       "<polygon fill=\"white\" points=\"125.848,-66 96.8477,-66 96.8477,-52 125.848,-52 125.848,-66\" stroke=\"#494744\"/>\n",
       "<text fill=\"#494744\" font-family=\"Helvetica,sans-Serif\" font-size=\"8.00\" text-anchor=\"middle\" x=\"111.348\" y=\"-56.6\">/text</text>\n",
       "</g>\n",
       "<!-- /offset -->\n",
       "<g class=\"node\" id=\"node2\"><title>/offset</title>\n",
       "<polygon fill=\"white\" points=\"92.9979,-14 59.6974,-14 59.6974,-0 92.9979,-0 92.9979,-14\" stroke=\"#494744\"/>\n",
       "<text fill=\"#494744\" font-family=\"Helvetica,sans-Serif\" font-size=\"8.00\" text-anchor=\"middle\" x=\"76.3477\" y=\"-4.6\">/offset</text>\n",
       "</g>\n",
       "<!-- /text&#45;&gt;/offset -->\n",
       "<g class=\"edge\" id=\"edge1\"><title>/text-&gt;/offset</title>\n",
       "<path d=\"M107.056,-51.869C101.965,-44.5968 93.3099,-32.2318 86.4832,-22.4794\" fill=\"none\" stroke=\"#494744\"/>\n",
       "<polygon fill=\"#494744\" points=\"89.2764,-20.3663 80.6744,-14.1811 83.5418,-24.3806 89.2764,-20.3663\" stroke=\"#494744\"/>\n",
       "<text font-family=\"Helvetica,sans-Serif\" font-size=\"8.00\" text-anchor=\"middle\" x=\"106.242\" y=\"-30.6\">image</text>\n",
       "</g>\n",
       "<!-- /text/fontname -->\n",
       "<g class=\"node\" id=\"node3\"><title>/text/fontname</title>\n",
       "<polygon fill=\"white\" points=\"62.5437,-118 0.151607,-118 0.151607,-104 62.5437,-104 62.5437,-118\" stroke=\"#494744\"/>\n",
       "<text fill=\"#494744\" font-family=\"Helvetica,sans-Serif\" font-size=\"8.00\" text-anchor=\"middle\" x=\"31.3477\" y=\"-108.6\">/text/fontname</text>\n",
       "</g>\n",
       "<!-- /text/fontname&#45;&gt;/text -->\n",
       "<g class=\"edge\" id=\"edge2\"><title>/text/fontname-&gt;/text</title>\n",
       "<path d=\"M40.0243,-103.78C48.5411,-97.7508 61.9669,-88.4503 73.9922,-81 79.5024,-77.5862 85.5887,-74.0637 91.2208,-70.9019\" fill=\"none\" stroke=\"#494744\"/>\n",
       "<polygon fill=\"#494744\" points=\"93.027,-73.9027 100.088,-66.0042 89.6426,-67.7752 93.027,-73.9027\" stroke=\"#494744\"/>\n",
       "<text font-family=\"Helvetica,sans-Serif\" font-size=\"8.00\" text-anchor=\"middle\" x=\"90.0254\" y=\"-82.6\">fontname</text>\n",
       "</g>\n",
       "<!-- /text/fontindex -->\n",
       "<g class=\"node\" id=\"node4\"><title>/text/fontindex</title>\n",
       "<polygon fill=\"white\" points=\"142.157,-118 80.5388,-118 80.5388,-104 142.157,-104 142.157,-118\" stroke=\"#494744\"/>\n",
       "<text fill=\"#494744\" font-family=\"Helvetica,sans-Serif\" font-size=\"8.00\" text-anchor=\"middle\" x=\"111.348\" y=\"-108.6\">/text/fontindex</text>\n",
       "</g>\n",
       "<!-- /text/fontindex&#45;&gt;/text -->\n",
       "<g class=\"edge\" id=\"edge3\"><title>/text/fontindex-&gt;/text</title>\n",
       "<path d=\"M111.348,-103.869C111.348,-97.0466 111.348,-85.742 111.348,-76.3173\" fill=\"none\" stroke=\"#494744\"/>\n",
       "<polygon fill=\"#494744\" points=\"114.848,-76.1811 111.348,-66.1811 107.848,-76.1812 114.848,-76.1811\" stroke=\"#494744\"/>\n",
       "<text font-family=\"Helvetica,sans-Serif\" font-size=\"8.00\" text-anchor=\"middle\" x=\"127.582\" y=\"-82.6\">fontindex</text>\n",
       "</g>\n",
       "<!-- /text/fontsize -->\n",
       "<g class=\"node\" id=\"node5\"><title>/text/fontsize</title>\n",
       "<polygon fill=\"white\" points=\"216.758,-118 159.937,-118 159.937,-104 216.758,-104 216.758,-118\" stroke=\"#494744\"/>\n",
       "<text fill=\"#494744\" font-family=\"Helvetica,sans-Serif\" font-size=\"8.00\" text-anchor=\"middle\" x=\"188.348\" y=\"-108.6\">/text/fontsize</text>\n",
       "</g>\n",
       "<!-- /text/fontsize&#45;&gt;/text -->\n",
       "<g class=\"edge\" id=\"edge4\"><title>/text/fontsize-&gt;/text</title>\n",
       "<path d=\"M180.015,-103.782C171.834,-97.7545 158.932,-88.4551 147.348,-81 142.176,-77.6715 136.47,-74.2382 131.154,-71.1367\" fill=\"none\" stroke=\"#494744\"/>\n",
       "<polygon fill=\"#494744\" points=\"132.624,-67.9448 122.208,-66.0064 129.141,-74.0173 132.624,-67.9448\" stroke=\"#494744\"/>\n",
       "<text font-family=\"Helvetica,sans-Serif\" font-size=\"8.00\" text-anchor=\"middle\" x=\"172.133\" y=\"-82.6\">fontsize</text>\n",
       "</g>\n",
       "<!-- /offset/offset -->\n",
       "<g class=\"node\" id=\"node6\"><title>/offset/offset</title>\n",
       "<polygon fill=\"white\" points=\"79.1453,-66 23.55,-66 23.55,-52 79.1453,-52 79.1453,-66\" stroke=\"#494744\"/>\n",
       "<text fill=\"#494744\" font-family=\"Helvetica,sans-Serif\" font-size=\"8.00\" text-anchor=\"middle\" x=\"51.3477\" y=\"-56.6\">/offset/offset</text>\n",
       "</g>\n",
       "<!-- /offset/offset&#45;&gt;/offset -->\n",
       "<g class=\"edge\" id=\"edge5\"><title>/offset/offset-&gt;/offset</title>\n",
       "<path d=\"M52.8534,-51.5469C54.4044,-45.5117 57.1302,-36.3509 60.9219,-29 62.0339,-26.844 63.357,-24.6699 64.7538,-22.5797\" fill=\"none\" stroke=\"#494744\"/>\n",
       "<polygon fill=\"#494744\" points=\"67.7707,-24.3877 70.9229,-14.2726 62.1509,-20.2142 67.7707,-24.3877\" stroke=\"#494744\"/>\n",
       "<text font-family=\"Helvetica,sans-Serif\" font-size=\"8.00\" text-anchor=\"middle\" x=\"71.0605\" y=\"-30.6\">offset</text>\n",
       "</g>\n",
       "</g>\n",
       "</svg>"
      ],
      "text/plain": [
       "<IPython.core.display.SVG object>"
      ]
     },
     "metadata": {},
     "output_type": "display_data"
    },
    {
     "name": "stderr",
     "output_type": "stream",
     "text": [
      "INFO:imagecat:Task /text text:\n",
      "INFO:imagecat:  anchor: mm\n",
      "INFO:imagecat:  fontindex: 4\n",
      "INFO:imagecat:  fontname: HelveticaNeue\n",
      "INFO:imagecat:  fontsize: 0.33vh\n",
      "INFO:imagecat:  layer: A\n",
      "INFO:imagecat:  position: ('0.5vw', '0.5vh')\n",
      "INFO:imagecat:  size: [256 256]\n",
      "INFO:imagecat:  text: Text!\n",
      "INFO:imagecat:  output: Image(A: Layer(256x256x1 float16 [''] Role.NONE))\n",
      "INFO:imagecat:Task /offset offset:\n",
      "INFO:imagecat:  layers: *\n",
      "INFO:imagecat:  offset: ('-40px', 0)\n",
      "INFO:imagecat:  output: Image(A: Layer(256x256x1 float16 [''] Role.NONE))\n"
     ]
    },
    {
     "data": {
      "text/html": [
       "<div style='display: flex; flex-flow: row wrap; text-align: center'><figure style='margin: 5px'><image src='data:image/png;base64,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' style='width:None; height:None; box-shadow: 4px 4px 6px rgba(0, 0, 0, 0.5)'/><figcaption>A <small>256&times;256&times;1 float16 Role.NONE</small></figcaption></figure></div>"
      ],
      "text/plain": [
       "<IPython.core.display.HTML object>"
      ]
     },
     "metadata": {},
     "output_type": "display_data"
    }
   ],
   "source": [
    "graph = graphcat.Graph()\n",
    "imagecat.add_operation(graph, \"/text\", imagecat.text, fontname=\"HelveticaNeue\", fontindex=4, fontsize=\"0.33vh\")\n",
    "imagecat.add_operation(graph, \"/offset\", imagecat.offset, offset=(\"-40px\", 0))\n",
    "graph.set_links(\"/text\", (\"/offset\", \"image\"))\n",
    "\n",
    "graphcat.notebook.display(graph)\n",
    "imagecat.notebook.display(graph.output(\"/offset\"))"
   ]
  }
 ],
 "metadata": {
  "kernelspec": {
   "display_name": "Python 3",
   "language": "python",
   "name": "python3"
  },
  "language_info": {
   "codemirror_mode": {
    "name": "ipython",
    "version": 3
   },
   "file_extension": ".py",
   "mimetype": "text/x-python",
   "name": "python",
   "nbconvert_exporter": "python",
   "pygments_lexer": "ipython3",
   "version": "3.7.7"
  }
 },
 "nbformat": 4,
 "nbformat_minor": 4
}
