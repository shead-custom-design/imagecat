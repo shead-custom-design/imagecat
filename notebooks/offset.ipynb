{
 "cells": [
  {
   "cell_type": "code",
   "execution_count": 1,
   "metadata": {},
   "outputs": [],
   "source": [
    "import logging\n",
    "logging.basicConfig(level=logging.DEBUG)\n",
    "\n",
    "import graphcat.notebook\n",
    "import imagecat.notebook"
   ]
  },
  {
   "cell_type": "code",
   "execution_count": 8,
   "metadata": {},
   "outputs": [
    {
     "data": {
      "image/svg+xml": [
       "<svg height=\"126pt\" viewBox=\"0.00 0.00 224.80 126.00\" width=\"225pt\" xmlns=\"http://www.w3.org/2000/svg\" xmlns:xlink=\"http://www.w3.org/1999/xlink\">\n",
       "<g class=\"graph\" id=\"graph0\" transform=\"scale(1 1) rotate(0) translate(4 122)\">\n",
       "<title>%3</title>\n",
       "<polygon fill=\"white\" points=\"-4,4 -4,-122 220.803,-122 220.803,4 -4,4\" stroke=\"none\"/>\n",
       "<!-- /text -->\n",
       "<g class=\"node\" id=\"node1\"><title>/text</title>\n",
       "<polygon fill=\"white\" points=\"125.848,-66 96.8477,-66 96.8477,-52 125.848,-52 125.848,-66\" stroke=\"#494744\"/>\n",
       "<text fill=\"#494744\" font-family=\"Helvetica,sans-Serif\" font-size=\"8.00\" text-anchor=\"middle\" x=\"111.348\" y=\"-56.6\">/text</text>\n",
       "</g>\n",
       "<!-- /offset -->\n",
       "<g class=\"node\" id=\"node2\"><title>/offset</title>\n",
       "<polygon fill=\"white\" points=\"92.9979,-14 59.6974,-14 59.6974,-0 92.9979,-0 92.9979,-14\" stroke=\"#494744\"/>\n",
       "<text fill=\"#494744\" font-family=\"Helvetica,sans-Serif\" font-size=\"8.00\" text-anchor=\"middle\" x=\"76.3477\" y=\"-4.6\">/offset</text>\n",
       "</g>\n",
       "<!-- /text&#45;&gt;/offset -->\n",
       "<g class=\"edge\" id=\"edge1\"><title>/text-&gt;/offset</title>\n",
       "<path d=\"M107.056,-51.869C101.965,-44.5968 93.3099,-32.2318 86.4832,-22.4794\" fill=\"none\" stroke=\"#494744\"/>\n",
       "<polygon fill=\"#494744\" points=\"89.2764,-20.3663 80.6744,-14.1811 83.5418,-24.3806 89.2764,-20.3663\" stroke=\"#494744\"/>\n",
       "<text font-family=\"Helvetica,sans-Serif\" font-size=\"8.00\" text-anchor=\"middle\" x=\"106.242\" y=\"-30.6\">image</text>\n",
       "</g>\n",
       "<!-- /text/fontname -->\n",
       "<g class=\"node\" id=\"node3\"><title>/text/fontname</title>\n",
       "<polygon fill=\"white\" points=\"62.5437,-118 0.151607,-118 0.151607,-104 62.5437,-104 62.5437,-118\" stroke=\"#494744\"/>\n",
       "<text fill=\"#494744\" font-family=\"Helvetica,sans-Serif\" font-size=\"8.00\" text-anchor=\"middle\" x=\"31.3477\" y=\"-108.6\">/text/fontname</text>\n",
       "</g>\n",
       "<!-- /text/fontname&#45;&gt;/text -->\n",
       "<g class=\"edge\" id=\"edge2\"><title>/text/fontname-&gt;/text</title>\n",
       "<path d=\"M40.0243,-103.78C48.5411,-97.7508 61.9669,-88.4503 73.9922,-81 79.5024,-77.5862 85.5887,-74.0637 91.2208,-70.9019\" fill=\"none\" stroke=\"#494744\"/>\n",
       "<polygon fill=\"#494744\" points=\"93.027,-73.9027 100.088,-66.0042 89.6426,-67.7752 93.027,-73.9027\" stroke=\"#494744\"/>\n",
       "<text font-family=\"Helvetica,sans-Serif\" font-size=\"8.00\" text-anchor=\"middle\" x=\"90.0254\" y=\"-82.6\">fontname</text>\n",
       "</g>\n",
       "<!-- /text/fontindex -->\n",
       "<g class=\"node\" id=\"node4\"><title>/text/fontindex</title>\n",
       "<polygon fill=\"white\" points=\"142.157,-118 80.5388,-118 80.5388,-104 142.157,-104 142.157,-118\" stroke=\"#494744\"/>\n",
       "<text fill=\"#494744\" font-family=\"Helvetica,sans-Serif\" font-size=\"8.00\" text-anchor=\"middle\" x=\"111.348\" y=\"-108.6\">/text/fontindex</text>\n",
       "</g>\n",
       "<!-- /text/fontindex&#45;&gt;/text -->\n",
       "<g class=\"edge\" id=\"edge3\"><title>/text/fontindex-&gt;/text</title>\n",
       "<path d=\"M111.348,-103.869C111.348,-97.0466 111.348,-85.742 111.348,-76.3173\" fill=\"none\" stroke=\"#494744\"/>\n",
       "<polygon fill=\"#494744\" points=\"114.848,-76.1811 111.348,-66.1811 107.848,-76.1812 114.848,-76.1811\" stroke=\"#494744\"/>\n",
       "<text font-family=\"Helvetica,sans-Serif\" font-size=\"8.00\" text-anchor=\"middle\" x=\"127.582\" y=\"-82.6\">fontindex</text>\n",
       "</g>\n",
       "<!-- /text/fontsize -->\n",
       "<g class=\"node\" id=\"node5\"><title>/text/fontsize</title>\n",
       "<polygon fill=\"white\" points=\"216.758,-118 159.937,-118 159.937,-104 216.758,-104 216.758,-118\" stroke=\"#494744\"/>\n",
       "<text fill=\"#494744\" font-family=\"Helvetica,sans-Serif\" font-size=\"8.00\" text-anchor=\"middle\" x=\"188.348\" y=\"-108.6\">/text/fontsize</text>\n",
       "</g>\n",
       "<!-- /text/fontsize&#45;&gt;/text -->\n",
       "<g class=\"edge\" id=\"edge4\"><title>/text/fontsize-&gt;/text</title>\n",
       "<path d=\"M180.015,-103.782C171.834,-97.7545 158.932,-88.4551 147.348,-81 142.176,-77.6715 136.47,-74.2382 131.154,-71.1367\" fill=\"none\" stroke=\"#494744\"/>\n",
       "<polygon fill=\"#494744\" points=\"132.624,-67.9448 122.208,-66.0064 129.141,-74.0173 132.624,-67.9448\" stroke=\"#494744\"/>\n",
       "<text font-family=\"Helvetica,sans-Serif\" font-size=\"8.00\" text-anchor=\"middle\" x=\"172.133\" y=\"-82.6\">fontsize</text>\n",
       "</g>\n",
       "<!-- /offset/offset -->\n",
       "<g class=\"node\" id=\"node6\"><title>/offset/offset</title>\n",
       "<polygon fill=\"white\" points=\"79.1453,-66 23.55,-66 23.55,-52 79.1453,-52 79.1453,-66\" stroke=\"#494744\"/>\n",
       "<text fill=\"#494744\" font-family=\"Helvetica,sans-Serif\" font-size=\"8.00\" text-anchor=\"middle\" x=\"51.3477\" y=\"-56.6\">/offset/offset</text>\n",
       "</g>\n",
       "<!-- /offset/offset&#45;&gt;/offset -->\n",
       "<g class=\"edge\" id=\"edge5\"><title>/offset/offset-&gt;/offset</title>\n",
       "<path d=\"M52.8534,-51.5469C54.4044,-45.5117 57.1302,-36.3509 60.9219,-29 62.0339,-26.844 63.357,-24.6699 64.7538,-22.5797\" fill=\"none\" stroke=\"#494744\"/>\n",
       "<polygon fill=\"#494744\" points=\"67.7707,-24.3877 70.9229,-14.2726 62.1509,-20.2142 67.7707,-24.3877\" stroke=\"#494744\"/>\n",
       "<text font-family=\"Helvetica,sans-Serif\" font-size=\"8.00\" text-anchor=\"middle\" x=\"71.0605\" y=\"-30.6\">offset</text>\n",
       "</g>\n",
       "</g>\n",
       "</svg>"
      ],
      "text/plain": [
       "<IPython.core.display.SVG object>"
      ]
     },
     "metadata": {},
     "output_type": "display_data"
    },
    {
     "name": "stderr",
     "output_type": "stream",
     "text": [
      "INFO:imagecat:Task /text text anchor mm fontindex 4 fontname HelveticaNeue fontsize 0.33vh plane A position ('0.5vw', '0.5vh') size [256 256] result A(256x256x1 float16)\n",
      "INFO:imagecat:Task /offset offset ('-40px', 0) * result A(256x256x1 float16)\n"
     ]
    },
    {
     "data": {
      "text/html": [
       "<div style='display: flex; flex-flow: row wrap; text-align: center'><figure style='margin: 5px'><image src='data:image/png;base64,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' style='width:None; height:None'/><figcaption>A <small>256&times;256&times;1 float16</small></figcaption></figure></div>"
      ],
      "text/plain": [
       "<IPython.core.display.HTML object>"
      ]
     },
     "metadata": {},
     "output_type": "display_data"
    }
   ],
   "source": [
    "graph = graphcat.Graph()\n",
    "imagecat.add_operation(graph, \"/text\", imagecat.text, fontname=\"HelveticaNeue\", fontindex=4, fontsize=\"0.33vh\")\n",
    "imagecat.add_operation(graph, \"/offset\", imagecat.offset, offset=(\"-40px\", 0))\n",
    "graph.set_links(\"/text\", (\"/offset\", \"image\"))\n",
    "\n",
    "graphcat.notebook.display(graph)\n",
    "imagecat.notebook.display(graph.output(\"/offset\"))"
   ]
  },
  {
   "cell_type": "code",
   "execution_count": null,
   "metadata": {},
   "outputs": [],
   "source": []
  }
 ],
 "metadata": {
  "kernelspec": {
   "display_name": "Python 3",
   "language": "python",
   "name": "python3"
  },
  "language_info": {
   "codemirror_mode": {
    "name": "ipython",
    "version": 3
   },
   "file_extension": ".py",
   "mimetype": "text/x-python",
   "name": "python",
   "nbconvert_exporter": "python",
   "pygments_lexer": "ipython3",
   "version": "3.7.7"
  }
 },
 "nbformat": 4,
 "nbformat_minor": 4
}
