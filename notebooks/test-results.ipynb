{
 "cells": [
  {
   "cell_type": "code",
   "execution_count": 23,
   "metadata": {},
   "outputs": [
    {
     "data": {
      "text/html": [
       "<h1>Reference Image</h1><p>/Users/tshead/src/imagecat/features/reference/rename.icp</p>"
      ],
      "text/plain": [
       "<IPython.core.display.HTML object>"
      ]
     },
     "metadata": {},
     "output_type": "display_data"
    },
    {
     "name": "stdout",
     "output_type": "stream",
     "text": [
      "Can't get attribute 'Image' on <module 'imagecat' from '/Users/tshead/src/imagecat/imagecat/__init__.py'>\n"
     ]
    },
    {
     "data": {
      "text/html": [
       "<h1>Failed Image</h1><p>/Users/tshead/src/imagecat/features/failed/rename.icp</p>"
      ],
      "text/plain": [
       "<IPython.core.display.HTML object>"
      ]
     },
     "metadata": {},
     "output_type": "display_data"
    },
    {
     "data": {
      "text/html": [
       "<div style='display: flex; flex-flow: row wrap; text-align: center'><figure style='margin: 5px'><image src='data:image/png;base64,iVBORw0KGgoAAAANSUhEUgAAAIAAAACACAAAAADmVT4XAAAAXElEQVR4nO3OMQEAAAjDsIF/zyBjT2qgmUu3Lf8BAAAAAAAAAAAAAAAAAAAAAAAAAAAAAAAAAAAAAAAAAAAAAAAAAAAAAAAAAAAAAAAAAAAAAAAAAAAAAAAAAADyxKEB/wRneDEAAAAASUVORK5CYII=' style='width:None; height:None; box-shadow: 4px 4px 6px rgba(0, 0, 0, 0.5)'/><figcaption>mask <small>128&times;128&times;1 float16 Role.NONE</small></figcaption></figure></div>"
      ],
      "text/plain": [
       "<IPython.core.display.HTML object>"
      ]
     },
     "metadata": {},
     "output_type": "display_data"
    }
   ],
   "source": [
    "import os\n",
    "import IPython.display\n",
    "import graphcat\n",
    "import imagecat.notebook\n",
    "\n",
    "name = \"rename\"\n",
    "\n",
    "reference_path = os.path.abspath(f\"../features/reference/{name}.icp\")\n",
    "failed_path = os.path.abspath(f\"../features/failed/{name}.icp\")\n",
    "\n",
    "graph = graphcat.Graph()\n",
    "imagecat.add_task(graph, \"/load-reference\", imagecat.operator.load, path=reference_path)\n",
    "imagecat.add_task(graph, \"/load-failed\", imagecat.operator.load, path=failed_path);\n",
    "\n",
    "IPython.display.display(IPython.display.HTML(f\"<h1>Reference Image</h1><p>{reference_path}</p>\"))\n",
    "try:\n",
    "    imagecat.notebook.display(graph.output(\"/load-reference\"))\n",
    "except Exception as e:\n",
    "    print(e)\n",
    "\n",
    "if os.path.exists(failed_path):\n",
    "    IPython.display.display(IPython.display.HTML(f\"<h1>Failed Image</h1><p>{failed_path}</p>\"))\n",
    "    imagecat.notebook.display(graph.output(\"/load-failed\"))"
   ]
  },
  {
   "cell_type": "code",
   "execution_count": null,
   "metadata": {},
   "outputs": [],
   "source": []
  },
  {
   "cell_type": "code",
   "execution_count": null,
   "metadata": {},
   "outputs": [],
   "source": []
  }
 ],
 "metadata": {
  "kernelspec": {
   "display_name": "Python 3",
   "language": "python",
   "name": "python3"
  },
  "language_info": {
   "codemirror_mode": {
    "name": "ipython",
    "version": 3
   },
   "file_extension": ".py",
   "mimetype": "text/x-python",
   "name": "python",
   "nbconvert_exporter": "python",
   "pygments_lexer": "ipython3",
   "version": "3.7.7"
  }
 },
 "nbformat": 4,
 "nbformat_minor": 4
}
