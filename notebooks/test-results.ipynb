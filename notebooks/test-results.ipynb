{
 "cells": [
  {
   "cell_type": "code",
   "execution_count": 1,
   "metadata": {
    "scrolled": false
   },
   "outputs": [
    {
     "data": {
      "text/html": [
       "<h1>Reference Image</h1><p>/Users/tshead/src/imagecat/features/reference/github-ubuntu-latest/resize-cubic.icp</p>"
      ],
      "text/plain": [
       "<IPython.core.display.HTML object>"
      ]
     },
     "metadata": {},
     "output_type": "display_data"
    },
    {
     "name": "stdout",
     "output_type": "stream",
     "text": [
      "0.0 1.0\n"
     ]
    },
    {
     "data": {
      "application/vnd.jupyter.widget-view+json": {
       "model_id": "6a636dfce58740d88abf59e38b675f0f",
       "version_major": 2,
       "version_minor": 0
      },
      "text/plain": [
       "Accordion(children=(HTML(value=''),), _titles={'0': 'Layer: A'})"
      ]
     },
     "metadata": {},
     "output_type": "display_data"
    },
    {
     "data": {
      "text/html": [
       "<h1>Failed Image</h1><p>/Users/tshead/Downloads/failed/github-ubuntu-latest/resize-cubic.icp</p>"
      ],
      "text/plain": [
       "<IPython.core.display.HTML object>"
      ]
     },
     "metadata": {},
     "output_type": "display_data"
    },
    {
     "data": {
      "application/vnd.jupyter.widget-view+json": {
       "model_id": "5eea6be49c3d48549f2142beca7034f4",
       "version_major": 2,
       "version_minor": 0
      },
      "text/plain": [
       "Accordion(children=(HTML(value=''),), _titles={'0': 'Layer: A'})"
      ]
     },
     "metadata": {},
     "output_type": "display_data"
    },
    {
     "data": {
      "text/html": [
       "<h1>Difference</h1>"
      ],
      "text/plain": [
       "<IPython.core.display.HTML object>"
      ]
     },
     "metadata": {},
     "output_type": "display_data"
    },
    {
     "name": "stdout",
     "output_type": "stream",
     "text": [
      "0.0 0.0649\n"
     ]
    },
    {
     "data": {
      "application/vnd.jupyter.widget-view+json": {
       "model_id": "d3892b746ae44e3da15a3ca0b93ff860",
       "version_major": 2,
       "version_minor": 0
      },
      "text/plain": [
       "Accordion(children=(HTML(value=''),), _titles={'0': 'Layer: A'})"
      ]
     },
     "metadata": {},
     "output_type": "display_data"
    }
   ],
   "source": [
    "import os\n",
    "\n",
    "import IPython.display\n",
    "import graphcat\n",
    "import numpy\n",
    "\n",
    "import imagecat.notebook\n",
    "\n",
    "name = \"github-ubuntu-latest/resize-cubic\"\n",
    "\n",
    "reference_path = os.path.abspath(f\"../features/reference/{name}.icp\")\n",
    "failed_path = os.path.abspath(f\"/Users/tshead/Downloads/failed/{name}.icp\")\n",
    "\n",
    "graph = graphcat.DynamicGraph()\n",
    "imagecat.add_task(graph, \"/load-reference\", imagecat.operator.load, path=reference_path)\n",
    "imagecat.add_task(graph, \"/load-failed\", imagecat.operator.load, path=failed_path);\n",
    "\n",
    "reference = graph.output(\"/load-reference\")\n",
    "failed = graph.output(\"/load-failed\") if os.path.exists(failed_path) else None\n",
    "\n",
    "IPython.display.display(IPython.display.HTML(f\"<h1>Reference Image</h1><p>{reference_path}</p>\"))\n",
    "print(reference.layers[\"A\"].data.min(), reference.layers[\"A\"].data.max())\n",
    "imagecat.notebook.display(reference)\n",
    "\n",
    "if failed is not None:\n",
    "    IPython.display.display(IPython.display.HTML(f\"<h1>Failed Image</h1><p>{failed_path}</p>\"))\n",
    "    imagecat.notebook.display(failed)\n",
    "    \n",
    "    IPython.display.display(IPython.display.HTML(f\"<h1>Difference</h1>\"))\n",
    "    difference = numpy.abs(failed.layers[\"A\"].data - reference.layers[\"A\"].data)\n",
    "    print(difference.min(), difference.max())\n",
    "    imagecat.notebook.display(imagecat.data.Image(layers={\"A\": imagecat.data.Layer(data=difference)}))"
   ]
  },
  {
   "cell_type": "code",
   "execution_count": null,
   "metadata": {},
   "outputs": [],
   "source": []
  }
 ],
 "metadata": {
  "kernelspec": {
   "display_name": "Python 3 (ipykernel)",
   "language": "python",
   "name": "python3"
  },
  "language_info": {
   "codemirror_mode": {
    "name": "ipython",
    "version": 3
   },
   "file_extension": ".py",
   "mimetype": "text/x-python",
   "name": "python",
   "nbconvert_exporter": "python",
   "pygments_lexer": "ipython3",
   "version": "3.8.2"
  }
 },
 "nbformat": 4,
 "nbformat_minor": 4
}
