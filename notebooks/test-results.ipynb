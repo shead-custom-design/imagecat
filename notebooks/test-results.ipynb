{
 "cells": [
  {
   "cell_type": "code",
   "execution_count": 11,
   "metadata": {},
   "outputs": [
    {
     "data": {
      "text/html": [
       "<h1>Reference Image</h1><p>/Users/tshead/src/imagecat/features/reference/composite-tl.icp</p>"
      ],
      "text/plain": [
       "<IPython.core.display.HTML object>"
      ]
     },
     "metadata": {},
     "output_type": "display_data"
    },
    {
     "data": {
      "text/html": [
       "<div style='display: flex; flex-flow: row wrap; text-align: center'><figure style='margin: 5px'><image src='data:image/png;base64,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' style='width:None; height:None; box-shadow: 4px 4px 6px rgba(0, 0, 0, 0.5)'/><figcaption>C <small>512&times;512&times;3 float16 Role.RGB</small></figcaption></figure></div>"
      ],
      "text/plain": [
       "<IPython.core.display.HTML object>"
      ]
     },
     "metadata": {},
     "output_type": "display_data"
    }
   ],
   "source": [
    "import os\n",
    "import IPython.display\n",
    "import graphcat\n",
    "import imagecat.notebook\n",
    "\n",
    "name = \"composite-tl\"\n",
    "\n",
    "reference_path = os.path.abspath(f\"../features/reference/{name}.icp\")\n",
    "failed_path = os.path.abspath(f\"../features/failed/{name}.icp\")\n",
    "\n",
    "graph = graphcat.Graph()\n",
    "imagecat.add_task(graph, \"/load-reference\", imagecat.operator.load, path=reference_path)\n",
    "imagecat.add_task(graph, \"/load-failed\", imagecat.operator.load, path=failed_path);\n",
    "\n",
    "IPython.display.display(IPython.display.HTML(f\"<h1>Reference Image</h1><p>{reference_path}</p>\"))\n",
    "try:\n",
    "    imagecat.notebook.display(graph.output(\"/load-reference\"))\n",
    "except Exception as e:\n",
    "    print(e)\n",
    "\n",
    "if os.path.exists(failed_path):\n",
    "    IPython.display.display(IPython.display.HTML(f\"<h1>Failed Image</h1><p>{failed_path}</p>\"))\n",
    "    imagecat.notebook.display(graph.output(\"/load-failed\"))"
   ]
  },
  {
   "cell_type": "code",
   "execution_count": null,
   "metadata": {},
   "outputs": [],
   "source": []
  },
  {
   "cell_type": "code",
   "execution_count": null,
   "metadata": {},
   "outputs": [],
   "source": []
  }
 ],
 "metadata": {
  "kernelspec": {
   "display_name": "Python 3",
   "language": "python",
   "name": "python3"
  },
  "language_info": {
   "codemirror_mode": {
    "name": "ipython",
    "version": 3
   },
   "file_extension": ".py",
   "mimetype": "text/x-python",
   "name": "python",
   "nbconvert_exporter": "python",
   "pygments_lexer": "ipython3",
   "version": "3.7.7"
  }
 },
 "nbformat": 4,
 "nbformat_minor": 4
}
