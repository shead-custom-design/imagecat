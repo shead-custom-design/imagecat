{
 "cells": [
  {
   "cell_type": "code",
   "execution_count": 41,
   "metadata": {},
   "outputs": [
    {
     "data": {
      "text/html": [
       "<h1>Reference Image</h1><p>/Users/tshead/src/imagecat/features/reference/offset-y.icp</p>"
      ],
      "text/plain": [
       "<IPython.core.display.HTML object>"
      ]
     },
     "metadata": {},
     "output_type": "display_data"
    },
    {
     "data": {
      "text/html": [
       "<div style='display: flex; flex-flow: row wrap; text-align: center'><figure style='margin: 5px'><image src='data:image/png;base64,iVBORw0KGgoAAAANSUhEUgAAAQAAAACACAAAAADB3ujWAAAFTklEQVR4nO3YWWxVVRTG8f/tTBlCpdiAiiCDYEBQBi2BkjZFSkICCnGOkMADURCJRvuiRNNEiTgGUOFBUCPhQTSIBFBTqDgAggpRqHqjDFJKWywtpRTafj6cc4cOp72lubfYrN9Du+/qXmfvvdrTvc8BY4wxxhhjjDHGGGOMMcYYY4wxxhhjjDHGGGOMMcYYY4wxxhhjjDHGGGOMMcYYY4wxXa9Iki5E3j8u0o4/SNIzVzOl2KoCqI68f8QF+L+oDn6JTPcsQFXk/ROiNZGYmTALKF8d+NjRW6AbFGAFUBwsgN0C0KFboNsVwHaB4JfIdM8C2C0Qef/O7AJJOSOT/TudwW6/u9+5Az8p9MPeWSNSyvYdaZ7jEY6fMCadiuL9l5pE+2YO61N1Zm9Je9nhOnoLRCzsKFwvSbm+peWSVJEHTNwvSTo0KTj1NRclST9OZpUkbWsznPpSmSRJtesGh0acuK1ektRQeI9ndoFCKgG4RZLmxaAAMza749aMYV6d267NcjrfWhyY1ZWHw1bqFT4SWsX5+9zxEgvqQ9GFXtktC5AuSTNiUIDC4MAHR9cG2yeTADJKQ9O6/GVwpR7hG8rCVqEr053x1ofF/D29slsWIFmSJsegAJIa3e/HJDW47YcAvnA/NAQnt807HFckSXVbV76ypVaSjicDPBHWtzHLM7tlAaiTNDoWBfg9LzF1sVuLzSPIWCNJWg9Mdya6+ra4lNy9oZV6hOdK0qnhAIP/kKT5QN9KSdKGOxJTc3a/gWf21Pz8TyXpbH5+/lPORMsl3RyDAlQMBFgrSfoEwOeXpO+AjyWpfg4ACVuCK/UIfyZJTpRZkrQJWChJWgKALwnvbFgsScdCE/1L0nUxKMBKADIlSWMBeE2SjgL/SFLg6SS9JjBXj3C5mjkCfCBJX4WP75HdsgCHJXVgc7/qg9B+APwAtYcBOAGQAj0GAmxy+5XvcRse4V79ml+5PzAUYHNY0CO7FVVwqT7CRdCJApwHoAygyjn/nAPwQS8ATgc6Bo4xHuGUFleOB3o26eud3Yrqjp2DOnkUVivtGgAGBMIZbYedyab5QvoDFwAGhl3cI7sVM32+6yOdPlF5FrhYAvCA+yltWtvhuhMAzU8ufoAH279oQNgyBi19uiO7YDQehooAHp/lXH9tr3bCuwFedn9pia/eD0AhQM6S9i/qyogPtPKK3151eHknV9CaFs8CTliSzjjNRyXpb2Cms2W/OSouObswtOF7hLMlSScXDiBl6JPHVNoPoM+/zjlgXELSXRsL8M6G+ZKkZclThgKklkhS45guLQC73A2tQZLqg3P1CG9xw+6h6iPA3dzcvvUT2sgmxwk3agPAFOdTfsTrisr7gPnloYtXftheeIG7ibt/xXMzAN59L9Q3/v0k72y+d/YjH48MAXyhTpGJSgFKpvkDzarZx9sLV+XsCsutvLcUgCUFDcHY6MXe2dSucBsJ+cChUgBtj3iu0Xkj9NukdXUA7LizqP1wSd6io26zbuOoHU6r/vnM7W4Jfl20po1s3lrmvAErOwnULLgEeu7niKfqi7hnB/XJGpF8psjvGX59ObB1diA+bPxNPS5X/HmgJrxzWuawPhfO7vO3zG6qd+5w37lfDjr1GjQnaWeb74yuEd9K0saunkWsX4o+dmOglT0Z4Kh3127pWZW4b+tmOM+AY7t2PhDF/wGtePEFwP/NicvpU8cD8HVuDEfveuMCr9ACTg/p6inF2KIrTdZ/Nhpv7q5t4/eElt/wTos3IV0ilv8DgJG52SPT06pL/ds/PxXbkY0xxhhjjDHGhPkPhxflGQwOQ2YAAAAASUVORK5CYII=' style='width:None; height:None; box-shadow: 4px 4px 6px rgba(0, 0, 0, 0.5)'/><figcaption>A <small>256&times;128&times;1 float16 Role.NONE</small></figcaption></figure></div>"
      ],
      "text/plain": [
       "<IPython.core.display.HTML object>"
      ]
     },
     "metadata": {},
     "output_type": "display_data"
    },
    {
     "data": {
      "text/html": [
       "<h1>Failed Image</h1><p>/Users/tshead/src/imagecat/features/failed/offset-y.icp</p>"
      ],
      "text/plain": [
       "<IPython.core.display.HTML object>"
      ]
     },
     "metadata": {},
     "output_type": "display_data"
    },
    {
     "data": {
      "text/html": [
       "<div style='display: flex; flex-flow: row wrap; text-align: center'><figure style='margin: 5px'><image src='data:image/png;base64,iVBORw0KGgoAAAANSUhEUgAAAQAAAACACAAAAADB3ujWAAAFT0lEQVR4nO3Ya0yWZRzH8e8DchCVSWJMK8s8pE3T8lA4xcEwcXPT0nVeuukLV5q5WvGmXI2tXHacWumLtFrOF1kzc2o1lOygppWulOpZeUhEwBBERIFfL+77OcDDDQ8yHpT9Py/gev5c//u6rj/cXNd9gzHGGGOMMcaYa1+RJJ2Pvn9ctB1/lKRnr2RKsVUFUB19/6gLcK2oDn6JTvcsQFX0/Xt01kRiZvxMoHxV4GN7b4FuUIDlQHGwAHYLQLtugW5XANsFgl+i0z0LYLdA9P07sgsk5oxI8u9wBrvjnn5n9/+s0A/7ZA1PLtt7uHmORzh+/Oh0Kor3XWwS7Zs5NLXq9J6StrLDtfcWiFrYUbheknJ9S8olqSIPmLBPknRwYnDqqy9Ikn6axEpJ2tpqOOXlMkmSatfeEhpxwtZ6SVJD4b2e2QUKqQTgVkmaG4MCTN/kjlszmrl1brs2y+l8W3FgVpcfCVupV/hwaBXn7nfHSyioD0UXeGVHFiBdkqbHoACFwYEPjKoNtk8kAmSUhqZ16avgSj3CN5SFrUKXpznjrQuL+Xt5ZUcWIEmSJsWgAJIa3e9HJTW47YcBvnQ/NAQnt9U7HFckSXVbVry6uVaSjiUBPBnWtzHLMzuyANRJGhWLAvyRl5CyyK3FpuFkrJYkrQOmORNddXtccu6e0Eo9wnMk6eQwgFv+lKR5QN9KSdL6OxNScna9iWf2lPz8zyTpTH5+/tPORMsl3RyDAlQMBFgjSfoUwOeXpO+BTySpfjYAPTYHV+oR/lySnCgzJWkjsECStBgAXyLe2bBIko6GJvq3pOtiUIAVAGRKksYA8LokHQH+laTA00l6TWCuHuFyNXMY+FCSvg4f3yM7sgCHJLVjc7/ig9A+APwAtYcAOA6QDD0HAmx0+5Xvdhse4d79ml+5PzAEYFNY0CO7BVVwsT7KRdCBApwDoAygyjn/nAXwQW8ATgU6Bo4xHuHkiCvHA72a9PXObkF1+85BHTwKq4V2DQADAuGM1sPOZNN8If2B8wADwy7ukd2CGT7f9dFOn055FrhQAvCg+yltauvhuuMAzU8ufoCH2r5oQNgyBi15pj27YGc8DBUBPDHTuf6a3m2EdwG84v7SEl57AIBCgJzFbV/UlREfaOUVv7Py0LIOrqAlEc8CTliSTjvNxyTpH2CGs2W/NTIuKbswtOF7hLMlSScWDCB5yFNHVdoPIPU/5xwwtkfi3RsK8M6GeZKkpUmThwCklEhS4+guLQA73Q2tQZLqg3P1CG92w+6h6mPA3dzcvvXjW8kmxwk3aj3AZOdTftTr6pT3AfPKQxev/Kit8Hx3E3f/iudkALz3fqhv/AeJ3tn84OxHPh4dDPhCnaLTKQUomeoPNKtmHWsrXJWzMyy38r5SABYXNARjoxZ5Z1O73G30yAcOlgJoW9Rz7Zw3Qr9PXFsHwPa7itoOl+QtPOI26zaM3O606l/I3OaW4LeFq1vJ5u2lzhuwshNAzfyLoOd/iXqqvqh7tlNq1vCk00V+z/Aby4AtswLxoeNu6nmp4q/9NeGd0zKHpp4/s9cfmd1Un9xhvrO/HnDqNWh24o5W3xldJb6TpA1dPYtYvxR9/MZAK3sSwBHvrt3Scypx39ZNd54Bx3TtfKAT/we04KUXAf+3xy+lTxkHwDe5MRy9640NvEILODW4q6cUYwsvN1n/mc54c3d1G7c7tPyGdyPehHSJWP4PAEbkZo9IT6su9W/74mRsRzbGGGOMMcYYY4wxxhhjjDHGGGOMMcYYY4wxxhhjjDHGGGOMMcYYY4wxxhhjjDHGmG7lfyvE5Rmi6EBmAAAAAElFTkSuQmCC' style='width:None; height:None; box-shadow: 4px 4px 6px rgba(0, 0, 0, 0.5)'/><figcaption>A <small>256&times;128&times;1 float16 Role.NONE</small></figcaption></figure></div>"
      ],
      "text/plain": [
       "<IPython.core.display.HTML object>"
      ]
     },
     "metadata": {},
     "output_type": "display_data"
    }
   ],
   "source": [
    "import os\n",
    "import IPython.display\n",
    "import graphcat\n",
    "import imagecat.notebook\n",
    "\n",
    "name = \"offset-y\"\n",
    "\n",
    "reference_path = os.path.abspath(f\"../features/reference/{name}.icp\")\n",
    "failed_path = os.path.abspath(f\"../features/failed/{name}.icp\")\n",
    "\n",
    "graph = graphcat.Graph()\n",
    "imagecat.add_operation(graph, \"/load-reference\", imagecat.load, path=reference_path)\n",
    "imagecat.add_operation(graph, \"/load-failed\", imagecat.load, path=failed_path);\n",
    "\n",
    "IPython.display.display(IPython.display.HTML(f\"<h1>Reference Image</h1><p>{reference_path}</p>\"))\n",
    "imagecat.notebook.display(graph.output(\"/load-reference\"))\n",
    "\n",
    "if os.path.exists(failed_path):\n",
    "    IPython.display.display(IPython.display.HTML(f\"<h1>Failed Image</h1><p>{failed_path}</p>\"))\n",
    "    imagecat.notebook.display(graph.output(\"/load-failed\"))"
   ]
  },
  {
   "cell_type": "code",
   "execution_count": null,
   "metadata": {},
   "outputs": [],
   "source": []
  },
  {
   "cell_type": "code",
   "execution_count": null,
   "metadata": {},
   "outputs": [],
   "source": []
  }
 ],
 "metadata": {
  "kernelspec": {
   "display_name": "Python 3",
   "language": "python",
   "name": "python3"
  },
  "language_info": {
   "codemirror_mode": {
    "name": "ipython",
    "version": 3
   },
   "file_extension": ".py",
   "mimetype": "text/x-python",
   "name": "python",
   "nbconvert_exporter": "python",
   "pygments_lexer": "ipython3",
   "version": "3.7.7"
  }
 },
 "nbformat": 4,
 "nbformat_minor": 4
}
