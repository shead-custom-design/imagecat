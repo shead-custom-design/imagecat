{
 "cells": [
  {
   "cell_type": "code",
   "execution_count": 1,
   "metadata": {},
   "outputs": [],
   "source": [
    "import logging\n",
    "logging.basicConfig(level=logging.DEBUG)\n",
    "\n",
    "import graphcat.notebook\n",
    "import imagecat.notebook"
   ]
  },
  {
   "cell_type": "code",
   "execution_count": 2,
   "metadata": {},
   "outputs": [
    {
     "data": {
      "image/svg+xml": [
       "<svg height=\"74pt\" viewBox=\"0.00 0.00 206.36 74.00\" width=\"206pt\" xmlns=\"http://www.w3.org/2000/svg\" xmlns:xlink=\"http://www.w3.org/1999/xlink\">\n",
       "<g class=\"graph\" id=\"graph0\" transform=\"scale(1 1) rotate(0) translate(4 70)\">\n",
       "<title>%3</title>\n",
       "<polygon fill=\"white\" points=\"-4,4 -4,-70 202.359,-70 202.359,4 -4,4\" stroke=\"none\"/>\n",
       "<!-- /solid -->\n",
       "<g class=\"node\" id=\"node1\"><title>/solid</title>\n",
       "<polygon fill=\"white\" points=\"115.189,-14 84.8342,-14 84.8342,-0 115.189,-0 115.189,-14\" stroke=\"#494744\"/>\n",
       "<text fill=\"#494744\" font-family=\"Helvetica,sans-Serif\" font-size=\"8.00\" text-anchor=\"middle\" x=\"100.012\" y=\"-4.6\">/solid</text>\n",
       "</g>\n",
       "<!-- /solid/values -->\n",
       "<g class=\"node\" id=\"node2\"><title>/solid/values</title>\n",
       "<polygon fill=\"white\" points=\"56.0352,-66 -0.0117237,-66 -0.0117237,-52 56.0352,-52 56.0352,-66\" stroke=\"#494744\"/>\n",
       "<text fill=\"#494744\" font-family=\"Helvetica,sans-Serif\" font-size=\"8.00\" text-anchor=\"middle\" x=\"28.0117\" y=\"-56.6\">/solid/values</text>\n",
       "</g>\n",
       "<!-- /solid/values&#45;&gt;/solid -->\n",
       "<g class=\"edge\" id=\"edge1\"><title>/solid/values-&gt;/solid</title>\n",
       "<path d=\"M36.8403,-51.869C48.176,-43.997 68.1048,-30.1576 82.5531,-20.124\" fill=\"none\" stroke=\"#494744\"/>\n",
       "<polygon fill=\"#494744\" points=\"84.8936,-22.7599 91.1109,-14.1811 80.9008,-17.0103 84.8936,-22.7599\" stroke=\"#494744\"/>\n",
       "<text font-family=\"Helvetica,sans-Serif\" font-size=\"8.00\" text-anchor=\"middle\" x=\"80.5742\" y=\"-30.6\">values</text>\n",
       "</g>\n",
       "<!-- /solid/width -->\n",
       "<g class=\"node\" id=\"node3\"><title>/solid/width</title>\n",
       "<polygon fill=\"white\" points=\"125.588,-66 74.4358,-66 74.4358,-52 125.588,-52 125.588,-66\" stroke=\"#494744\"/>\n",
       "<text fill=\"#494744\" font-family=\"Helvetica,sans-Serif\" font-size=\"8.00\" text-anchor=\"middle\" x=\"100.012\" y=\"-56.6\">/solid/width</text>\n",
       "</g>\n",
       "<!-- /solid/width&#45;&gt;/solid -->\n",
       "<g class=\"edge\" id=\"edge2\"><title>/solid/width-&gt;/solid</title>\n",
       "<path d=\"M100.012,-51.869C100.012,-45.0466 100.012,-33.742 100.012,-24.3173\" fill=\"none\" stroke=\"#494744\"/>\n",
       "<polygon fill=\"#494744\" points=\"103.512,-24.1811 100.012,-14.1811 96.5118,-24.1812 103.512,-24.1811\" stroke=\"#494744\"/>\n",
       "<text font-family=\"Helvetica,sans-Serif\" font-size=\"8.00\" text-anchor=\"middle\" x=\"109.35\" y=\"-30.6\">width</text>\n",
       "</g>\n",
       "<!-- /solid/height -->\n",
       "<g class=\"node\" id=\"node4\"><title>/solid/height</title>\n",
       "<polygon fill=\"white\" points=\"198.208,-66 143.816,-66 143.816,-52 198.208,-52 198.208,-66\" stroke=\"#494744\"/>\n",
       "<text fill=\"#494744\" font-family=\"Helvetica,sans-Serif\" font-size=\"8.00\" text-anchor=\"middle\" x=\"171.012\" y=\"-56.6\">/solid/height</text>\n",
       "</g>\n",
       "<!-- /solid/height&#45;&gt;/solid -->\n",
       "<g class=\"edge\" id=\"edge3\"><title>/solid/height-&gt;/solid</title>\n",
       "<path d=\"M162.306,-51.869C151.127,-43.997 131.475,-30.1576 117.228,-20.124\" fill=\"none\" stroke=\"#494744\"/>\n",
       "<polygon fill=\"#494744\" points=\"118.98,-17.0773 108.789,-14.1811 114.95,-22.8006 118.98,-17.0773\" stroke=\"#494744\"/>\n",
       "<text font-family=\"Helvetica,sans-Serif\" font-size=\"8.00\" text-anchor=\"middle\" x=\"150.91\" y=\"-30.6\">height</text>\n",
       "</g>\n",
       "</g>\n",
       "</svg>"
      ],
      "text/plain": [
       "<IPython.core.display.SVG object>"
      ]
     },
     "metadata": {},
     "output_type": "display_data"
    },
    {
     "name": "stderr",
     "output_type": "stream",
     "text": [
      "INFO:imagecat:Task /solid solid:\n",
      "INFO:imagecat:  components: ['r', 'g', 'b']\n",
      "INFO:imagecat:  layer: C\n",
      "INFO:imagecat:  role: Role.RGB\n",
      "INFO:imagecat:  size: [256 256]\n",
      "INFO:imagecat:  values: [1.  0.5 0. ]\n",
      "INFO:imagecat:  output: Image(C: Layer(256x256x3 float16 ['r', 'g', 'b'] Role.RGB))\n"
     ]
    },
    {
     "data": {
      "text/html": [
       "<div style='display: flex; flex-flow: row wrap; text-align: center'><figure style='margin: 5px'><image src='data:image/png;base64,iVBORw0KGgoAAAANSUhEUgAAAQAAAAEACAIAAADTED8xAAACvklEQVR4nO3TMQEAIAzAMMC/I8SBjB1NFPTpfndB1pkOgEkGIM0ApBmANAOQZgDSDECaAUgzAGkGIM0ApBmANAOQZgDSDECaAUgzAGkGIM0ApBmANAOQZgDSDECaAUgzAGkGIM0ApBmANAOQZgDSDECaAUgzAGkGIM0ApBmANAOQZgDSDECaAUgzAGkGIM0ApBmANAOQZgDSDECaAUgzAGkGIM0ApBmANAOQZgDSDECaAUgzAGkGIM0ApBmANAOQZgDSDECaAUgzAGkGIM0ApBmANAOQZgDSDECaAUgzAGkGIM0ApBmANAOQZgDSDECaAUgzAGkGIM0ApBmANAOQZgDSDECaAUgzAGkGIM0ApBmANAOQZgDSDECaAUgzAGkGIM0ApBmANAOQZgDSDECaAUgzAGkGIM0ApBmANAOQZgDSDECaAUgzAGkGIM0ApBmANAOQZgDSDECaAUgzAGkGIM0ApBmANAOQZgDSDECaAUgzAGkGIM0ApBmANAOQZgDSDECaAUgzAGkGIM0ApBmANAOQZgDSDECaAUgzAGkGIM0ApBmANAOQZgDSDECaAUgzAGkGIM0ApBmANAOQZgDSDECaAUgzAGkGIM0ApBmANAOQZgDSDECaAUgzAGkGIM0ApBmANAOQZgDSDECaAUgzAGkGIM0ApBmANAOQZgDSDECaAUgzAGkGIM0ApBmANAOQZgDSDECaAUgzAGkGIM0ApBmANAOQZgDSDECaAUgzAGkGIM0ApBmANAOQZgDSDECaAUgzAGkGIM0ApBmANAOQZgDSDECaAUgzAGkGIM0ApBmANAOQZgDSDECaAUgzAGkGIM0ApBmANAOQZgDSDECaAUgzAGkGIM0ApBmANAOQZgDSDECaAUgzAGkGIM0ApBmANAOQZgDSDECaAUgzAGkGIM0ApBmANAOQZgDSDEDaBzOXA7oiuJvvAAAAAElFTkSuQmCC' style='width:None; height:None; box-shadow: 4px 4px 6px rgba(0, 0, 0, 0.5)'/><figcaption>C <small>256&times;256&times;3 float16 Role.RGB</small></figcaption></figure></div>"
      ],
      "text/plain": [
       "<IPython.core.display.HTML object>"
      ]
     },
     "metadata": {},
     "output_type": "display_data"
    }
   ],
   "source": [
    "graph = graphcat.Graph()\n",
    "imagecat.add_operation(graph, \"/solid\", imagecat.solid, values=(1, 0.5, 0), width=128, height=128)\n",
    "graphcat.notebook.display(graph)\n",
    "imagecat.notebook.display(graph.output(\"/solid\"))"
   ]
  }
 ],
 "metadata": {
  "kernelspec": {
   "display_name": "Python 3",
   "language": "python",
   "name": "python3"
  },
  "language_info": {
   "codemirror_mode": {
    "name": "ipython",
    "version": 3
   },
   "file_extension": ".py",
   "mimetype": "text/x-python",
   "name": "python",
   "nbconvert_exporter": "python",
   "pygments_lexer": "ipython3",
   "version": "3.7.7"
  }
 },
 "nbformat": 4,
 "nbformat_minor": 4
}
