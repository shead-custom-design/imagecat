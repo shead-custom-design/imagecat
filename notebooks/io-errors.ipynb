{
 "cells": [
  {
   "cell_type": "code",
   "execution_count": 1,
   "id": "ae290092-1736-4365-ad5c-e7f7ed7856cd",
   "metadata": {},
   "outputs": [],
   "source": [
    "import logging\n",
    "logging.basicConfig(level=logging.DEBUG)\n",
    "\n",
    "import graphcat.notebook\n",
    "import imagecat"
   ]
  },
  {
   "cell_type": "code",
   "execution_count": 2,
   "id": "79ef6b0d-a281-4b25-adb1-3970cdb018b4",
   "metadata": {},
   "outputs": [
    {
     "data": {
      "image/svg+xml": [
       "<svg xmlns=\"http://www.w3.org/2000/svg\" xmlns:xlink=\"http://www.w3.org/1999/xlink\" width=\"141pt\" height=\"25pt\" viewBox=\"0.00 0.00 141.00 24.50\">\n",
       "<g id=\"graph0\" class=\"graph\" transform=\"scale(1 1) rotate(0) translate(4 20.5)\">\n",
       "<polygon fill=\"white\" stroke=\"transparent\" points=\"-4,4 -4,-20.5 137,-20.5 137,4 -4,4\"/>\n",
       "<!-- /load -->\n",
       "<g id=\"node1\" class=\"node\">\n",
       "<title>/load</title>\n",
       "<polygon fill=\"white\" stroke=\"#494744\" points=\"133,-15 103,-15 103,0 133,0 133,-15\"/>\n",
       "<text text-anchor=\"middle\" x=\"118\" y=\"-5.6\" font-family=\"Helvetica,sans-Serif\" font-size=\"8.00\" fill=\"#494744\">/load</text>\n",
       "</g>\n",
       "<!-- /load/path -->\n",
       "<g id=\"node2\" class=\"node\">\n",
       "<title>/load/path</title>\n",
       "<polygon fill=\"white\" stroke=\"#494744\" points=\"48,-15 0,-15 0,0 48,0 48,-15\"/>\n",
       "<text text-anchor=\"middle\" x=\"24\" y=\"-5.6\" font-family=\"Helvetica,sans-Serif\" font-size=\"8.00\" fill=\"#494744\">/load/path</text>\n",
       "</g>\n",
       "<!-- /load/path&#45;&gt;/load -->\n",
       "<g id=\"edge1\" class=\"edge\">\n",
       "<title>/load/path-&gt;/load</title>\n",
       "<path fill=\"none\" stroke=\"#494744\" d=\"M48.22,-7.5C61.82,-7.5 78.99,-7.5 92.77,-7.5\"/>\n",
       "<polygon fill=\"#494744\" stroke=\"#494744\" points=\"92.96,-11 102.96,-7.5 92.96,-4 92.96,-11\"/>\n",
       "<text text-anchor=\"middle\" x=\"75.5\" y=\"-10.1\" font-family=\"Helvetica,sans-Serif\" font-size=\"8.00\">  path  </text>\n",
       "</g>\n",
       "</g>\n",
       "</svg>"
      ],
      "text/plain": [
       "<IPython.core.display.SVG object>"
      ]
     },
     "metadata": {},
     "output_type": "display_data"
    }
   ],
   "source": [
    "graph = graphcat.StaticGraph()\n",
    "imagecat.add_task(graph, \"/load\", imagecat.operator.load, path=\"/foo/bar/baz.blah\")\n",
    "graphcat.notebook.display(graph)"
   ]
  },
  {
   "cell_type": "code",
   "execution_count": 3,
   "id": "48d4d435-4f6a-4976-9679-0fd2251e0c80",
   "metadata": {},
   "outputs": [
    {
     "name": "stderr",
     "output_type": "stream",
     "text": [
      "WARNING:imagecat.io:pil_loader exception: [Errno 2] No such file or directory: '/foo/bar/baz.blah'\n"
     ]
    },
    {
     "ename": "RuntimeError",
     "evalue": "Task /load could not load /foo/bar/baz.blah from disk.",
     "output_type": "error",
     "traceback": [
      "\u001b[0;31m---------------------------------------------------------------------------\u001b[0m",
      "\u001b[0;31mRuntimeError\u001b[0m                              Traceback (most recent call last)",
      "Cell \u001b[0;32mIn[3], line 1\u001b[0m\n\u001b[0;32m----> 1\u001b[0m \u001b[43mgraph\u001b[49m\u001b[38;5;241;43m.\u001b[39;49m\u001b[43moutput\u001b[49m\u001b[43m(\u001b[49m\u001b[38;5;124;43m\"\u001b[39;49m\u001b[38;5;124;43m/load\u001b[39;49m\u001b[38;5;124;43m\"\u001b[39;49m\u001b[43m)\u001b[49m\n",
      "File \u001b[0;32m~/miniconda3/envs/default/lib/python3.12/site-packages/graphcat/static.py:84\u001b[0m, in \u001b[0;36mStaticGraph.output\u001b[0;34m(self, name)\u001b[0m\n\u001b[1;32m     61\u001b[0m \u001b[38;5;250m\u001b[39m\u001b[38;5;124;03m\"\"\"Retrieve the output from a task.\u001b[39;00m\n\u001b[1;32m     62\u001b[0m \n\u001b[1;32m     63\u001b[0m \u001b[38;5;124;03mThis implicitly updates the graph, so the returned value is\u001b[39;00m\n\u001b[0;32m   (...)\u001b[0m\n\u001b[1;32m     81\u001b[0m \u001b[38;5;124;03m    Any exception raised by a task function will be re-raised by :meth:`output`.\u001b[39;00m\n\u001b[1;32m     82\u001b[0m \u001b[38;5;124;03m\"\"\"\u001b[39;00m\n\u001b[1;32m     83\u001b[0m \u001b[38;5;28mself\u001b[39m\u001b[38;5;241m.\u001b[39m_require_task_present(name)\n\u001b[0;32m---> 84\u001b[0m \u001b[38;5;28;43mself\u001b[39;49m\u001b[38;5;241;43m.\u001b[39;49m\u001b[43mupdate\u001b[49m\u001b[43m(\u001b[49m\u001b[43mname\u001b[49m\u001b[43m)\u001b[49m\n\u001b[1;32m     85\u001b[0m \u001b[38;5;28;01mreturn\u001b[39;00m \u001b[38;5;28mself\u001b[39m\u001b[38;5;241m.\u001b[39m_graph\u001b[38;5;241m.\u001b[39mnodes[name][\u001b[38;5;124m\"\u001b[39m\u001b[38;5;124moutput\u001b[39m\u001b[38;5;124m\"\u001b[39m]\n",
      "File \u001b[0;32m~/miniconda3/envs/default/lib/python3.12/site-packages/graphcat/static.py:152\u001b[0m, in \u001b[0;36mStaticGraph.update\u001b[0;34m(self, name)\u001b[0m\n\u001b[1;32m    150\u001b[0m     task[\u001b[38;5;124m\"\u001b[39m\u001b[38;5;124mstate\u001b[39m\u001b[38;5;124m\"\u001b[39m] \u001b[38;5;241m=\u001b[39m graphcat\u001b[38;5;241m.\u001b[39mcommon\u001b[38;5;241m.\u001b[39mTaskState\u001b[38;5;241m.\u001b[39mFAILED\n\u001b[1;32m    151\u001b[0m \u001b[38;5;28mself\u001b[39m\u001b[38;5;241m.\u001b[39m_on_changed\u001b[38;5;241m.\u001b[39msend(\u001b[38;5;28mself\u001b[39m)\n\u001b[0;32m--> 152\u001b[0m \u001b[38;5;28;01mraise\u001b[39;00m exception\n",
      "File \u001b[0;32m~/miniconda3/envs/default/lib/python3.12/site-packages/graphcat/static.py:134\u001b[0m, in \u001b[0;36mStaticGraph.update\u001b[0;34m(self, name)\u001b[0m\n\u001b[1;32m    132\u001b[0m \u001b[38;5;66;03m# Execute the function and store the output.\u001b[39;00m\n\u001b[1;32m    133\u001b[0m \u001b[38;5;28mself\u001b[39m\u001b[38;5;241m.\u001b[39m_on_execute\u001b[38;5;241m.\u001b[39msend(\u001b[38;5;28mself\u001b[39m, name\u001b[38;5;241m=\u001b[39mname, inputs\u001b[38;5;241m=\u001b[39minputs)\n\u001b[0;32m--> 134\u001b[0m task[\u001b[38;5;124m\"\u001b[39m\u001b[38;5;124moutput\u001b[39m\u001b[38;5;124m\"\u001b[39m] \u001b[38;5;241m=\u001b[39m \u001b[43mtask\u001b[49m\u001b[43m[\u001b[49m\u001b[38;5;124;43m\"\u001b[39;49m\u001b[38;5;124;43mfn\u001b[39;49m\u001b[38;5;124;43m\"\u001b[39;49m\u001b[43m]\u001b[49m\u001b[43m(\u001b[49m\u001b[43mgraph\u001b[49m\u001b[38;5;241;43m=\u001b[39;49m\u001b[38;5;28;43mself\u001b[39;49m\u001b[43m,\u001b[49m\u001b[43m \u001b[49m\u001b[43mname\u001b[49m\u001b[38;5;241;43m=\u001b[39;49m\u001b[43mname\u001b[49m\u001b[43m,\u001b[49m\u001b[43m \u001b[49m\u001b[43minputs\u001b[49m\u001b[38;5;241;43m=\u001b[39;49m\u001b[43minputs\u001b[49m\u001b[43m)\u001b[49m\n\u001b[1;32m    135\u001b[0m task[\u001b[38;5;124m\"\u001b[39m\u001b[38;5;124mstate\u001b[39m\u001b[38;5;124m\"\u001b[39m] \u001b[38;5;241m=\u001b[39m graphcat\u001b[38;5;241m.\u001b[39mcommon\u001b[38;5;241m.\u001b[39mTaskState\u001b[38;5;241m.\u001b[39mFINISHED\n\u001b[1;32m    136\u001b[0m \u001b[38;5;28mself\u001b[39m\u001b[38;5;241m.\u001b[39m_on_finished\u001b[38;5;241m.\u001b[39msend(\u001b[38;5;28mself\u001b[39m, name\u001b[38;5;241m=\u001b[39mname, output\u001b[38;5;241m=\u001b[39mtask[\u001b[38;5;124m\"\u001b[39m\u001b[38;5;124moutput\u001b[39m\u001b[38;5;124m\"\u001b[39m])\n",
      "File \u001b[0;32m~/src/imagecat/imagecat/operator/__init__.py:100\u001b[0m, in \u001b[0;36mload\u001b[0;34m(graph, name, inputs)\u001b[0m\n\u001b[1;32m     98\u001b[0m     \u001b[38;5;28;01mexcept\u001b[39;00m \u001b[38;5;167;01mException\u001b[39;00m \u001b[38;5;28;01mas\u001b[39;00m e:\n\u001b[1;32m     99\u001b[0m         imagecat\u001b[38;5;241m.\u001b[39moperator\u001b[38;5;241m.\u001b[39mutil\u001b[38;5;241m.\u001b[39mlog_result(log, name, \u001b[38;5;124m\"\u001b[39m\u001b[38;5;124mload\u001b[39m\u001b[38;5;124m\"\u001b[39m, \u001b[38;5;28mstr\u001b[39m(e))\n\u001b[0;32m--> 100\u001b[0m \u001b[38;5;28;01mraise\u001b[39;00m \u001b[38;5;167;01mRuntimeError\u001b[39;00m(\u001b[38;5;124mf\u001b[39m\u001b[38;5;124m\"\u001b[39m\u001b[38;5;124mTask \u001b[39m\u001b[38;5;132;01m{\u001b[39;00mname\u001b[38;5;132;01m}\u001b[39;00m\u001b[38;5;124m could not load \u001b[39m\u001b[38;5;132;01m{\u001b[39;00mpath\u001b[38;5;132;01m}\u001b[39;00m\u001b[38;5;124m from disk.\u001b[39m\u001b[38;5;124m\"\u001b[39m)\n",
      "\u001b[0;31mRuntimeError\u001b[0m: Task /load could not load /foo/bar/baz.blah from disk."
     ]
    }
   ],
   "source": [
    "graph.output(\"/load\")"
   ]
  }
 ],
 "metadata": {
  "kernelspec": {
   "display_name": "Python 3 (ipykernel)",
   "language": "python",
   "name": "python3"
  },
  "language_info": {
   "codemirror_mode": {
    "name": "ipython",
    "version": 3
   },
   "file_extension": ".py",
   "mimetype": "text/x-python",
   "name": "python",
   "nbconvert_exporter": "python",
   "pygments_lexer": "ipython3",
   "version": "3.12.2"
  }
 },
 "nbformat": 4,
 "nbformat_minor": 5
}
