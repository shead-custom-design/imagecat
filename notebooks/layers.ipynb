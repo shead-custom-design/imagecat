{
 "cells": [
  {
   "cell_type": "code",
   "execution_count": 1,
   "metadata": {},
   "outputs": [],
   "source": [
    "import collections\n",
    "import pprint"
   ]
  },
  {
   "cell_type": "code",
   "execution_count": 2,
   "metadata": {},
   "outputs": [],
   "source": [
    "channels = [\n",
    "    \"Pz\",\n",
    "    \"C.r\",\n",
    "    \"C.b\",\n",
    "    \"C.g\",\n",
    "    \"light1.specular.G\",\n",
    "    \"light1.specular.B\",\n",
    "    \"light1.specular.R\",\n",
    "    \"B\",\n",
    "    \"G\",\n",
    "    \"R\",\n",
    "    \"A\",\n",
    "    \"light1.B\",\n",
    "    \"light1.R\",\n",
    "    \"light1.g\",\n",
    "]"
   ]
  },
  {
   "cell_type": "code",
   "execution_count": 3,
   "metadata": {},
   "outputs": [
    {
     "data": {
      "text/plain": [
       "[('', 'Pz', 'Pz'),\n",
       " ('C', 'r', 'C.r'),\n",
       " ('C', 'b', 'C.b'),\n",
       " ('C', 'g', 'C.g'),\n",
       " ('light1.specular', 'G', 'light1.specular.G'),\n",
       " ('light1.specular', 'B', 'light1.specular.B'),\n",
       " ('light1.specular', 'R', 'light1.specular.R'),\n",
       " ('', 'B', 'B'),\n",
       " ('', 'G', 'G'),\n",
       " ('', 'R', 'R'),\n",
       " ('', 'A', 'A'),\n",
       " ('light1', 'B', 'light1.B'),\n",
       " ('light1', 'R', 'light1.R'),\n",
       " ('light1', 'g', 'light1.g')]"
      ]
     },
     "execution_count": 3,
     "metadata": {},
     "output_type": "execute_result"
    }
   ],
   "source": [
    "layers = [channel.rsplit(\".\", 1) for channel in channels]\n",
    "layers = [layer if len(layer) > 1 else [\"\", layer[0]] for layer in layers]\n",
    "layers = [(layer, component, channel) for (layer, component), channel in zip(layers, channels)]\n",
    "layers"
   ]
  },
  {
   "cell_type": "code",
   "execution_count": 4,
   "metadata": {},
   "outputs": [
    {
     "data": {
      "text/plain": [
       "defaultdict(list,\n",
       "            {'': [('Pz', 'Pz'),\n",
       "              ('B', 'B'),\n",
       "              ('G', 'G'),\n",
       "              ('R', 'R'),\n",
       "              ('A', 'A')],\n",
       "             'C': [('r', 'C.r'), ('b', 'C.b'), ('g', 'C.g')],\n",
       "             'light1.specular': [('G', 'light1.specular.G'),\n",
       "              ('B', 'light1.specular.B'),\n",
       "              ('R', 'light1.specular.R')],\n",
       "             'light1': [('B', 'light1.B'),\n",
       "              ('R', 'light1.R'),\n",
       "              ('g', 'light1.g')]})"
      ]
     },
     "execution_count": 4,
     "metadata": {},
     "output_type": "execute_result"
    }
   ],
   "source": [
    "groups = collections.defaultdict(list)\n",
    "for layer, component, channel in layers:\n",
    "    groups[layer].append((component, channel))\n",
    "groups"
   ]
  },
  {
   "cell_type": "code",
   "execution_count": 5,
   "metadata": {},
   "outputs": [
    {
     "data": {
      "text/plain": [
       "[('', [('Pz', 'Pz'), ('B', 'B'), ('G', 'G'), ('R', 'R'), ('A', 'A')]),\n",
       " ('C', [('r', 'C.r'), ('b', 'C.b'), ('g', 'C.g')]),\n",
       " ('light1.specular',\n",
       "  [('G', 'light1.specular.G'),\n",
       "   ('B', 'light1.specular.B'),\n",
       "   ('R', 'light1.specular.R')]),\n",
       " ('light1', [('B', 'light1.B'), ('R', 'light1.R'), ('g', 'light1.g')])]"
      ]
     },
     "execution_count": 5,
     "metadata": {},
     "output_type": "execute_result"
    }
   ],
   "source": [
    "layers = list(groups.items())\n",
    "layers"
   ]
  },
  {
   "cell_type": "code",
   "execution_count": 6,
   "metadata": {},
   "outputs": [],
   "source": [
    "def split_layers(layers):\n",
    "    for layer, channels in layers:\n",
    "        if layer:\n",
    "            yield (layer, channels)\n",
    "            continue\n",
    "        ci_components = [component.lower() for component, channel in channels]\n",
    "        if \"r\" in ci_components and \"g\" in ci_components and \"b\" in ci_components:\n",
    "            yield (layer, [channels[ci_components.index(\"r\")], channels[ci_components.index(\"g\")], channels[ci_components.index(\"b\")]])\n",
    "        channels = [channel for channel, ci_component in zip(channels, ci_components) if ci_component not in \"rgb\"]\n",
    "        for channel in channels:\n",
    "            yield layer, [channel]"
   ]
  },
  {
   "cell_type": "code",
   "execution_count": 7,
   "metadata": {},
   "outputs": [
    {
     "name": "stdout",
     "output_type": "stream",
     "text": [
      "                    [('R', 'R'), ('G', 'G'), ('B', 'B')]\n",
      "                    [('Pz', 'Pz')]\n",
      "                    [('A', 'A')]\n",
      "C                   [('r', 'C.r'), ('b', 'C.b'), ('g', 'C.g')]\n",
      "light1.specular     [('G', 'light1.specular.G'), ('B', 'light1.specular.B'), ('R', 'light1.specular.R')]\n",
      "light1              [('B', 'light1.B'), ('R', 'light1.R'), ('g', 'light1.g')]\n"
     ]
    }
   ],
   "source": [
    "layers = list(split_layers(layers))\n",
    "for layer, channels in layers:\n",
    "    print(f\"{layer:20}{channels}\")"
   ]
  },
  {
   "cell_type": "code",
   "execution_count": 8,
   "metadata": {},
   "outputs": [],
   "source": [
    "def organize_layers(layers):\n",
    "    for layer, channels in layers:\n",
    "        ci_components = [component.lower() for component, channel in channels]\n",
    "        for collection in [\"rgb\", \"hsv\", \"hsb\", \"xy\", \"xyz\", \"uv\", \"uvw\"]:\n",
    "            if sorted(ci_components) == sorted(collection):\n",
    "                channels = [channels[ci_components.index(component)] for component in collection]            \n",
    "        yield layer, channels"
   ]
  },
  {
   "cell_type": "code",
   "execution_count": 9,
   "metadata": {},
   "outputs": [
    {
     "name": "stdout",
     "output_type": "stream",
     "text": [
      "                    [('R', 'R'), ('G', 'G'), ('B', 'B')]\n",
      "                    [('Pz', 'Pz')]\n",
      "                    [('A', 'A')]\n",
      "C                   [('r', 'C.r'), ('g', 'C.g'), ('b', 'C.b')]\n",
      "light1.specular     [('R', 'light1.specular.R'), ('G', 'light1.specular.G'), ('B', 'light1.specular.B')]\n",
      "light1              [('R', 'light1.R'), ('g', 'light1.g'), ('B', 'light1.B')]\n"
     ]
    }
   ],
   "source": [
    "layers = list(organize_layers(layers))\n",
    "for layer, channels in layers:\n",
    "    print(f\"{layer:20}{channels}\")"
   ]
  },
  {
   "cell_type": "code",
   "execution_count": 10,
   "metadata": {},
   "outputs": [],
   "source": [
    "def categorize_layers(layers):\n",
    "    for layer, channels in layers:\n",
    "        ci_components = [component.lower() for component, channel in channels]\n",
    "        print(ci_components)\n",
    "        if ci_components == [\"r\", \"g\", \"b\"]:\n",
    "            yield layer, channels, \"rgb\"\n",
    "        else:\n",
    "            yield layer, channels, \"\""
   ]
  },
  {
   "cell_type": "code",
   "execution_count": 11,
   "metadata": {},
   "outputs": [
    {
     "name": "stdout",
     "output_type": "stream",
     "text": [
      "['r', 'g', 'b']\n",
      "['pz']\n",
      "['a']\n",
      "['r', 'g', 'b']\n",
      "['r', 'g', 'b']\n",
      "['r', 'g', 'b']\n"
     ]
    }
   ],
   "source": [
    "layers = list(categorize_layers(layers))"
   ]
  },
  {
   "cell_type": "code",
   "execution_count": 14,
   "metadata": {},
   "outputs": [
    {
     "name": "stdout",
     "output_type": "stream",
     "text": [
      "                    [('R', 'R'), ('G', 'G'), ('B', 'B')]                                                 rgb\n",
      "                    [('Pz', 'Pz')]                                                                       \n",
      "                    [('A', 'A')]                                                                         \n",
      "C                   [('r', 'C.r'), ('g', 'C.g'), ('b', 'C.b')]                                           rgb\n",
      "light1.specular     [('R', 'light1.specular.R'), ('G', 'light1.specular.G'), ('B', 'light1.specular.B')] rgb\n",
      "light1              [('R', 'light1.R'), ('g', 'light1.g'), ('B', 'light1.B')]                            rgb\n"
     ]
    }
   ],
   "source": [
    "for layer, channels, category in layers:\n",
    "    print(f\"{layer:20}{channels!r:85}{category}\")"
   ]
  },
  {
   "cell_type": "code",
   "execution_count": null,
   "metadata": {},
   "outputs": [],
   "source": []
  }
 ],
 "metadata": {
  "kernelspec": {
   "display_name": "Python 3",
   "language": "python",
   "name": "python3"
  },
  "language_info": {
   "codemirror_mode": {
    "name": "ipython",
    "version": 3
   },
   "file_extension": ".py",
   "mimetype": "text/x-python",
   "name": "python",
   "nbconvert_exporter": "python",
   "pygments_lexer": "ipython3",
   "version": "3.7.7"
  }
 },
 "nbformat": 4,
 "nbformat_minor": 4
}
