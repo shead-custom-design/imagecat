{
 "cells": [
  {
   "cell_type": "code",
   "execution_count": 1,
   "metadata": {},
   "outputs": [],
   "source": [
    "import logging\n",
    "logging.basicConfig(level=logging.DEBUG)\n",
    "\n",
    "import graphcat.notebook\n",
    "import imagecat.notebook"
   ]
  },
  {
   "cell_type": "code",
   "execution_count": 2,
   "metadata": {},
   "outputs": [
    {
     "data": {
      "image/svg+xml": [
       "<svg height=\"178pt\" viewBox=\"0.00 0.00 573.47 178.00\" width=\"573pt\" xmlns=\"http://www.w3.org/2000/svg\" xmlns:xlink=\"http://www.w3.org/1999/xlink\">\n",
       "<g class=\"graph\" id=\"graph0\" transform=\"scale(1 1) rotate(0) translate(4 174)\">\n",
       "<title>%3</title>\n",
       "<polygon fill=\"white\" points=\"-4,4 -4,-174 569.473,-174 569.473,4 -4,4\" stroke=\"none\"/>\n",
       "<!-- /solid -->\n",
       "<g class=\"node\" id=\"node1\"><title>/solid</title>\n",
       "<polygon fill=\"white\" points=\"411.414,-118 381.059,-118 381.059,-104 411.414,-104 411.414,-118\" stroke=\"#494744\"/>\n",
       "<text fill=\"#494744\" font-family=\"Helvetica,sans-Serif\" font-size=\"8.00\" text-anchor=\"middle\" x=\"396.236\" y=\"-108.6\">/solid</text>\n",
       "</g>\n",
       "<!-- /merge -->\n",
       "<g class=\"node\" id=\"node2\"><title>/merge</title>\n",
       "<polygon fill=\"white\" points=\"329.635,-66 292.838,-66 292.838,-52 329.635,-52 329.635,-66\" stroke=\"#494744\"/>\n",
       "<text fill=\"#494744\" font-family=\"Helvetica,sans-Serif\" font-size=\"8.00\" text-anchor=\"middle\" x=\"311.236\" y=\"-56.6\">/merge</text>\n",
       "</g>\n",
       "<!-- /solid&#45;&gt;/merge -->\n",
       "<g class=\"edge\" id=\"edge1\"><title>/solid-&gt;/merge</title>\n",
       "<path d=\"M385.814,-103.869C371.974,-95.7281 347.285,-81.2051 330.122,-71.1095\" fill=\"none\" stroke=\"#494744\"/>\n",
       "<polygon fill=\"#494744\" points=\"331.873,-68.0784 321.479,-66.025 328.324,-74.112 331.873,-68.0784\" stroke=\"#494744\"/>\n",
       "<text font-family=\"Helvetica,sans-Serif\" font-size=\"8.00\" text-anchor=\"middle\" x=\"360.461\" y=\"-82.6\">0</text>\n",
       "</g>\n",
       "<!-- /save -->\n",
       "<g class=\"node\" id=\"node12\"><title>/save</title>\n",
       "<polygon fill=\"white\" points=\"290.858,-14 259.615,-14 259.615,-0 290.858,-0 290.858,-14\" stroke=\"#494744\"/>\n",
       "<text fill=\"#494744\" font-family=\"Helvetica,sans-Serif\" font-size=\"8.00\" text-anchor=\"middle\" x=\"275.236\" y=\"-4.6\">/save</text>\n",
       "</g>\n",
       "<!-- /merge&#45;&gt;/save -->\n",
       "<g class=\"edge\" id=\"edge11\"><title>/merge-&gt;/save</title>\n",
       "<path d=\"M306.822,-51.869C301.586,-44.5968 292.683,-32.2318 285.661,-22.4794\" fill=\"none\" stroke=\"#494744\"/>\n",
       "<polygon fill=\"#494744\" points=\"288.37,-20.2514 279.687,-14.1811 282.689,-24.3416 288.37,-20.2514\" stroke=\"#494744\"/>\n",
       "<text font-family=\"Helvetica,sans-Serif\" font-size=\"8.00\" text-anchor=\"middle\" x=\"306.131\" y=\"-30.6\">image</text>\n",
       "</g>\n",
       "<!-- /solid/value -->\n",
       "<g class=\"node\" id=\"node3\"><title>/solid/value</title>\n",
       "<polygon fill=\"white\" points=\"352.26,-170 300.213,-170 300.213,-156 352.26,-156 352.26,-170\" stroke=\"#494744\"/>\n",
       "<text fill=\"#494744\" font-family=\"Helvetica,sans-Serif\" font-size=\"8.00\" text-anchor=\"middle\" x=\"326.236\" y=\"-160.6\">/solid/value</text>\n",
       "</g>\n",
       "<!-- /solid/value&#45;&gt;/solid -->\n",
       "<g class=\"edge\" id=\"edge2\"><title>/solid/value-&gt;/solid</title>\n",
       "<path d=\"M334.82,-155.869C345.841,-147.997 365.216,-134.158 379.263,-124.124\" fill=\"none\" stroke=\"#494744\"/>\n",
       "<polygon fill=\"#494744\" points=\"381.48,-126.842 387.583,-118.181 377.411,-121.145 381.48,-126.842\" stroke=\"#494744\"/>\n",
       "<text font-family=\"Helvetica,sans-Serif\" font-size=\"8.00\" text-anchor=\"middle\" x=\"374.799\" y=\"-134.6\">value</text>\n",
       "</g>\n",
       "<!-- /solid/width -->\n",
       "<g class=\"node\" id=\"node4\"><title>/solid/width</title>\n",
       "<polygon fill=\"white\" points=\"421.812,-170 370.66,-170 370.66,-156 421.812,-156 421.812,-170\" stroke=\"#494744\"/>\n",
       "<text fill=\"#494744\" font-family=\"Helvetica,sans-Serif\" font-size=\"8.00\" text-anchor=\"middle\" x=\"396.236\" y=\"-160.6\">/solid/width</text>\n",
       "</g>\n",
       "<!-- /solid/width&#45;&gt;/solid -->\n",
       "<g class=\"edge\" id=\"edge3\"><title>/solid/width-&gt;/solid</title>\n",
       "<path d=\"M396.236,-155.869C396.236,-149.047 396.236,-137.742 396.236,-128.317\" fill=\"none\" stroke=\"#494744\"/>\n",
       "<polygon fill=\"#494744\" points=\"399.736,-128.181 396.236,-118.181 392.736,-128.181 399.736,-128.181\" stroke=\"#494744\"/>\n",
       "<text font-family=\"Helvetica,sans-Serif\" font-size=\"8.00\" text-anchor=\"middle\" x=\"405.574\" y=\"-134.6\">width</text>\n",
       "</g>\n",
       "<!-- /solid/height -->\n",
       "<g class=\"node\" id=\"node5\"><title>/solid/height</title>\n",
       "<polygon fill=\"white\" points=\"494.432,-170 440.04,-170 440.04,-156 494.432,-156 494.432,-170\" stroke=\"#494744\"/>\n",
       "<text fill=\"#494744\" font-family=\"Helvetica,sans-Serif\" font-size=\"8.00\" text-anchor=\"middle\" x=\"467.236\" y=\"-160.6\">/solid/height</text>\n",
       "</g>\n",
       "<!-- /solid/height&#45;&gt;/solid -->\n",
       "<g class=\"edge\" id=\"edge4\"><title>/solid/height-&gt;/solid</title>\n",
       "<path d=\"M458.53,-155.869C447.352,-147.997 427.7,-134.158 413.452,-124.124\" fill=\"none\" stroke=\"#494744\"/>\n",
       "<polygon fill=\"#494744\" points=\"415.205,-121.077 405.014,-118.181 411.174,-126.801 415.205,-121.077\" stroke=\"#494744\"/>\n",
       "<text font-family=\"Helvetica,sans-Serif\" font-size=\"8.00\" text-anchor=\"middle\" x=\"446.135\" y=\"-134.6\">height</text>\n",
       "</g>\n",
       "<!-- /solid/plane -->\n",
       "<g class=\"node\" id=\"node6\"><title>/solid/plane</title>\n",
       "<polygon fill=\"white\" points=\"565.711,-170 512.762,-170 512.762,-156 565.711,-156 565.711,-170\" stroke=\"#494744\"/>\n",
       "<text fill=\"#494744\" font-family=\"Helvetica,sans-Serif\" font-size=\"8.00\" text-anchor=\"middle\" x=\"539.236\" y=\"-160.6\">/solid/plane</text>\n",
       "</g>\n",
       "<!-- /solid/plane&#45;&gt;/solid -->\n",
       "<g class=\"edge\" id=\"edge5\"><title>/solid/plane-&gt;/solid</title>\n",
       "<path d=\"M523.474,-155.91C507.77,-149.897 482.936,-140.535 461.236,-133 448.153,-128.457 433.479,-123.688 421.388,-119.845\" fill=\"none\" stroke=\"#494744\"/>\n",
       "<polygon fill=\"#494744\" points=\"422.123,-116.407 411.533,-116.736 420.017,-123.083 422.123,-116.407\" stroke=\"#494744\"/>\n",
       "<text font-family=\"Helvetica,sans-Serif\" font-size=\"8.00\" text-anchor=\"middle\" x=\"492.023\" y=\"-134.6\">plane</text>\n",
       "</g>\n",
       "<!-- /solid1 -->\n",
       "<g class=\"node\" id=\"node7\"><title>/solid1</title>\n",
       "<polygon fill=\"white\" points=\"195.862,-118 160.611,-118 160.611,-104 195.862,-104 195.862,-118\" stroke=\"#494744\"/>\n",
       "<text fill=\"#494744\" font-family=\"Helvetica,sans-Serif\" font-size=\"8.00\" text-anchor=\"middle\" x=\"178.236\" y=\"-108.6\">/solid1</text>\n",
       "</g>\n",
       "<!-- /solid1&#45;&gt;/merge -->\n",
       "<g class=\"edge\" id=\"edge6\"><title>/solid1-&gt;/merge</title>\n",
       "<path d=\"M194.279,-103.969C216.947,-95.4473 258.588,-79.7925 285.579,-69.6455\" fill=\"none\" stroke=\"#494744\"/>\n",
       "<polygon fill=\"#494744\" points=\"287.008,-72.8477 295.137,-66.0526 284.544,-66.2954 287.008,-72.8477\" stroke=\"#494744\"/>\n",
       "<text font-family=\"Helvetica,sans-Serif\" font-size=\"8.00\" text-anchor=\"middle\" x=\"254.461\" y=\"-82.6\">1</text>\n",
       "</g>\n",
       "<!-- /solid1/value -->\n",
       "<g class=\"node\" id=\"node8\"><title>/solid1/value</title>\n",
       "<polygon fill=\"white\" points=\"56.711,-170 -0.238323,-170 -0.238323,-156 56.711,-156 56.711,-170\" stroke=\"#494744\"/>\n",
       "<text fill=\"#494744\" font-family=\"Helvetica,sans-Serif\" font-size=\"8.00\" text-anchor=\"middle\" x=\"28.2363\" y=\"-160.6\">/solid1/value</text>\n",
       "</g>\n",
       "<!-- /solid1/value&#45;&gt;/solid1 -->\n",
       "<g class=\"edge\" id=\"edge7\"><title>/solid1/value-&gt;/solid1</title>\n",
       "<path d=\"M45.7622,-155.913C62.9036,-149.983 89.7617,-140.753 113.111,-133 125.494,-128.889 139.238,-124.44 150.897,-120.7\" fill=\"none\" stroke=\"#494744\"/>\n",
       "<polygon fill=\"#494744\" points=\"152.061,-124.002 160.519,-117.622 149.928,-117.335 152.061,-124.002\" stroke=\"#494744\"/>\n",
       "<text font-family=\"Helvetica,sans-Serif\" font-size=\"8.00\" text-anchor=\"middle\" x=\"122.799\" y=\"-134.6\">value</text>\n",
       "</g>\n",
       "<!-- /solid1/width -->\n",
       "<g class=\"node\" id=\"node9\"><title>/solid1/width</title>\n",
       "<polygon fill=\"white\" points=\"130.26,-170 74.2129,-170 74.2129,-156 130.26,-156 130.26,-170\" stroke=\"#494744\"/>\n",
       "<text fill=\"#494744\" font-family=\"Helvetica,sans-Serif\" font-size=\"8.00\" text-anchor=\"middle\" x=\"102.236\" y=\"-160.6\">/solid1/width</text>\n",
       "</g>\n",
       "<!-- /solid1/width&#45;&gt;/solid1 -->\n",
       "<g class=\"edge\" id=\"edge8\"><title>/solid1/width-&gt;/solid1</title>\n",
       "<path d=\"M111.555,-155.869C123.635,-147.922 144.958,-133.893 160.242,-123.838\" fill=\"none\" stroke=\"#494744\"/>\n",
       "<polygon fill=\"#494744\" points=\"162.41,-126.601 168.841,-118.181 158.563,-120.753 162.41,-126.601\" stroke=\"#494744\"/>\n",
       "<text font-family=\"Helvetica,sans-Serif\" font-size=\"8.00\" text-anchor=\"middle\" x=\"154.574\" y=\"-134.6\">width</text>\n",
       "</g>\n",
       "<!-- /solid1/height -->\n",
       "<g class=\"node\" id=\"node10\"><title>/solid1/height</title>\n",
       "<polygon fill=\"white\" points=\"207.881,-170 148.592,-170 148.592,-156 207.881,-156 207.881,-170\" stroke=\"#494744\"/>\n",
       "<text fill=\"#494744\" font-family=\"Helvetica,sans-Serif\" font-size=\"8.00\" text-anchor=\"middle\" x=\"178.236\" y=\"-160.6\">/solid1/height</text>\n",
       "</g>\n",
       "<!-- /solid1/height&#45;&gt;/solid1 -->\n",
       "<g class=\"edge\" id=\"edge9\"><title>/solid1/height-&gt;/solid1</title>\n",
       "<path d=\"M178.236,-155.869C178.236,-149.047 178.236,-137.742 178.236,-128.317\" fill=\"none\" stroke=\"#494744\"/>\n",
       "<polygon fill=\"#494744\" points=\"181.736,-128.181 178.236,-118.181 174.736,-128.181 181.736,-128.181\" stroke=\"#494744\"/>\n",
       "<text font-family=\"Helvetica,sans-Serif\" font-size=\"8.00\" text-anchor=\"middle\" x=\"189.135\" y=\"-134.6\">height</text>\n",
       "</g>\n",
       "<!-- /solid1/plane -->\n",
       "<g class=\"node\" id=\"node11\"><title>/solid1/plane</title>\n",
       "<polygon fill=\"white\" points=\"282.658,-170 225.814,-170 225.814,-156 282.658,-156 282.658,-170\" stroke=\"#494744\"/>\n",
       "<text fill=\"#494744\" font-family=\"Helvetica,sans-Serif\" font-size=\"8.00\" text-anchor=\"middle\" x=\"254.236\" y=\"-160.6\">/solid1/plane</text>\n",
       "</g>\n",
       "<!-- /solid1/plane&#45;&gt;/solid1 -->\n",
       "<g class=\"edge\" id=\"edge10\"><title>/solid1/plane-&gt;/solid1</title>\n",
       "<path d=\"M244.917,-155.869C232.838,-147.922 211.514,-133.893 196.231,-123.838\" fill=\"none\" stroke=\"#494744\"/>\n",
       "<polygon fill=\"#494744\" points=\"197.91,-120.753 187.632,-118.181 194.062,-126.601 197.91,-120.753\" stroke=\"#494744\"/>\n",
       "<text font-family=\"Helvetica,sans-Serif\" font-size=\"8.00\" text-anchor=\"middle\" x=\"231.023\" y=\"-134.6\">plane</text>\n",
       "</g>\n",
       "<!-- /save/path -->\n",
       "<g class=\"node\" id=\"node13\"><title>/save/path</title>\n",
       "<polygon fill=\"white\" points=\"274.65,-66 225.822,-66 225.822,-52 274.65,-52 274.65,-66\" stroke=\"#494744\"/>\n",
       "<text fill=\"#494744\" font-family=\"Helvetica,sans-Serif\" font-size=\"8.00\" text-anchor=\"middle\" x=\"250.236\" y=\"-56.6\">/save/path</text>\n",
       "</g>\n",
       "<!-- /save/path&#45;&gt;/save -->\n",
       "<g class=\"edge\" id=\"edge12\"><title>/save/path-&gt;/save</title>\n",
       "<path d=\"M252.665,-51.6656C255.014,-45.7143 258.78,-36.6103 262.666,-29 263.652,-27.0701 264.743,-25.0756 265.86,-23.119\" fill=\"none\" stroke=\"#494744\"/>\n",
       "<polygon fill=\"#494744\" points=\"269.115,-24.4974 271.272,-14.1244 263.117,-20.8883 269.115,-24.4974\" stroke=\"#494744\"/>\n",
       "<text font-family=\"Helvetica,sans-Serif\" font-size=\"8.00\" text-anchor=\"middle\" x=\"270.021\" y=\"-30.6\">path</text>\n",
       "</g>\n",
       "</g>\n",
       "</svg>"
      ],
      "text/plain": [
       "<IPython.core.display.SVG object>"
      ]
     },
     "metadata": {},
     "output_type": "display_data"
    },
    {
     "name": "stderr",
     "output_type": "stream",
     "text": [
      "INFO:imagecat:Task /solid solid C width 128 height 128 value [1.  0.5 0. ] result C(128x128x3 float16)\n",
      "INFO:imagecat:Task /solid1 solid A width 128 height 128 value [0.5] result A(128x128x1 float16)\n",
      "INFO:imagecat:Task /merge merge result C(128x128x3 float16) A(128x128x1 float16)\n"
     ]
    },
    {
     "data": {
      "text/html": [
       "<div style='display: flex; flex-flow: row wrap; text-align: center'><figure style='margin: 5px'><image src='data:image/png;base64,iVBORw0KGgoAAAANSUhEUgAAAIAAAACACAAAAADmVT4XAAAAXklEQVR4nO3OMQEAAAjDsIF/R5hDxp7UQDOXblv+AwAAAAAAAAAAAAAAAAAAAAAAAAAAAAAAAAAAAAAAAAAAAAAAAAAAAAAAAAAAAAAAAAAAAAAAAAAAAAAAAAAA5AGh5gG7HHTKKQAAAABJRU5ErkJggg==' style='width:None; height:None'/><figcaption>A <small>128&times;128&times;1 float16</small></figcaption></figure><figure style='margin: 5px'><image src='data:image/png;base64,iVBORw0KGgoAAAANSUhEUgAAAIAAAACACAIAAABMXPacAAABLklEQVR4nO3RQQ0AIBDAMMC/oxMHMvpgVbBk+84KdHTA7xqANQBrANYArAFYA7AGYA3AGoA1AGsA1gCsAVgDsAZgDcAagDUAawDWAKwBWAOwBmANwBqANQBrANYArAFYA7AGYA3AGoA1AGsA1gCsAVgDsAZgDcAagDUAawDWAKwBWAOwBmANwBqANQBrANYArAFYA7AGYA3AGoA1AGsA1gCsAVgDsAZgDcAagDUAawDWAKwBWAOwBmANwBqANQBrANYArAFYA7AGYA3AGoA1AGsA1gCsAVgDsAZgDcAagDUAawDWAKwBWAOwBmANwBqANQBrANYArAFYA7AGYA3AGoA1AGsA1gCsAVgDsAZgDcAagDUAawDWAKwBWAOwBmANwBqANQBrANYArAFYA7AHdC4CujQNWm4AAAAASUVORK5CYII=' style='width:None; height:None'/><figcaption>C <small>128&times;128&times;3 float16</small></figcaption></figure></div>"
      ],
      "text/plain": [
       "<IPython.core.display.HTML object>"
      ]
     },
     "metadata": {},
     "output_type": "display_data"
    }
   ],
   "source": [
    "graph = graphcat.Graph()\n",
    "imagecat.add_operation(graph, \"/solid\", imagecat.solid, value=(1, 0.5, 0), width=128, height=128, plane=\"C\")\n",
    "imagecat.add_operation(graph, \"/solid\", imagecat.solid, value=(0.5,), width=128, height=128, plane=\"A\")\n",
    "imagecat.add_operation(graph, \"/merge\", imagecat.merge)\n",
    "imagecat.add_operation(graph, \"/save\", imagecat.save, path=\"test.exr\")\n",
    "graph.set_links(\"/solid\", (\"/merge\", 0))\n",
    "graph.set_links(\"/solid1\", (\"/merge\", 1))\n",
    "graph.set_links(\"/merge\", (\"/save\", \"image\"))\n",
    "\n",
    "graphcat.notebook.display(graph)\n",
    "imagecat.notebook.display(graph.output(\"/merge\"))"
   ]
  },
  {
   "cell_type": "code",
   "execution_count": 3,
   "metadata": {},
   "outputs": [
    {
     "name": "stderr",
     "output_type": "stream",
     "text": [
      "DEBUG:imagecat.io:{'channels': {'C.r': HALF (1, 1), 'C.g': HALF (1, 1), 'C.b': HALF (1, 1), 'A': HALF (1, 1)}, 'compression': ZIP_COMPRESSION, 'dataWindow': (0, 0) - (127, 127), 'displayWindow': (0, 0) - (127, 127), 'lineOrder': INCREASING_Y, 'pixelAspectRatio': 1.0, 'screenWindowCenter': (0.0, 0.0), 'screenWindowWidth': 1.0}\n"
     ]
    }
   ],
   "source": [
    "graph.update(\"/save\")"
   ]
  },
  {
   "cell_type": "code",
   "execution_count": null,
   "metadata": {},
   "outputs": [],
   "source": []
  },
  {
   "cell_type": "code",
   "execution_count": null,
   "metadata": {},
   "outputs": [],
   "source": []
  }
 ],
 "metadata": {
  "kernelspec": {
   "display_name": "Python 3",
   "language": "python",
   "name": "python3"
  },
  "language_info": {
   "codemirror_mode": {
    "name": "ipython",
    "version": 3
   },
   "file_extension": ".py",
   "mimetype": "text/x-python",
   "name": "python",
   "nbconvert_exporter": "python",
   "pygments_lexer": "ipython3",
   "version": "3.7.7"
  }
 },
 "nbformat": 4,
 "nbformat_minor": 4
}
