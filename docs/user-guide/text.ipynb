{
 "cells": [
  {
   "cell_type": "markdown",
   "metadata": {},
   "source": [
    "# Text Operator"
   ]
  },
  {
   "cell_type": "code",
   "execution_count": 1,
   "metadata": {},
   "outputs": [
    {
     "name": "stderr",
     "output_type": "stream",
     "text": [
      "INFO:imagecat.operator.render:Task /text text:\n",
      "INFO:imagecat.operator.render:  anchor: mm\n",
      "INFO:imagecat.operator.render:  fontindex: 0\n",
      "INFO:imagecat.operator.render:  fontname: /Users/tshead/src/imagecat/imagecat/LeagueSpartan-SemiBold.ttf\n",
      "INFO:imagecat.operator.render:  fontsize: 0.33h\n",
      "INFO:imagecat.operator.render:  layer: A\n",
      "INFO:imagecat.operator.render:  position: ('0.5w', '0.5h')\n",
      "INFO:imagecat.operator.render:  res: [256 256]\n",
      "INFO:imagecat.operator.render:  string: Text!\n",
      "INFO:imagecat.operator.render:  output: Image(A: Layer(Role.ALPHA 256x256x1 float16))\n"
     ]
    }
   ],
   "source": [
    "import logging\n",
    "logging.basicConfig(level=logging.INFO)\n",
    "\n",
    "import graphcat\n",
    "import imagecat\n",
    "\n",
    "graph = graphcat.StaticGraph()\n",
    "imagecat.add_task(graph, \"/text\", imagecat.operator.render.text)\n",
    "image = graph.output(\"/text\")"
   ]
  },
  {
   "cell_type": "code",
   "execution_count": 2,
   "metadata": {
    "tags": [
     "nbsphinx-thumbnail"
    ]
   },
   "outputs": [
    {
     "data": {
      "image/png": "[encoded data removed]",
      "text/plain": [
       "Layer(Role.ALPHA 256x256x1 float16)"
      ]
     },
     "execution_count": 2,
     "metadata": {},
     "output_type": "execute_result"
    }
   ],
   "source": [
    "image.layers[\"A\"]"
   ]
  }
 ],
 "metadata": {
  "celltoolbar": "Tags",
  "kernelspec": {
   "display_name": "Python 3",
   "language": "python",
   "name": "python3"
  },
  "language_info": {
   "codemirror_mode": {
    "name": "ipython",
    "version": 3
   },
   "file_extension": ".py",
   "mimetype": "text/x-python",
   "name": "python",
   "nbconvert_exporter": "python",
   "pygments_lexer": "ipython3",
   "version": "3.7.7"
  }
 },
 "nbformat": 4,
 "nbformat_minor": 4
}
