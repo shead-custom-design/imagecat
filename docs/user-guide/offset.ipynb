{
 "cells": [
  {
   "cell_type": "markdown",
   "metadata": {},
   "source": [
    "# Offset Operator"
   ]
  },
  {
   "cell_type": "code",
   "execution_count": 1,
   "metadata": {
    "scrolled": true
   },
   "outputs": [
    {
     "data": {
      "image/svg+xml": [
       "<svg height=\"54pt\" viewBox=\"0.00 0.00 247.20 54.00\" width=\"247pt\" xmlns=\"http://www.w3.org/2000/svg\" xmlns:xlink=\"http://www.w3.org/1999/xlink\">\n",
       "<g class=\"graph\" id=\"graph0\" transform=\"scale(1 1) rotate(0) translate(4 50)\">\n",
       "<polygon fill=\"white\" points=\"-4,4 -4,-50 243.2,-50 243.2,4 -4,4\" stroke=\"transparent\"/>\n",
       "<!-- /text -->\n",
       "<g class=\"node\" id=\"node1\">\n",
       "<title>/text</title>\n",
       "<polygon fill=\"white\" points=\"140.61,-14 111.61,-14 111.61,0 140.61,0 140.61,-14\" stroke=\"#494744\"/>\n",
       "<text fill=\"#494744\" font-family=\"Helvetica,sans-Serif\" font-size=\"8.00\" text-anchor=\"middle\" x=\"126.11\" y=\"-4.6\">/text</text>\n",
       "</g>\n",
       "<!-- /offset -->\n",
       "<g class=\"node\" id=\"node2\">\n",
       "<title>/offset</title>\n",
       "<polygon fill=\"white\" points=\"239.03,-30 205.72,-30 205.72,-16 239.03,-16 239.03,-30\" stroke=\"#494744\"/>\n",
       "<text fill=\"#494744\" font-family=\"Helvetica,sans-Serif\" font-size=\"8.00\" text-anchor=\"middle\" x=\"222.38\" y=\"-20.6\">/offset</text>\n",
       "</g>\n",
       "<!-- /text&#45;&gt;/offset -->\n",
       "<g class=\"edge\" id=\"edge1\">\n",
       "<title>/text-&gt;/offset</title>\n",
       "<path d=\"M140.91,-6.27C153.89,-5.91 173.78,-6.19 190.55,-10 193.08,-10.57 195.66,-11.34 198.2,-12.22\" fill=\"none\" stroke=\"#494744\"/>\n",
       "<polygon fill=\"#494744\" points=\"197.02,-15.52 207.6,-15.97 199.61,-9.01 197.02,-15.52\" stroke=\"#494744\"/>\n",
       "<text font-family=\"Helvetica,sans-Serif\" font-size=\"8.00\" text-anchor=\"middle\" x=\"179.66\" y=\"-11.6\">image</text>\n",
       "</g>\n",
       "<!-- /text/string -->\n",
       "<g class=\"node\" id=\"node3\">\n",
       "<title>/text/string</title>\n",
       "<polygon fill=\"white\" points=\"48.85,-14 0.05,-14 0.05,0 48.85,0 48.85,-14\" stroke=\"#494744\"/>\n",
       "<text fill=\"#494744\" font-family=\"Helvetica,sans-Serif\" font-size=\"8.00\" text-anchor=\"middle\" x=\"24.45\" y=\"-4.6\">/text/string</text>\n",
       "</g>\n",
       "<!-- /text/string&#45;&gt;/text -->\n",
       "<g class=\"edge\" id=\"edge2\">\n",
       "<title>/text/string-&gt;/text</title>\n",
       "<path d=\"M49.07,-7C64.88,-7 85.61,-7 101.43,-7\" fill=\"none\" stroke=\"#494744\"/>\n",
       "<polygon fill=\"#494744\" points=\"101.48,-10.5 111.48,-7 101.48,-3.5 101.48,-10.5\" stroke=\"#494744\"/>\n",
       "<text font-family=\"Helvetica,sans-Serif\" font-size=\"8.00\" text-anchor=\"middle\" x=\"73.68\" y=\"-8.6\">string</text>\n",
       "</g>\n",
       "<!-- /offset/offset -->\n",
       "<g class=\"node\" id=\"node4\">\n",
       "<title>/offset/offset</title>\n",
       "<polygon fill=\"white\" points=\"153.91,-46 98.32,-46 98.32,-32 153.91,-32 153.91,-46\" stroke=\"#494744\"/>\n",
       "<text fill=\"#494744\" font-family=\"Helvetica,sans-Serif\" font-size=\"8.00\" text-anchor=\"middle\" x=\"126.11\" y=\"-36.6\">/offset/offset</text>\n",
       "</g>\n",
       "<!-- /offset/offset&#45;&gt;/offset -->\n",
       "<g class=\"edge\" id=\"edge3\">\n",
       "<title>/offset/offset-&gt;/offset</title>\n",
       "<path d=\"M153.87,-34.46C166.88,-32.25 182.46,-29.61 195.37,-27.41\" fill=\"none\" stroke=\"#494744\"/>\n",
       "<polygon fill=\"#494744\" points=\"196.2,-30.82 205.47,-25.7 195.03,-23.92 196.2,-30.82\" stroke=\"#494744\"/>\n",
       "<text font-family=\"Helvetica,sans-Serif\" font-size=\"8.00\" text-anchor=\"middle\" x=\"179.66\" y=\"-32.6\">offset</text>\n",
       "</g>\n",
       "</g>\n",
       "</svg>"
      ],
      "text/plain": [
       "<IPython.core.display.SVG object>"
      ]
     },
     "metadata": {},
     "output_type": "display_data"
    },
    {
     "name": "stderr",
     "output_type": "stream",
     "text": [
      "INFO:imagecat.operator.render:Task /text text:\n",
      "INFO:imagecat.operator.render:  anchor: mm\n",
      "INFO:imagecat.operator.render:  fontindex: 0\n",
      "INFO:imagecat.operator.render:  fontname: /Users/tshead/src/imagecat/imagecat/LeagueSpartan-SemiBold.ttf\n",
      "INFO:imagecat.operator.render:  fontsize: 0.33h\n",
      "INFO:imagecat.operator.render:  layer: A\n",
      "INFO:imagecat.operator.render:  position: ('0.5w', '0.5h')\n",
      "INFO:imagecat.operator.render:  res: [256 256]\n",
      "INFO:imagecat.operator.render:  string: Offset!\n",
      "INFO:imagecat.operator.render:  output: Image(A: Layer(Role.ALPHA 256x256x1 float16))\n",
      "INFO:imagecat.operator.transform:Task /offset offset:\n",
      "INFO:imagecat.operator.transform:  layers: *\n",
      "INFO:imagecat.operator.transform:  offset: ('0.5w', 0)\n",
      "INFO:imagecat.operator.transform:  output: Image(A: Layer(Role.ALPHA 256x256x1 float16))\n"
     ]
    }
   ],
   "source": [
    "import logging\n",
    "logging.basicConfig(level=logging.INFO)\n",
    "\n",
    "import graphcat.notebook\n",
    "import imagecat.notebook\n",
    "\n",
    "graph = graphcat.StaticGraph()\n",
    "imagecat.add_task(graph, \"/text\", imagecat.operator.render.text, string=\"Offset!\")\n",
    "imagecat.add_task(graph, \"/offset\", imagecat.operator.transform.offset, offset=(\"0.5w\", 0))\n",
    "imagecat.set_links(graph, \"/text\", (\"/offset\", \"image\"))\n",
    "\n",
    "graphcat.notebook.display(graph)\n",
    "image = graph.output(\"/offset\")"
   ]
  },
  {
   "cell_type": "code",
   "execution_count": 2,
   "metadata": {
    "tags": [
     "nbsphinx-thumbnail"
    ]
   },
   "outputs": [
    {
     "data": {
      "image/png": "[encoded data removed]",
      "text/plain": [
       "Layer(Role.ALPHA 256x256x1 float16)"
      ]
     },
     "execution_count": 2,
     "metadata": {},
     "output_type": "execute_result"
    }
   ],
   "source": [
    "image.layers[\"A\"]"
   ]
  }
 ],
 "metadata": {
  "celltoolbar": "Tags",
  "kernelspec": {
   "display_name": "Python 3",
   "language": "python",
   "name": "python3"
  },
  "language_info": {
   "codemirror_mode": {
    "name": "ipython",
    "version": 3
   },
   "file_extension": ".py",
   "mimetype": "text/x-python",
   "name": "python",
   "nbconvert_exporter": "python",
   "pygments_lexer": "ipython3",
   "version": "3.7.7"
  }
 },
 "nbformat": 4,
 "nbformat_minor": 4
}
