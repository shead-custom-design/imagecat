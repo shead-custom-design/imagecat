{
 "cells": [
  {
   "cell_type": "markdown",
   "metadata": {},
   "source": [
    "# Gaussian Operator"
   ]
  },
  {
   "cell_type": "code",
   "execution_count": 1,
   "metadata": {},
   "outputs": [
    {
     "data": {
      "image/svg+xml": [
       "<svg height=\"126pt\" viewBox=\"0.00 0.00 177.48 126.00\" width=\"177pt\" xmlns=\"http://www.w3.org/2000/svg\" xmlns:xlink=\"http://www.w3.org/1999/xlink\">\n",
       "<g class=\"graph\" id=\"graph0\" transform=\"scale(1 1) rotate(0) translate(4 122)\">\n",
       "<title>%3</title>\n",
       "<polygon fill=\"white\" points=\"-4,4 -4,-122 173.477,-122 173.477,4 -4,4\" stroke=\"none\"/>\n",
       "<!-- /text -->\n",
       "<g class=\"node\" id=\"node1\"><title>/text</title>\n",
       "<polygon fill=\"white\" points=\"117.629,-66 88.6289,-66 88.6289,-52 117.629,-52 117.629,-66\" stroke=\"#494744\"/>\n",
       "<text fill=\"#494744\" font-family=\"Helvetica,sans-Serif\" font-size=\"8.00\" text-anchor=\"middle\" x=\"103.129\" y=\"-56.6\">/text</text>\n",
       "</g>\n",
       "<!-- /gaussian -->\n",
       "<g class=\"node\" id=\"node2\"><title>/gaussian</title>\n",
       "<polygon fill=\"white\" points=\"86.3757,-14 39.8822,-14 39.8822,-0 86.3757,-0 86.3757,-14\" stroke=\"#494744\"/>\n",
       "<text fill=\"#494744\" font-family=\"Helvetica,sans-Serif\" font-size=\"8.00\" text-anchor=\"middle\" x=\"63.1289\" y=\"-4.6\">/gaussian</text>\n",
       "</g>\n",
       "<!-- /text&#45;&gt;/gaussian -->\n",
       "<g class=\"edge\" id=\"edge1\"><title>/text-&gt;/gaussian</title>\n",
       "<path d=\"M98.2241,-51.869C92.3464,-44.5218 82.31,-31.9763 74.4718,-22.1786\" fill=\"none\" stroke=\"#494744\"/>\n",
       "<polygon fill=\"#494744\" points=\"77.0538,-19.8034 68.0738,-14.1811 71.5877,-24.1763 77.0538,-19.8034\" stroke=\"#494744\"/>\n",
       "<text font-family=\"Helvetica,sans-Serif\" font-size=\"8.00\" text-anchor=\"middle\" x=\"97.0234\" y=\"-30.6\">image</text>\n",
       "</g>\n",
       "<!-- /text/text -->\n",
       "<g class=\"node\" id=\"node3\"><title>/text/text</title>\n",
       "<polygon fill=\"white\" points=\"89.3639,-118 46.8939,-118 46.8939,-104 89.3639,-104 89.3639,-118\" stroke=\"#494744\"/>\n",
       "<text fill=\"#494744\" font-family=\"Helvetica,sans-Serif\" font-size=\"8.00\" text-anchor=\"middle\" x=\"68.1289\" y=\"-108.6\">/text/text</text>\n",
       "</g>\n",
       "<!-- /text/text&#45;&gt;/text -->\n",
       "<g class=\"edge\" id=\"edge2\"><title>/text/text-&gt;/text</title>\n",
       "<path d=\"M72.4206,-103.869C77.5112,-96.5968 86.1666,-84.2318 92.9933,-74.4794\" fill=\"none\" stroke=\"#494744\"/>\n",
       "<polygon fill=\"#494744\" points=\"95.9348,-76.3806 98.8021,-66.1811 90.2001,-72.3663 95.9348,-76.3806\" stroke=\"#494744\"/>\n",
       "<text font-family=\"Helvetica,sans-Serif\" font-size=\"8.00\" text-anchor=\"middle\" x=\"94.5762\" y=\"-82.6\">text</text>\n",
       "</g>\n",
       "<!-- /text/fontname -->\n",
       "<g class=\"node\" id=\"node4\"><title>/text/fontname</title>\n",
       "<polygon fill=\"white\" points=\"169.325,-118 106.933,-118 106.933,-104 169.325,-104 169.325,-118\" stroke=\"#494744\"/>\n",
       "<text fill=\"#494744\" font-family=\"Helvetica,sans-Serif\" font-size=\"8.00\" text-anchor=\"middle\" x=\"138.129\" y=\"-108.6\">/text/fontname</text>\n",
       "</g>\n",
       "<!-- /text/fontname&#45;&gt;/text -->\n",
       "<g class=\"edge\" id=\"edge3\"><title>/text/fontname-&gt;/text</title>\n",
       "<path d=\"M133.837,-103.869C128.747,-96.5968 120.091,-84.2318 113.264,-74.4794\" fill=\"none\" stroke=\"#494744\"/>\n",
       "<polygon fill=\"#494744\" points=\"116.058,-72.3663 107.456,-66.1811 110.323,-76.3806 116.058,-72.3663\" stroke=\"#494744\"/>\n",
       "<text font-family=\"Helvetica,sans-Serif\" font-size=\"8.00\" text-anchor=\"middle\" x=\"138.807\" y=\"-82.6\">fontname</text>\n",
       "</g>\n",
       "<!-- /gaussian/radius -->\n",
       "<g class=\"node\" id=\"node5\"><title>/gaussian/radius</title>\n",
       "<polygon fill=\"white\" points=\"70.3872,-66 -0.129381,-66 -0.129381,-52 70.3872,-52 70.3872,-66\" stroke=\"#494744\"/>\n",
       "<text fill=\"#494744\" font-family=\"Helvetica,sans-Serif\" font-size=\"8.00\" text-anchor=\"middle\" x=\"35.1289\" y=\"-56.6\">/gaussian/radius</text>\n",
       "</g>\n",
       "<!-- /gaussian/radius&#45;&gt;/gaussian -->\n",
       "<g class=\"edge\" id=\"edge4\"><title>/gaussian/radius-&gt;/gaussian</title>\n",
       "<path d=\"M37.3191,-51.5642C39.488,-45.5413 43.0935,-36.3887 47.3398,-29 48.5586,-26.8792 49.9596,-24.7255 51.413,-22.6457\" fill=\"none\" stroke=\"#494744\"/>\n",
       "<polygon fill=\"#494744\" points=\"54.4626,-24.4166 57.716,-14.3336 48.8849,-20.187 54.4626,-24.4166\" stroke=\"#494744\"/>\n",
       "<text font-family=\"Helvetica,sans-Serif\" font-size=\"8.00\" text-anchor=\"middle\" x=\"59.0234\" y=\"-30.6\">radius</text>\n",
       "</g>\n",
       "</g>\n",
       "</svg>"
      ],
      "text/plain": [
       "<IPython.core.display.SVG object>"
      ]
     },
     "metadata": {},
     "output_type": "display_data"
    }
   ],
   "source": [
    "import graphcat.notebook\n",
    "import imagecat.notebook\n",
    "\n",
    "graph = graphcat.Graph()\n",
    "imagecat.add_task(graph, \"/text\", imagecat.operator.text, text=\"Blur!\", fontname=\"../../artwork/LeagueSpartan-SemiBold.ttf\")\n",
    "imagecat.add_task(graph, \"/gaussian\", imagecat.operator.gaussian, radius=[\"5px\", \"5px\"])\n",
    "imagecat.set_links(graph, \"/text\", (\"/gaussian\", \"image\"))\n",
    "\n",
    "graphcat.notebook.display(graph)"
   ]
  },
  {
   "cell_type": "code",
   "execution_count": 2,
   "metadata": {},
   "outputs": [
    {
     "data": {
      "text/html": [
       "<div style='display: flex; flex-flow: row wrap; text-align: center'><figure style='margin: 5px'><image src='data:image/png;base64,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' style='width:None; height:None; box-shadow: 4px 4px 6px rgba(0, 0, 0, 0.5)'/><figcaption>A <small>256&times;256&times;1 float16 Role.NONE</small></figcaption></figure></div>"
      ],
      "text/plain": [
       "<IPython.core.display.HTML object>"
      ]
     },
     "metadata": {},
     "output_type": "display_data"
    }
   ],
   "source": [
    "imagecat.notebook.display(graph.output(\"/gaussian\"))"
   ]
  }
 ],
 "metadata": {
  "celltoolbar": "Edit Metadata",
  "kernelspec": {
   "display_name": "Python 3",
   "language": "python",
   "name": "python3"
  },
  "language_info": {
   "codemirror_mode": {
    "name": "ipython",
    "version": 3
   },
   "file_extension": ".py",
   "mimetype": "text/x-python",
   "name": "python",
   "nbconvert_exporter": "python",
   "pygments_lexer": "ipython3",
   "version": "3.7.7"
  }
 },
 "nbformat": 4,
 "nbformat_minor": 4
}
