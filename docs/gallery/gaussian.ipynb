{
 "cells": [
  {
   "cell_type": "markdown",
   "metadata": {},
   "source": [
    "# Gaussian Operator"
   ]
  },
  {
   "cell_type": "code",
   "execution_count": 1,
   "metadata": {},
   "outputs": [
    {
     "data": {
      "image/svg+xml": [
       "<svg height=\"54pt\" viewBox=\"0.00 0.00 274.76 54.00\" width=\"275pt\" xmlns=\"http://www.w3.org/2000/svg\" xmlns:xlink=\"http://www.w3.org/1999/xlink\">\n",
       "<g class=\"graph\" id=\"graph0\" transform=\"scale(1 1) rotate(0) translate(4 50)\">\n",
       "<polygon fill=\"white\" points=\"-4,4 -4,-50 270.76,-50 270.76,4 -4,4\" stroke=\"transparent\"/>\n",
       "<!-- /text -->\n",
       "<g class=\"node\" id=\"node1\">\n",
       "<title>/text</title>\n",
       "<polygon fill=\"white\" points=\"148.09,-14 119.09,-14 119.09,0 148.09,0 148.09,-14\" stroke=\"#494744\"/>\n",
       "<text fill=\"#494744\" font-family=\"Helvetica,sans-Serif\" font-size=\"8.00\" text-anchor=\"middle\" x=\"133.59\" y=\"-4.6\">/text</text>\n",
       "</g>\n",
       "<!-- /gaussian -->\n",
       "<g class=\"node\" id=\"node2\">\n",
       "<title>/gaussian</title>\n",
       "<polygon fill=\"white\" points=\"266.88,-30 220.39,-30 220.39,-16 266.88,-16 266.88,-30\" stroke=\"#494744\"/>\n",
       "<text fill=\"#494744\" font-family=\"Helvetica,sans-Serif\" font-size=\"8.00\" text-anchor=\"middle\" x=\"243.63\" y=\"-20.6\">/gaussian</text>\n",
       "</g>\n",
       "<!-- /text&#45;&gt;/gaussian -->\n",
       "<g class=\"edge\" id=\"edge1\">\n",
       "<title>/text-&gt;/gaussian</title>\n",
       "<path d=\"M148.33,-6.39C162.71,-6.04 185.91,-6.24 205.51,-10 209.04,-10.68 212.68,-11.62 216.25,-12.7\" fill=\"none\" stroke=\"#494744\"/>\n",
       "<polygon fill=\"#494744\" points=\"215.33,-16.09 225.92,-15.97 217.57,-9.45 215.33,-16.09\" stroke=\"#494744\"/>\n",
       "<text font-family=\"Helvetica,sans-Serif\" font-size=\"8.00\" text-anchor=\"middle\" x=\"194.62\" y=\"-11.6\">image</text>\n",
       "</g>\n",
       "<!-- /text/string -->\n",
       "<g class=\"node\" id=\"node3\">\n",
       "<title>/text/string</title>\n",
       "<polygon fill=\"white\" points=\"48.85,-14 0.05,-14 0.05,0 48.85,0 48.85,-14\" stroke=\"#494744\"/>\n",
       "<text fill=\"#494744\" font-family=\"Helvetica,sans-Serif\" font-size=\"8.00\" text-anchor=\"middle\" x=\"24.45\" y=\"-4.6\">/text/string</text>\n",
       "</g>\n",
       "<!-- /text/string&#45;&gt;/text -->\n",
       "<g class=\"edge\" id=\"edge2\">\n",
       "<title>/text/string-&gt;/text</title>\n",
       "<path d=\"M48.96,-7C66.72,-7 90.98,-7 108.8,-7\" fill=\"none\" stroke=\"#494744\"/>\n",
       "<polygon fill=\"#494744\" points=\"108.95,-10.5 118.95,-7 108.95,-3.5 108.95,-10.5\" stroke=\"#494744\"/>\n",
       "<text font-family=\"Helvetica,sans-Serif\" font-size=\"8.00\" text-anchor=\"middle\" x=\"73.68\" y=\"-8.6\">string</text>\n",
       "</g>\n",
       "<!-- /gaussian/radius -->\n",
       "<g class=\"node\" id=\"node4\">\n",
       "<title>/gaussian/radius</title>\n",
       "<polygon fill=\"white\" points=\"168.85,-46 98.34,-46 98.34,-32 168.85,-32 168.85,-46\" stroke=\"#494744\"/>\n",
       "<text fill=\"#494744\" font-family=\"Helvetica,sans-Serif\" font-size=\"8.00\" text-anchor=\"middle\" x=\"133.59\" y=\"-36.6\">/gaussian/radius</text>\n",
       "</g>\n",
       "<!-- /gaussian/radius&#45;&gt;/gaussian -->\n",
       "<g class=\"edge\" id=\"edge3\">\n",
       "<title>/gaussian/radius-&gt;/gaussian</title>\n",
       "<path d=\"M168.78,-33.94C182.05,-31.97 197.17,-29.73 210.26,-27.79\" fill=\"none\" stroke=\"#494744\"/>\n",
       "<polygon fill=\"#494744\" points=\"210.87,-31.24 220.25,-26.32 209.84,-24.32 210.87,-31.24\" stroke=\"#494744\"/>\n",
       "<text font-family=\"Helvetica,sans-Serif\" font-size=\"8.00\" text-anchor=\"middle\" x=\"194.62\" y=\"-32.6\">radius</text>\n",
       "</g>\n",
       "</g>\n",
       "</svg>"
      ],
      "text/plain": [
       "<IPython.core.display.SVG object>"
      ]
     },
     "metadata": {},
     "output_type": "display_data"
    },
    {
     "name": "stderr",
     "output_type": "stream",
     "text": [
      "INFO:imagecat.operator.render:Task /text text:\n",
      "INFO:imagecat.operator.render:  anchor: mm\n",
      "INFO:imagecat.operator.render:  fontindex: 0\n",
      "INFO:imagecat.operator.render:  fontname: /Users/tshead/src/imagecat/imagecat/LeagueSpartan-SemiBold.ttf\n",
      "INFO:imagecat.operator.render:  fontsize: 0.33h\n",
      "INFO:imagecat.operator.render:  layer: A\n",
      "INFO:imagecat.operator.render:  position: ('0.5w', '0.5h')\n",
      "INFO:imagecat.operator.render:  res: [256 256]\n",
      "INFO:imagecat.operator.render:  string: Blur!\n",
      "INFO:imagecat.operator.render:  output: Image(A: Layer(Role.ALPHA 256x256x1 float16))\n",
      "INFO:imagecat.operator.blur:Task /gaussian gaussian:\n",
      "INFO:imagecat.operator.blur:  layer: None\n",
      "INFO:imagecat.operator.blur:  radius: ['5px', '5px']\n",
      "INFO:imagecat.operator.blur:  output: Image(A: Layer(Role.ALPHA 256x256x1 float16))\n"
     ]
    }
   ],
   "source": [
    "import logging\n",
    "logging.basicConfig(level=logging.INFO)\n",
    "\n",
    "import graphcat.notebook\n",
    "import imagecat.notebook\n",
    "\n",
    "graph = graphcat.StaticGraph()\n",
    "imagecat.add_task(graph, \"/text\", imagecat.operator.render.text, string=\"Blur!\")\n",
    "imagecat.add_task(graph, \"/gaussian\", imagecat.operator.blur.gaussian, radius=[\"5px\", \"5px\"])\n",
    "imagecat.set_links(graph, \"/text\", (\"/gaussian\", \"image\"))\n",
    "\n",
    "graphcat.notebook.display(graph)\n",
    "image = graph.output(\"/gaussian\")"
   ]
  },
  {
   "cell_type": "code",
   "execution_count": 2,
   "metadata": {
    "tags": [
     "nbsphinx-thumbnail"
    ]
   },
   "outputs": [
    {
     "data": {
      "image/png": "[encoded data removed]",
      "text/plain": [
       "Layer(Role.ALPHA 256x256x1 float16)"
      ]
     },
     "execution_count": 2,
     "metadata": {},
     "output_type": "execute_result"
    }
   ],
   "source": [
    "image.layers[\"A\"]"
   ]
  }
 ],
 "metadata": {
  "celltoolbar": "Tags",
  "kernelspec": {
   "display_name": "Python 3",
   "language": "python",
   "name": "python3"
  },
  "language_info": {
   "codemirror_mode": {
    "name": "ipython",
    "version": 3
   },
   "file_extension": ".py",
   "mimetype": "text/x-python",
   "name": "python",
   "nbconvert_exporter": "python",
   "pygments_lexer": "ipython3",
   "version": "3.7.7"
  }
 },
 "nbformat": 4,
 "nbformat_minor": 4
}
