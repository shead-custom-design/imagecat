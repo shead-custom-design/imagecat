{
 "cells": [
  {
   "cell_type": "markdown",
   "metadata": {},
   "source": [
    "# Fill Operator"
   ]
  },
  {
   "cell_type": "code",
   "execution_count": 1,
   "metadata": {},
   "outputs": [
    {
     "name": "stderr",
     "output_type": "stream",
     "text": [
      "INFO:imagecat.operator.color:Task /fill fill:\n",
      "INFO:imagecat.operator.color:  layer: C\n",
      "INFO:imagecat.operator.color:  res: [256 256]\n",
      "INFO:imagecat.operator.color:  role: Role.RGB\n",
      "INFO:imagecat.operator.color:  values: [1.  0.5 0. ]\n",
      "INFO:imagecat.operator.color:  output: Image(C: Layer(Role.RGB 256x256x3 float16))\n"
     ]
    }
   ],
   "source": [
    "import logging\n",
    "logging.basicConfig(level=logging.INFO)\n",
    "\n",
    "import graphcat\n",
    "import imagecat\n",
    "\n",
    "# Create a color fill.\n",
    "graph = graphcat.StaticGraph()\n",
    "imagecat.add_task(graph, \"/fill\", imagecat.operator.color.fill, values=[1, 0.5, 0])\n",
    "image = graph.output(\"/fill\")"
   ]
  },
  {
   "cell_type": "code",
   "execution_count": 2,
   "metadata": {
    "tags": [
     "nbsphinx-thumbnail"
    ]
   },
   "outputs": [
    {
     "data": {
      "image/png": "[encoded data removed]",
      "text/plain": [
       "Layer(Role.RGB 256x256x3 float16)"
      ]
     },
     "execution_count": 2,
     "metadata": {},
     "output_type": "execute_result"
    }
   ],
   "source": [
    "image.layers[\"C\"]"
   ]
  },
  {
   "cell_type": "code",
   "execution_count": 3,
   "metadata": {},
   "outputs": [
    {
     "name": "stderr",
     "output_type": "stream",
     "text": [
      "INFO:imagecat.operator.color:Task /fill2 fill:\n",
      "INFO:imagecat.operator.color:  layer: A\n",
      "INFO:imagecat.operator.color:  res: [256 256]\n",
      "INFO:imagecat.operator.color:  role: Role.ALPHA\n",
      "INFO:imagecat.operator.color:  values: [0]\n",
      "INFO:imagecat.operator.color:  output: Image(A: Layer(Role.ALPHA 256x256x1 float16))\n"
     ]
    }
   ],
   "source": [
    "# Create a grayscale fill.\n",
    "imagecat.add_task(graph, \"/fill2\", imagecat.operator.color.fill, layer=\"A\", values=[0], role=imagecat.data.Role.ALPHA)\n",
    "image = graph.output(\"/fill2\")"
   ]
  },
  {
   "cell_type": "code",
   "execution_count": 4,
   "metadata": {},
   "outputs": [
    {
     "data": {
      "image/png": "[encoded data removed]",
      "text/plain": [
       "Layer(Role.ALPHA 256x256x1 float16)"
      ]
     },
     "execution_count": 4,
     "metadata": {},
     "output_type": "execute_result"
    }
   ],
   "source": [
    "image.layers[\"A\"]"
   ]
  }
 ],
 "metadata": {
  "celltoolbar": "Tags",
  "kernelspec": {
   "display_name": "Python 3",
   "language": "python",
   "name": "python3"
  },
  "language_info": {
   "codemirror_mode": {
    "name": "ipython",
    "version": 3
   },
   "file_extension": ".py",
   "mimetype": "text/x-python",
   "name": "python",
   "nbconvert_exporter": "python",
   "pygments_lexer": "ipython3",
   "version": "3.7.7"
  }
 },
 "nbformat": 4,
 "nbformat_minor": 4
}
