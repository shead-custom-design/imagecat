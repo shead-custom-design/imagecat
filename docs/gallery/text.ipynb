{
 "cells": [
  {
   "cell_type": "markdown",
   "metadata": {},
   "source": [
    "# Text Operator"
   ]
  },
  {
   "cell_type": "code",
   "execution_count": 1,
   "metadata": {},
   "outputs": [
    {
     "data": {
      "image/svg+xml": [
       "<svg height=\"74pt\" viewBox=\"0.00 0.00 64.91 74.00\" width=\"65pt\" xmlns=\"http://www.w3.org/2000/svg\" xmlns:xlink=\"http://www.w3.org/1999/xlink\">\n",
       "<g class=\"graph\" id=\"graph0\" transform=\"scale(1 1) rotate(0) translate(4 70)\">\n",
       "<title>%3</title>\n",
       "<polygon fill=\"white\" points=\"-4,4 -4,-70 60.9141,-70 60.9141,4 -4,4\" stroke=\"none\"/>\n",
       "<!-- /text -->\n",
       "<g class=\"node\" id=\"node1\"><title>/text</title>\n",
       "<polygon fill=\"white\" points=\"42.957,-14 13.957,-14 13.957,-0 42.957,-0 42.957,-14\" stroke=\"#494744\"/>\n",
       "<text fill=\"#494744\" font-family=\"Helvetica,sans-Serif\" font-size=\"8.00\" text-anchor=\"middle\" x=\"28.457\" y=\"-4.6\">/text</text>\n",
       "</g>\n",
       "<!-- /text/position -->\n",
       "<g class=\"node\" id=\"node2\"><title>/text/position</title>\n",
       "<polygon fill=\"white\" points=\"56.8712,-66 0.042904,-66 0.042904,-52 56.8712,-52 56.8712,-66\" stroke=\"#494744\"/>\n",
       "<text fill=\"#494744\" font-family=\"Helvetica,sans-Serif\" font-size=\"8.00\" text-anchor=\"middle\" x=\"28.457\" y=\"-56.6\">/text/position</text>\n",
       "</g>\n",
       "<!-- /text/position&#45;&gt;/text -->\n",
       "<g class=\"edge\" id=\"edge1\"><title>/text/position-&gt;/text</title>\n",
       "<path d=\"M28.457,-51.869C28.457,-45.0466 28.457,-33.742 28.457,-24.3173\" fill=\"none\" stroke=\"#494744\"/>\n",
       "<polygon fill=\"#494744\" points=\"31.9571,-24.1811 28.457,-14.1811 24.9571,-24.1812 31.9571,-24.1811\" stroke=\"#494744\"/>\n",
       "<text font-family=\"Helvetica,sans-Serif\" font-size=\"8.00\" text-anchor=\"middle\" x=\"42.2441\" y=\"-30.6\">position</text>\n",
       "</g>\n",
       "</g>\n",
       "</svg>"
      ],
      "text/plain": [
       "<IPython.core.display.SVG object>"
      ]
     },
     "metadata": {},
     "output_type": "display_data"
    },
    {
     "data": {
      "text/html": [
       "<div style='display: flex; flex-flow: row wrap; text-align: center'><figure style='margin: 5px'><image src='data:image/png;base64,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' style='width:None; height:None; box-shadow: 4px 4px 6px rgba(0, 0, 0, 0.5)'/><figcaption>A <small>256&times;256&times;1 float16 Role.NONE</small></figcaption></figure></div>"
      ],
      "text/plain": [
       "<IPython.core.display.HTML object>"
      ]
     },
     "metadata": {},
     "output_type": "display_data"
    }
   ],
   "source": [
    "import graphcat.notebook\n",
    "import imagecat.notebook\n",
    "\n",
    "graph = graphcat.Graph()\n",
    "imagecat.add_task(graph, \"/text\", imagecat.operator.text, position=(\"0.5w\", \"0.25h\"))\n",
    "\n",
    "graphcat.notebook.display(graph)\n",
    "imagecat.notebook.display(graph.output(\"/text\"))"
   ]
  },
  {
   "cell_type": "code",
   "execution_count": null,
   "metadata": {},
   "outputs": [],
   "source": []
  }
 ],
 "metadata": {
  "kernelspec": {
   "display_name": "Python 3",
   "language": "python",
   "name": "python3"
  },
  "language_info": {
   "codemirror_mode": {
    "name": "ipython",
    "version": 3
   },
   "file_extension": ".py",
   "mimetype": "text/x-python",
   "name": "python",
   "nbconvert_exporter": "python",
   "pygments_lexer": "ipython3",
   "version": "3.7.7"
  }
 },
 "nbformat": 4,
 "nbformat_minor": 4
}
